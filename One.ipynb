{
 "cells": [
  {
   "cell_type": "markdown",
   "id": "33b4b8bd-76b5-46ac-916c-5398784e9fc2",
   "metadata": {},
   "source": [
    "<a id=\"Top\"></a>"
   ]
  },
  {
   "cell_type": "markdown",
   "id": "8126d933-1a05-49a3-8989-a13b932f7497",
   "metadata": {
    "tags": []
   },
   "source": [
    "# Client Product Interest Prediction based on Machine Learning Classification "
   ]
  },
  {
   "cell_type": "markdown",
   "id": "280011b4-1007-4ccb-8c38-34ed0fbf25cc",
   "metadata": {
    "tags": [],
    "toc-hr-collapsed": true
   },
   "source": [
    "## Contents\n",
    "1. [Introduction](#Intro)\n",
    "2. [Source](#Source) \n",
    "\n",
    "#### Part 1: Analysis and Preparation of the Model\n",
    "\n",
    "3. [Exploratory Data Analysis](#EDA)\n",
    "    1. [Preliminary Examination](#PE)\n",
    "    2. [Data Cleaning and Preparation, Feature Selection](#DC)\n",
    "    3. [Visualization](#viz)\n",
    "5. [Feature Engineering]\n",
    "6. [Feature Selection]\n",
    "\n",
    "#### Part 2: Machine Learning\n",
    "\n",
    "7. [Training](#ML)\n",
    "8. [Testing]\n",
    "9. [Conclusions]\n",
    "10. [Relevant Research]"
   ]
  },
  {
   "cell_type": "markdown",
   "id": "dd461eab-4ecc-46cc-9e2d-3cd4455e83a3",
   "metadata": {},
   "source": [
    "<a id = \"Intro\"></a>"
   ]
  },
  {
   "cell_type": "markdown",
   "id": "f307d8bb-2ac1-4026-bcdc-d559c22a0248",
   "metadata": {
    "tags": [],
    "toc-hr-collapsed": true
   },
   "source": [
    "### Introduction \n",
    "When a business seeks to increase revenue, a myriad of strategies can be employed. One technique is to sell more to current clientelle. The advantage of this approach is that the leads are already captured and are in a position of trust in the vendor, and it is therefore not a random cold-calling situation. The challenge, however --and this is not unique to this scenario, but applies in any marketing campaign-- is balancing the time and money needed for the marketing effort vs the actual resultant revenue. Ah, if only there was a way to optimize it! To know which customers would most likely be interested in the product, so that we could market to them directly instead of blanketing the entire client base in the usual hit-and-miss fashion! To reduce the hassle, the headache, the aggravation, the woes! Is there a way to know? Well, in 2021, there is! And it does not involve calling your shaman uncle from New Orleans to do voodoo sourcery. We can just use machine learning.\n",
    "\n",
    "#### Overarching Goal\n",
    "Can we use Machine Learning to predict which customers at this bank would be interested in buying a credit card product based on a set of characteristics? In this project, I analyze the data, prepare it, and build the ML model which will make this prediction. \n",
    "\n",
    "#### Defined objectives\n",
    "1. Find out which customer is most likely to be interested in buying a product using a machine learning prediction algorithm (classification).\n",
    "2. Learn what factor is the most influential in determining the likelyhood that a client will be a lead based on the given attributes. \n",
    "\n",
    "#### Motivation\n",
    "Assist a business in increasing its profit by enabling the marketing department to more accurately target clients that are most likely to buy, in turn reducing cost and turn-around time. "
   ]
  },
  {
   "cell_type": "markdown",
   "id": "9d1cc19f-faed-41e0-83f3-91e834d33eda",
   "metadata": {},
   "source": [
    "<a id=\"Source\"></a>"
   ]
  },
  {
   "cell_type": "markdown",
   "id": "a704c520-2617-42de-89bc-bf5af3556784",
   "metadata": {
    "tags": []
   },
   "source": [
    "### Source:\n",
    "The dataset is from https://www.kaggle.com/nextbigwhat/analytics-vidhya-job-a-thon-may-2021\n",
    "\n",
    "\n",
    "\n",
    "<br><br>\n",
    "\n",
    "[Back to Top](#Top)"
   ]
  },
  {
   "cell_type": "markdown",
   "id": "91792df5-6f1e-4f34-ba12-7ccf0eddf28a",
   "metadata": {
    "tags": []
   },
   "source": [
    "## Part 1: Analysis and Preparation of the Model"
   ]
  },
  {
   "cell_type": "markdown",
   "id": "ab43bc7b-8791-4ddd-91b5-8235b6858424",
   "metadata": {},
   "source": [
    "<a id=\"EDA\"></a>"
   ]
  },
  {
   "cell_type": "markdown",
   "id": "f085ec82-6770-4fec-b7bf-d781bac47af1",
   "metadata": {},
   "source": [
    "## Exploratory Data Analysis"
   ]
  },
  {
   "cell_type": "markdown",
   "id": "be23fca4-0a52-4403-8c78-eb809424a513",
   "metadata": {},
   "source": [
    "<a id = \"PE\"></a>"
   ]
  },
  {
   "cell_type": "markdown",
   "id": "209435a1-8b3b-4b3e-87c6-6ddfeb5ee8c5",
   "metadata": {
    "tags": []
   },
   "source": [
    "### Preliminary Examination of Data"
   ]
  },
  {
   "cell_type": "code",
   "execution_count": 1,
   "id": "7c26c32f-e798-4449-bd37-8a3fd1eab747",
   "metadata": {},
   "outputs": [],
   "source": [
    "#Import Libraries\n",
    "\n",
    "import warnings\n",
    "import matplotlib.pyplot as plt\n",
    "import numpy as np\n",
    "import pandas as pd\n",
    "import seaborn as sns\n",
    "plt.rcParams['figure.figsize'] = [12,5]\n",
    "warnings.filterwarnings(\"ignore\")\n",
    "\n",
    "# Multiple Line Output\n",
    "from IPython.core.interactiveshell import InteractiveShell\n",
    "InteractiveShell.ast_node_interactivity = \"all\""
   ]
  },
  {
   "cell_type": "code",
   "execution_count": 2,
   "id": "f522175e-1bf6-45ae-891d-0e261c1fdfc0",
   "metadata": {},
   "outputs": [],
   "source": [
    "#Load dataset and apply variable name\n",
    "dataset = pd.read_csv('../Datasets/AnalyticsVidhya-JOB_A_THON-May2021/train_s3TEQDk.csv')\n",
    "\n",
    "#The original data contains two files, which appear to be a dataset divided in two. Since one is much larger than the other, we'll stick to that one."
   ]
  },
  {
   "cell_type": "code",
   "execution_count": 3,
   "id": "c2cdba77-c8cd-44ad-8ff4-1e1e3291a445",
   "metadata": {
    "tags": []
   },
   "outputs": [
    {
     "name": "stdout",
     "output_type": "stream",
     "text": [
      "Preview\n"
     ]
    },
    {
     "data": {
      "text/html": [
       "<div>\n",
       "<style scoped>\n",
       "    .dataframe tbody tr th:only-of-type {\n",
       "        vertical-align: middle;\n",
       "    }\n",
       "\n",
       "    .dataframe tbody tr th {\n",
       "        vertical-align: top;\n",
       "    }\n",
       "\n",
       "    .dataframe thead th {\n",
       "        text-align: right;\n",
       "    }\n",
       "</style>\n",
       "<table border=\"1\" class=\"dataframe\">\n",
       "  <thead>\n",
       "    <tr style=\"text-align: right;\">\n",
       "      <th></th>\n",
       "      <th>ID</th>\n",
       "      <th>Gender</th>\n",
       "      <th>Age</th>\n",
       "      <th>Region_Code</th>\n",
       "      <th>Occupation</th>\n",
       "      <th>Channel_Code</th>\n",
       "      <th>Vintage</th>\n",
       "      <th>Credit_Product</th>\n",
       "      <th>Avg_Account_Balance</th>\n",
       "      <th>Is_Active</th>\n",
       "      <th>Is_Lead</th>\n",
       "    </tr>\n",
       "  </thead>\n",
       "  <tbody>\n",
       "    <tr>\n",
       "      <th>0</th>\n",
       "      <td>NNVBBKZB</td>\n",
       "      <td>Female</td>\n",
       "      <td>73</td>\n",
       "      <td>RG268</td>\n",
       "      <td>Other</td>\n",
       "      <td>X3</td>\n",
       "      <td>43</td>\n",
       "      <td>No</td>\n",
       "      <td>1045696</td>\n",
       "      <td>No</td>\n",
       "      <td>0</td>\n",
       "    </tr>\n",
       "    <tr>\n",
       "      <th>1</th>\n",
       "      <td>IDD62UNG</td>\n",
       "      <td>Female</td>\n",
       "      <td>30</td>\n",
       "      <td>RG277</td>\n",
       "      <td>Salaried</td>\n",
       "      <td>X1</td>\n",
       "      <td>32</td>\n",
       "      <td>No</td>\n",
       "      <td>581988</td>\n",
       "      <td>No</td>\n",
       "      <td>0</td>\n",
       "    </tr>\n",
       "    <tr>\n",
       "      <th>2</th>\n",
       "      <td>HD3DSEMC</td>\n",
       "      <td>Female</td>\n",
       "      <td>56</td>\n",
       "      <td>RG268</td>\n",
       "      <td>Self_Employed</td>\n",
       "      <td>X3</td>\n",
       "      <td>26</td>\n",
       "      <td>No</td>\n",
       "      <td>1484315</td>\n",
       "      <td>Yes</td>\n",
       "      <td>0</td>\n",
       "    </tr>\n",
       "    <tr>\n",
       "      <th>3</th>\n",
       "      <td>BF3NC7KV</td>\n",
       "      <td>Male</td>\n",
       "      <td>34</td>\n",
       "      <td>RG270</td>\n",
       "      <td>Salaried</td>\n",
       "      <td>X1</td>\n",
       "      <td>19</td>\n",
       "      <td>No</td>\n",
       "      <td>470454</td>\n",
       "      <td>No</td>\n",
       "      <td>0</td>\n",
       "    </tr>\n",
       "    <tr>\n",
       "      <th>4</th>\n",
       "      <td>TEASRWXV</td>\n",
       "      <td>Female</td>\n",
       "      <td>30</td>\n",
       "      <td>RG282</td>\n",
       "      <td>Salaried</td>\n",
       "      <td>X1</td>\n",
       "      <td>33</td>\n",
       "      <td>No</td>\n",
       "      <td>886787</td>\n",
       "      <td>No</td>\n",
       "      <td>0</td>\n",
       "    </tr>\n",
       "    <tr>\n",
       "      <th>...</th>\n",
       "      <td>...</td>\n",
       "      <td>...</td>\n",
       "      <td>...</td>\n",
       "      <td>...</td>\n",
       "      <td>...</td>\n",
       "      <td>...</td>\n",
       "      <td>...</td>\n",
       "      <td>...</td>\n",
       "      <td>...</td>\n",
       "      <td>...</td>\n",
       "      <td>...</td>\n",
       "    </tr>\n",
       "    <tr>\n",
       "      <th>245720</th>\n",
       "      <td>BPAWWXZN</td>\n",
       "      <td>Male</td>\n",
       "      <td>51</td>\n",
       "      <td>RG284</td>\n",
       "      <td>Self_Employed</td>\n",
       "      <td>X3</td>\n",
       "      <td>109</td>\n",
       "      <td>NaN</td>\n",
       "      <td>1925586</td>\n",
       "      <td>No</td>\n",
       "      <td>0</td>\n",
       "    </tr>\n",
       "    <tr>\n",
       "      <th>245721</th>\n",
       "      <td>HFNB7JY8</td>\n",
       "      <td>Male</td>\n",
       "      <td>27</td>\n",
       "      <td>RG268</td>\n",
       "      <td>Salaried</td>\n",
       "      <td>X1</td>\n",
       "      <td>15</td>\n",
       "      <td>No</td>\n",
       "      <td>862952</td>\n",
       "      <td>Yes</td>\n",
       "      <td>0</td>\n",
       "    </tr>\n",
       "    <tr>\n",
       "      <th>245722</th>\n",
       "      <td>GEHAUCWT</td>\n",
       "      <td>Female</td>\n",
       "      <td>26</td>\n",
       "      <td>RG281</td>\n",
       "      <td>Salaried</td>\n",
       "      <td>X1</td>\n",
       "      <td>13</td>\n",
       "      <td>No</td>\n",
       "      <td>670659</td>\n",
       "      <td>No</td>\n",
       "      <td>0</td>\n",
       "    </tr>\n",
       "    <tr>\n",
       "      <th>245723</th>\n",
       "      <td>GE7V8SAH</td>\n",
       "      <td>Female</td>\n",
       "      <td>28</td>\n",
       "      <td>RG273</td>\n",
       "      <td>Salaried</td>\n",
       "      <td>X1</td>\n",
       "      <td>31</td>\n",
       "      <td>No</td>\n",
       "      <td>407504</td>\n",
       "      <td>No</td>\n",
       "      <td>0</td>\n",
       "    </tr>\n",
       "    <tr>\n",
       "      <th>245724</th>\n",
       "      <td>BOCZSWLJ</td>\n",
       "      <td>Male</td>\n",
       "      <td>29</td>\n",
       "      <td>RG269</td>\n",
       "      <td>Salaried</td>\n",
       "      <td>X1</td>\n",
       "      <td>21</td>\n",
       "      <td>No</td>\n",
       "      <td>1129276</td>\n",
       "      <td>No</td>\n",
       "      <td>0</td>\n",
       "    </tr>\n",
       "  </tbody>\n",
       "</table>\n",
       "<p>245725 rows × 11 columns</p>\n",
       "</div>"
      ],
      "text/plain": [
       "              ID  Gender  Age Region_Code     Occupation Channel_Code  \\\n",
       "0       NNVBBKZB  Female   73       RG268          Other           X3   \n",
       "1       IDD62UNG  Female   30       RG277       Salaried           X1   \n",
       "2       HD3DSEMC  Female   56       RG268  Self_Employed           X3   \n",
       "3       BF3NC7KV    Male   34       RG270       Salaried           X1   \n",
       "4       TEASRWXV  Female   30       RG282       Salaried           X1   \n",
       "...          ...     ...  ...         ...            ...          ...   \n",
       "245720  BPAWWXZN    Male   51       RG284  Self_Employed           X3   \n",
       "245721  HFNB7JY8    Male   27       RG268       Salaried           X1   \n",
       "245722  GEHAUCWT  Female   26       RG281       Salaried           X1   \n",
       "245723  GE7V8SAH  Female   28       RG273       Salaried           X1   \n",
       "245724  BOCZSWLJ    Male   29       RG269       Salaried           X1   \n",
       "\n",
       "        Vintage Credit_Product  Avg_Account_Balance Is_Active  Is_Lead  \n",
       "0            43             No              1045696        No        0  \n",
       "1            32             No               581988        No        0  \n",
       "2            26             No              1484315       Yes        0  \n",
       "3            19             No               470454        No        0  \n",
       "4            33             No               886787        No        0  \n",
       "...         ...            ...                  ...       ...      ...  \n",
       "245720      109            NaN              1925586        No        0  \n",
       "245721       15             No               862952       Yes        0  \n",
       "245722       13             No               670659        No        0  \n",
       "245723       31             No               407504        No        0  \n",
       "245724       21             No              1129276        No        0  \n",
       "\n",
       "[245725 rows x 11 columns]"
      ]
     },
     "execution_count": 3,
     "metadata": {},
     "output_type": "execute_result"
    },
    {
     "name": "stdout",
     "output_type": "stream",
     "text": [
      "-----------------------------------------------------\n",
      "The shape of the dataset is (245725, 11).\n",
      "-----------------------------------------------------\n",
      "Describe\n"
     ]
    },
    {
     "data": {
      "text/html": [
       "<div>\n",
       "<style scoped>\n",
       "    .dataframe tbody tr th:only-of-type {\n",
       "        vertical-align: middle;\n",
       "    }\n",
       "\n",
       "    .dataframe tbody tr th {\n",
       "        vertical-align: top;\n",
       "    }\n",
       "\n",
       "    .dataframe thead th {\n",
       "        text-align: right;\n",
       "    }\n",
       "</style>\n",
       "<table border=\"1\" class=\"dataframe\">\n",
       "  <thead>\n",
       "    <tr style=\"text-align: right;\">\n",
       "      <th></th>\n",
       "      <th>count</th>\n",
       "      <th>mean</th>\n",
       "      <th>std</th>\n",
       "      <th>min</th>\n",
       "      <th>25%</th>\n",
       "      <th>50%</th>\n",
       "      <th>75%</th>\n",
       "      <th>max</th>\n",
       "    </tr>\n",
       "  </thead>\n",
       "  <tbody>\n",
       "    <tr>\n",
       "      <th>Age</th>\n",
       "      <td>245725.0</td>\n",
       "      <td>4.385631e+01</td>\n",
       "      <td>14.828672</td>\n",
       "      <td>23.0</td>\n",
       "      <td>30.0</td>\n",
       "      <td>43.0</td>\n",
       "      <td>54.0</td>\n",
       "      <td>85.0</td>\n",
       "    </tr>\n",
       "    <tr>\n",
       "      <th>Vintage</th>\n",
       "      <td>245725.0</td>\n",
       "      <td>4.695914e+01</td>\n",
       "      <td>32.353136</td>\n",
       "      <td>7.0</td>\n",
       "      <td>20.0</td>\n",
       "      <td>32.0</td>\n",
       "      <td>73.0</td>\n",
       "      <td>135.0</td>\n",
       "    </tr>\n",
       "    <tr>\n",
       "      <th>Avg_Account_Balance</th>\n",
       "      <td>245725.0</td>\n",
       "      <td>1.128403e+06</td>\n",
       "      <td>852936.356069</td>\n",
       "      <td>20790.0</td>\n",
       "      <td>604310.0</td>\n",
       "      <td>894601.0</td>\n",
       "      <td>1366666.0</td>\n",
       "      <td>10352009.0</td>\n",
       "    </tr>\n",
       "    <tr>\n",
       "      <th>Is_Lead</th>\n",
       "      <td>245725.0</td>\n",
       "      <td>2.372083e-01</td>\n",
       "      <td>0.425372</td>\n",
       "      <td>0.0</td>\n",
       "      <td>0.0</td>\n",
       "      <td>0.0</td>\n",
       "      <td>0.0</td>\n",
       "      <td>1.0</td>\n",
       "    </tr>\n",
       "  </tbody>\n",
       "</table>\n",
       "</div>"
      ],
      "text/plain": [
       "                        count          mean            std      min       25%  \\\n",
       "Age                  245725.0  4.385631e+01      14.828672     23.0      30.0   \n",
       "Vintage              245725.0  4.695914e+01      32.353136      7.0      20.0   \n",
       "Avg_Account_Balance  245725.0  1.128403e+06  852936.356069  20790.0  604310.0   \n",
       "Is_Lead              245725.0  2.372083e-01       0.425372      0.0       0.0   \n",
       "\n",
       "                          50%        75%         max  \n",
       "Age                      43.0       54.0        85.0  \n",
       "Vintage                  32.0       73.0       135.0  \n",
       "Avg_Account_Balance  894601.0  1366666.0  10352009.0  \n",
       "Is_Lead                   0.0        0.0         1.0  "
      ]
     },
     "execution_count": 3,
     "metadata": {},
     "output_type": "execute_result"
    },
    {
     "name": "stdout",
     "output_type": "stream",
     "text": [
      "-----------------------------------------------------\n",
      "Info\n",
      "<class 'pandas.core.frame.DataFrame'>\n",
      "RangeIndex: 245725 entries, 0 to 245724\n",
      "Data columns (total 11 columns):\n",
      " #   Column               Non-Null Count   Dtype \n",
      "---  ------               --------------   ----- \n",
      " 0   ID                   245725 non-null  object\n",
      " 1   Gender               245725 non-null  object\n",
      " 2   Age                  245725 non-null  int64 \n",
      " 3   Region_Code          245725 non-null  object\n",
      " 4   Occupation           245725 non-null  object\n",
      " 5   Channel_Code         245725 non-null  object\n",
      " 6   Vintage              245725 non-null  int64 \n",
      " 7   Credit_Product       216400 non-null  object\n",
      " 8   Avg_Account_Balance  245725 non-null  int64 \n",
      " 9   Is_Active            245725 non-null  object\n",
      " 10  Is_Lead              245725 non-null  int64 \n",
      "dtypes: int64(4), object(7)\n",
      "memory usage: 20.6+ MB\n"
     ]
    }
   ],
   "source": [
    "#Preliminary examination of dataset / EDA\n",
    "\n",
    "print('Preview')\n",
    "dataset\n",
    "print('-----------------------------------------------------')\n",
    "print(f'The shape of the dataset is {dataset.shape}.')\n",
    "print('-----------------------------------------------------')\n",
    "print('Describe')\n",
    "dataset.describe().T\n",
    "print('-----------------------------------------------------')\n",
    "print('Info')\n",
    "dataset.info()"
   ]
  },
  {
   "cell_type": "code",
   "execution_count": 4,
   "id": "4e9fe8b9-03fe-46e3-b875-3d3769669c2e",
   "metadata": {},
   "outputs": [
    {
     "name": "stdout",
     "output_type": "stream",
     "text": [
      "Count of lead values (yes/no)\n"
     ]
    },
    {
     "data": {
      "text/plain": [
       "0    187437\n",
       "1     58288\n",
       "Name: Is_Lead, dtype: int64"
      ]
     },
     "execution_count": 4,
     "metadata": {},
     "output_type": "execute_result"
    },
    {
     "name": "stdout",
     "output_type": "stream",
     "text": [
      "-----------------------------------------------------\n",
      "Count of active values (yes/no)\n"
     ]
    },
    {
     "data": {
      "text/plain": [
       "No     150290\n",
       "Yes     95435\n",
       "Name: Is_Active, dtype: int64"
      ]
     },
     "execution_count": 4,
     "metadata": {},
     "output_type": "execute_result"
    },
    {
     "name": "stdout",
     "output_type": "stream",
     "text": [
      "-----------------------------------------------------\n"
     ]
    },
    {
     "data": {
      "text/html": [
       "<div>\n",
       "<style scoped>\n",
       "    .dataframe tbody tr th:only-of-type {\n",
       "        vertical-align: middle;\n",
       "    }\n",
       "\n",
       "    .dataframe tbody tr th {\n",
       "        vertical-align: top;\n",
       "    }\n",
       "\n",
       "    .dataframe thead th {\n",
       "        text-align: right;\n",
       "    }\n",
       "</style>\n",
       "<table border=\"1\" class=\"dataframe\">\n",
       "  <thead>\n",
       "    <tr style=\"text-align: right;\">\n",
       "      <th></th>\n",
       "      <th>Is_Active</th>\n",
       "      <th>Is_Lead</th>\n",
       "    </tr>\n",
       "  </thead>\n",
       "  <tbody>\n",
       "    <tr>\n",
       "      <th>No</th>\n",
       "      <td>150290.0</td>\n",
       "      <td>NaN</td>\n",
       "    </tr>\n",
       "    <tr>\n",
       "      <th>Yes</th>\n",
       "      <td>95435.0</td>\n",
       "      <td>NaN</td>\n",
       "    </tr>\n",
       "    <tr>\n",
       "      <th>0</th>\n",
       "      <td>NaN</td>\n",
       "      <td>187437.0</td>\n",
       "    </tr>\n",
       "    <tr>\n",
       "      <th>1</th>\n",
       "      <td>NaN</td>\n",
       "      <td>58288.0</td>\n",
       "    </tr>\n",
       "  </tbody>\n",
       "</table>\n",
       "</div>"
      ],
      "text/plain": [
       "     Is_Active   Is_Lead\n",
       "No    150290.0       NaN\n",
       "Yes    95435.0       NaN\n",
       "0          NaN  187437.0\n",
       "1          NaN   58288.0"
      ]
     },
     "execution_count": 4,
     "metadata": {},
     "output_type": "execute_result"
    }
   ],
   "source": [
    "print('Count of lead values (yes/no)')\n",
    "dataset.Is_Lead.value_counts()\n",
    "print('-----------------------------------------------------')\n",
    "print('Count of active values (yes/no)')\n",
    "dataset.Is_Active.value_counts()\n",
    "print('-----------------------------------------------------')\n",
    "dataset[['Is_Active', 'Is_Lead']].apply(pd.Series.value_counts)"
   ]
  },
  {
   "cell_type": "markdown",
   "id": "a3db2685-c190-42fe-9896-9b637f68ef7d",
   "metadata": {
    "tags": []
   },
   "source": [
    "The dataset contains 245,725 rows (clients) and 11 columns. \n",
    "The target (dependent) variable is 'Is_Lead'. This means whether the customer has indicated interest. \n",
    "The other 10 columns are the independent variables."
   ]
  },
  {
   "cell_type": "markdown",
   "id": "1d9093a7-e9e3-4eda-bb18-ea1d6efd9a72",
   "metadata": {},
   "source": [
    "<a id=\"DC\"></a>"
   ]
  },
  {
   "cell_type": "markdown",
   "id": "3cd166ec-f1fc-449b-b624-f11c56b33aee",
   "metadata": {},
   "source": [
    "### Data Cleaning, Feature Selection"
   ]
  },
  {
   "cell_type": "code",
   "execution_count": 5,
   "id": "26471839-d2b5-4547-9a6c-656af5d160e7",
   "metadata": {},
   "outputs": [],
   "source": [
    "df = dataset"
   ]
  },
  {
   "cell_type": "code",
   "execution_count": 6,
   "id": "83ca8c8e-169c-4db9-985c-3e4a10e89c82",
   "metadata": {},
   "outputs": [
    {
     "name": "stdout",
     "output_type": "stream",
     "text": [
      "Total rows:\n"
     ]
    },
    {
     "data": {
      "text/plain": [
       "(245725, 11)"
      ]
     },
     "execution_count": 6,
     "metadata": {},
     "output_type": "execute_result"
    },
    {
     "name": "stdout",
     "output_type": "stream",
     "text": [
      "Total unique rows:\n"
     ]
    },
    {
     "data": {
      "text/plain": [
       "(245725,)"
      ]
     },
     "execution_count": 6,
     "metadata": {},
     "output_type": "execute_result"
    }
   ],
   "source": [
    "#Check that there are no duplicate rows\n",
    "\n",
    "print(\"Total rows:\") \n",
    "df.shape\n",
    "print(\"Total unique rows:\")\n",
    "df.ID.unique().shape\n",
    "\n",
    "#Store original number of rows for comparison of kept/removed rows later (\n",
    "original_row_num = df.shape[0]\n",
    "\n",
    "#Create new variable to preserve original untouched for future use\n",
    "dfmod = df.copy()\n",
    "\n",
    "#Some columns are uneeded, so we'll go ahead and remove those.\n",
    "dfmod.drop(['ID'], axis=1, inplace=True)"
   ]
  },
  {
   "cell_type": "markdown",
   "id": "f9a877bb-cd1f-4fb2-b273-ed665e74dd90",
   "metadata": {},
   "source": [
    "There are no duplicate records."
   ]
  },
  {
   "cell_type": "code",
   "execution_count": 7,
   "id": "0695ecbc-377d-4896-b0bc-0183b3af373a",
   "metadata": {},
   "outputs": [
    {
     "data": {
      "text/html": [
       "<div>\n",
       "<style scoped>\n",
       "    .dataframe tbody tr th:only-of-type {\n",
       "        vertical-align: middle;\n",
       "    }\n",
       "\n",
       "    .dataframe tbody tr th {\n",
       "        vertical-align: top;\n",
       "    }\n",
       "\n",
       "    .dataframe thead th {\n",
       "        text-align: right;\n",
       "    }\n",
       "</style>\n",
       "<table border=\"1\" class=\"dataframe\">\n",
       "  <thead>\n",
       "    <tr style=\"text-align: right;\">\n",
       "      <th></th>\n",
       "      <th>Gender</th>\n",
       "      <th>Age</th>\n",
       "      <th>Region_Code</th>\n",
       "      <th>Occupation</th>\n",
       "      <th>Channel_Code</th>\n",
       "      <th>Vintage</th>\n",
       "      <th>Credit_Product</th>\n",
       "      <th>Avg_Account_Balance</th>\n",
       "      <th>Is_Active</th>\n",
       "      <th>Is_Lead</th>\n",
       "    </tr>\n",
       "  </thead>\n",
       "  <tbody>\n",
       "    <tr>\n",
       "      <th>0</th>\n",
       "      <td>1</td>\n",
       "      <td>73</td>\n",
       "      <td>RG268</td>\n",
       "      <td>Other</td>\n",
       "      <td>X3</td>\n",
       "      <td>43</td>\n",
       "      <td>0</td>\n",
       "      <td>1045696</td>\n",
       "      <td>0</td>\n",
       "      <td>0</td>\n",
       "    </tr>\n",
       "    <tr>\n",
       "      <th>1</th>\n",
       "      <td>1</td>\n",
       "      <td>30</td>\n",
       "      <td>RG277</td>\n",
       "      <td>Salaried</td>\n",
       "      <td>X1</td>\n",
       "      <td>32</td>\n",
       "      <td>0</td>\n",
       "      <td>581988</td>\n",
       "      <td>0</td>\n",
       "      <td>0</td>\n",
       "    </tr>\n",
       "    <tr>\n",
       "      <th>2</th>\n",
       "      <td>1</td>\n",
       "      <td>56</td>\n",
       "      <td>RG268</td>\n",
       "      <td>Self_Employed</td>\n",
       "      <td>X3</td>\n",
       "      <td>26</td>\n",
       "      <td>0</td>\n",
       "      <td>1484315</td>\n",
       "      <td>1</td>\n",
       "      <td>0</td>\n",
       "    </tr>\n",
       "    <tr>\n",
       "      <th>3</th>\n",
       "      <td>0</td>\n",
       "      <td>34</td>\n",
       "      <td>RG270</td>\n",
       "      <td>Salaried</td>\n",
       "      <td>X1</td>\n",
       "      <td>19</td>\n",
       "      <td>0</td>\n",
       "      <td>470454</td>\n",
       "      <td>0</td>\n",
       "      <td>0</td>\n",
       "    </tr>\n",
       "    <tr>\n",
       "      <th>4</th>\n",
       "      <td>1</td>\n",
       "      <td>30</td>\n",
       "      <td>RG282</td>\n",
       "      <td>Salaried</td>\n",
       "      <td>X1</td>\n",
       "      <td>33</td>\n",
       "      <td>0</td>\n",
       "      <td>886787</td>\n",
       "      <td>0</td>\n",
       "      <td>0</td>\n",
       "    </tr>\n",
       "  </tbody>\n",
       "</table>\n",
       "</div>"
      ],
      "text/plain": [
       "  Gender  Age Region_Code     Occupation Channel_Code  Vintage Credit_Product  \\\n",
       "0      1   73       RG268          Other           X3       43              0   \n",
       "1      1   30       RG277       Salaried           X1       32              0   \n",
       "2      1   56       RG268  Self_Employed           X3       26              0   \n",
       "3      0   34       RG270       Salaried           X1       19              0   \n",
       "4      1   30       RG282       Salaried           X1       33              0   \n",
       "\n",
       "   Avg_Account_Balance Is_Active  Is_Lead  \n",
       "0              1045696         0        0  \n",
       "1               581988         0        0  \n",
       "2              1484315         1        0  \n",
       "3               470454         0        0  \n",
       "4               886787         0        0  "
      ]
     },
     "execution_count": 7,
     "metadata": {},
     "output_type": "execute_result"
    }
   ],
   "source": [
    "#Turn records into numerical values where possible\n",
    "dfmod[\"Gender\"].replace({\"Male\": \"0\", \"Female\": \"1\"}, inplace=True)\n",
    "dfmod[\"Credit_Product\"].replace({\"No\": \"0\", \"Yes\": \"1\"}, inplace=True)\n",
    "dfmod[\"Is_Active\"].replace({\"No\": \"0\", \"Yes\": \"1\"}, inplace=True)\n",
    "dfmod.head(5)"
   ]
  },
  {
   "cell_type": "code",
   "execution_count": 8,
   "id": "8f8266da-7f16-4eeb-9c51-05e81b822e04",
   "metadata": {},
   "outputs": [
    {
     "data": {
      "text/plain": [
       "Gender                 object\n",
       "Age                     int64\n",
       "Region_Code            object\n",
       "Occupation             object\n",
       "Channel_Code           object\n",
       "Vintage                 int64\n",
       "Credit_Product         object\n",
       "Avg_Account_Balance     int64\n",
       "Is_Active              object\n",
       "Is_Lead                 int64\n",
       "dtype: object"
      ]
     },
     "execution_count": 8,
     "metadata": {},
     "output_type": "execute_result"
    }
   ],
   "source": [
    "# Check the column data types\n",
    "dfmod.dtypes"
   ]
  },
  {
   "cell_type": "code",
   "execution_count": 9,
   "id": "6ee68754-0e92-44c0-8cf3-b7b3fa586c3c",
   "metadata": {},
   "outputs": [
    {
     "name": "stdout",
     "output_type": "stream",
     "text": [
      "Gender: 2\n",
      "Age: 63\n",
      "Region_Code: 35\n",
      "Occupation: 4\n",
      "Channel_Code: 4\n",
      "Vintage: 66\n",
      "Credit_Product: 3\n",
      "Avg_Account_Balance: 135292\n",
      "Is_Active: 2\n",
      "Is_Lead: 2\n"
     ]
    }
   ],
   "source": [
    "# Check how many unique values in all columns\n",
    "for col in dfmod.columns:\n",
    "    count = dfmod[col].unique().shape[0]\n",
    "    print(col + ': ' + str(count))"
   ]
  },
  {
   "cell_type": "code",
   "execution_count": 10,
   "id": "876a7a5a-8f79-4e3c-ae60-a2526d5c72d7",
   "metadata": {},
   "outputs": [
    {
     "data": {
      "text/plain": [
       "Gender                 False\n",
       "Age                    False\n",
       "Region_Code            False\n",
       "Occupation             False\n",
       "Channel_Code           False\n",
       "Vintage                False\n",
       "Credit_Product          True\n",
       "Avg_Account_Balance    False\n",
       "Is_Active              False\n",
       "Is_Lead                False\n",
       "dtype: bool"
      ]
     },
     "execution_count": 10,
     "metadata": {},
     "output_type": "execute_result"
    }
   ],
   "source": [
    "# Check presence of null values in any columns\n",
    "(dfmod.astype(np.object).isnull()).any()"
   ]
  },
  {
   "cell_type": "code",
   "execution_count": 11,
   "id": "c297c1e0-403f-41e6-91bb-b2ca21a564f0",
   "metadata": {},
   "outputs": [
    {
     "name": "stdout",
     "output_type": "stream",
     "text": [
      "Gender 0\n",
      "Age 0\n",
      "Region_Code 0\n",
      "Occupation 0\n",
      "Channel_Code 0\n",
      "Vintage 0\n",
      "Credit_Product 29325\n",
      "Avg_Account_Balance 0\n",
      "Is_Active 0\n",
      "Is_Lead 0\n"
     ]
    }
   ],
   "source": [
    "# Calculate total number of null values in all of the columns\n",
    "for col in dfmod.columns:\n",
    "    count = dfmod[col].isnull().sum()\n",
    "    print(col + ' ' + str(count))"
   ]
  },
  {
   "cell_type": "code",
   "execution_count": 12,
   "id": "2c2fb795-162c-4eb1-bcc2-178569ffa7b6",
   "metadata": {},
   "outputs": [
    {
     "name": "stdout",
     "output_type": "stream",
     "text": [
      "Count of credit product values\n"
     ]
    },
    {
     "data": {
      "text/plain": [
       "0    144357\n",
       "1     72043\n",
       "Name: Credit_Product, dtype: int64"
      ]
     },
     "execution_count": 12,
     "metadata": {},
     "output_type": "execute_result"
    }
   ],
   "source": [
    "print('Count of credit product values')\n",
    "dfmod.Credit_Product.value_counts()"
   ]
  },
  {
   "cell_type": "code",
   "execution_count": 13,
   "id": "4e273b54-45b4-4ca4-b993-e47581a8aa17",
   "metadata": {
    "tags": []
   },
   "outputs": [
    {
     "data": {
      "text/html": [
       "<div>\n",
       "<style scoped>\n",
       "    .dataframe tbody tr th:only-of-type {\n",
       "        vertical-align: middle;\n",
       "    }\n",
       "\n",
       "    .dataframe tbody tr th {\n",
       "        vertical-align: top;\n",
       "    }\n",
       "\n",
       "    .dataframe thead th {\n",
       "        text-align: right;\n",
       "    }\n",
       "</style>\n",
       "<table border=\"1\" class=\"dataframe\">\n",
       "  <thead>\n",
       "    <tr style=\"text-align: right;\">\n",
       "      <th></th>\n",
       "      <th>Gender</th>\n",
       "      <th>Age</th>\n",
       "      <th>Region_Code</th>\n",
       "      <th>Occupation</th>\n",
       "      <th>Channel_Code</th>\n",
       "      <th>Vintage</th>\n",
       "      <th>Credit_Product</th>\n",
       "      <th>Avg_Account_Balance</th>\n",
       "      <th>Is_Active</th>\n",
       "      <th>Is_Lead</th>\n",
       "    </tr>\n",
       "  </thead>\n",
       "  <tbody>\n",
       "    <tr>\n",
       "      <th>0</th>\n",
       "      <td>1</td>\n",
       "      <td>73</td>\n",
       "      <td>RG268</td>\n",
       "      <td>Other</td>\n",
       "      <td>X3</td>\n",
       "      <td>43</td>\n",
       "      <td>0</td>\n",
       "      <td>1045696</td>\n",
       "      <td>0</td>\n",
       "      <td>0</td>\n",
       "    </tr>\n",
       "    <tr>\n",
       "      <th>1</th>\n",
       "      <td>1</td>\n",
       "      <td>30</td>\n",
       "      <td>RG277</td>\n",
       "      <td>Salaried</td>\n",
       "      <td>X1</td>\n",
       "      <td>32</td>\n",
       "      <td>0</td>\n",
       "      <td>581988</td>\n",
       "      <td>0</td>\n",
       "      <td>0</td>\n",
       "    </tr>\n",
       "    <tr>\n",
       "      <th>2</th>\n",
       "      <td>1</td>\n",
       "      <td>56</td>\n",
       "      <td>RG268</td>\n",
       "      <td>Self_Employed</td>\n",
       "      <td>X3</td>\n",
       "      <td>26</td>\n",
       "      <td>0</td>\n",
       "      <td>1484315</td>\n",
       "      <td>1</td>\n",
       "      <td>0</td>\n",
       "    </tr>\n",
       "    <tr>\n",
       "      <th>3</th>\n",
       "      <td>0</td>\n",
       "      <td>34</td>\n",
       "      <td>RG270</td>\n",
       "      <td>Salaried</td>\n",
       "      <td>X1</td>\n",
       "      <td>19</td>\n",
       "      <td>0</td>\n",
       "      <td>470454</td>\n",
       "      <td>0</td>\n",
       "      <td>0</td>\n",
       "    </tr>\n",
       "    <tr>\n",
       "      <th>4</th>\n",
       "      <td>1</td>\n",
       "      <td>30</td>\n",
       "      <td>RG282</td>\n",
       "      <td>Salaried</td>\n",
       "      <td>X1</td>\n",
       "      <td>33</td>\n",
       "      <td>0</td>\n",
       "      <td>886787</td>\n",
       "      <td>0</td>\n",
       "      <td>0</td>\n",
       "    </tr>\n",
       "    <tr>\n",
       "      <th>...</th>\n",
       "      <td>...</td>\n",
       "      <td>...</td>\n",
       "      <td>...</td>\n",
       "      <td>...</td>\n",
       "      <td>...</td>\n",
       "      <td>...</td>\n",
       "      <td>...</td>\n",
       "      <td>...</td>\n",
       "      <td>...</td>\n",
       "      <td>...</td>\n",
       "    </tr>\n",
       "    <tr>\n",
       "      <th>245720</th>\n",
       "      <td>0</td>\n",
       "      <td>51</td>\n",
       "      <td>RG284</td>\n",
       "      <td>Self_Employed</td>\n",
       "      <td>X3</td>\n",
       "      <td>109</td>\n",
       "      <td>999</td>\n",
       "      <td>1925586</td>\n",
       "      <td>0</td>\n",
       "      <td>0</td>\n",
       "    </tr>\n",
       "    <tr>\n",
       "      <th>245721</th>\n",
       "      <td>0</td>\n",
       "      <td>27</td>\n",
       "      <td>RG268</td>\n",
       "      <td>Salaried</td>\n",
       "      <td>X1</td>\n",
       "      <td>15</td>\n",
       "      <td>0</td>\n",
       "      <td>862952</td>\n",
       "      <td>1</td>\n",
       "      <td>0</td>\n",
       "    </tr>\n",
       "    <tr>\n",
       "      <th>245722</th>\n",
       "      <td>1</td>\n",
       "      <td>26</td>\n",
       "      <td>RG281</td>\n",
       "      <td>Salaried</td>\n",
       "      <td>X1</td>\n",
       "      <td>13</td>\n",
       "      <td>0</td>\n",
       "      <td>670659</td>\n",
       "      <td>0</td>\n",
       "      <td>0</td>\n",
       "    </tr>\n",
       "    <tr>\n",
       "      <th>245723</th>\n",
       "      <td>1</td>\n",
       "      <td>28</td>\n",
       "      <td>RG273</td>\n",
       "      <td>Salaried</td>\n",
       "      <td>X1</td>\n",
       "      <td>31</td>\n",
       "      <td>0</td>\n",
       "      <td>407504</td>\n",
       "      <td>0</td>\n",
       "      <td>0</td>\n",
       "    </tr>\n",
       "    <tr>\n",
       "      <th>245724</th>\n",
       "      <td>0</td>\n",
       "      <td>29</td>\n",
       "      <td>RG269</td>\n",
       "      <td>Salaried</td>\n",
       "      <td>X1</td>\n",
       "      <td>21</td>\n",
       "      <td>0</td>\n",
       "      <td>1129276</td>\n",
       "      <td>0</td>\n",
       "      <td>0</td>\n",
       "    </tr>\n",
       "  </tbody>\n",
       "</table>\n",
       "<p>245725 rows × 10 columns</p>\n",
       "</div>"
      ],
      "text/plain": [
       "       Gender  Age Region_Code     Occupation Channel_Code  Vintage  \\\n",
       "0           1   73       RG268          Other           X3       43   \n",
       "1           1   30       RG277       Salaried           X1       32   \n",
       "2           1   56       RG268  Self_Employed           X3       26   \n",
       "3           0   34       RG270       Salaried           X1       19   \n",
       "4           1   30       RG282       Salaried           X1       33   \n",
       "...       ...  ...         ...            ...          ...      ...   \n",
       "245720      0   51       RG284  Self_Employed           X3      109   \n",
       "245721      0   27       RG268       Salaried           X1       15   \n",
       "245722      1   26       RG281       Salaried           X1       13   \n",
       "245723      1   28       RG273       Salaried           X1       31   \n",
       "245724      0   29       RG269       Salaried           X1       21   \n",
       "\n",
       "       Credit_Product  Avg_Account_Balance Is_Active  Is_Lead  \n",
       "0                   0              1045696         0        0  \n",
       "1                   0               581988         0        0  \n",
       "2                   0              1484315         1        0  \n",
       "3                   0               470454         0        0  \n",
       "4                   0               886787         0        0  \n",
       "...               ...                  ...       ...      ...  \n",
       "245720            999              1925586         0        0  \n",
       "245721              0               862952         1        0  \n",
       "245722              0               670659         0        0  \n",
       "245723              0               407504         0        0  \n",
       "245724              0              1129276         0        0  \n",
       "\n",
       "[245725 rows x 10 columns]"
      ]
     },
     "execution_count": 13,
     "metadata": {},
     "output_type": "execute_result"
    }
   ],
   "source": [
    "#Since null values in Credit_Product column constitute a significant portion of the data, impute them to \"999\"\n",
    "\n",
    "dfmod['Credit_Product'].fillna(\"999\",inplace=True)\n",
    "dfmod"
   ]
  },
  {
   "cell_type": "code",
   "execution_count": 14,
   "id": "80d0d7fd-2a9f-42f9-958f-71aa2583e969",
   "metadata": {},
   "outputs": [
    {
     "data": {
      "text/plain": [
       "Gender                 False\n",
       "Age                    False\n",
       "Region_Code            False\n",
       "Occupation             False\n",
       "Channel_Code           False\n",
       "Vintage                False\n",
       "Credit_Product         False\n",
       "Avg_Account_Balance    False\n",
       "Is_Active              False\n",
       "Is_Lead                False\n",
       "dtype: bool"
      ]
     },
     "execution_count": 14,
     "metadata": {},
     "output_type": "execute_result"
    },
    {
     "name": "stdout",
     "output_type": "stream",
     "text": [
      "-----------------------------------------------------\n",
      "Gender 0\n",
      "Age 0\n",
      "Region_Code 0\n",
      "Occupation 0\n",
      "Channel_Code 0\n",
      "Vintage 0\n",
      "Credit_Product 0\n",
      "Avg_Account_Balance 0\n",
      "Is_Active 0\n",
      "Is_Lead 0\n"
     ]
    }
   ],
   "source": [
    "# Recheck presence of nulls\n",
    "(dfmod.astype(np.object).isnull()).any()\n",
    "print('-----------------------------------------------------')\n",
    "for col in dfmod.columns:\n",
    "    count = dfmod[col].isnull().sum()\n",
    "    print(col + ' ' + str(count))"
   ]
  },
  {
   "cell_type": "code",
   "execution_count": 15,
   "id": "0c20ced1-1af0-4f23-b125-1a2481f2ce84",
   "metadata": {},
   "outputs": [
    {
     "name": "stdout",
     "output_type": "stream",
     "text": [
      "Count of credit product values\n"
     ]
    },
    {
     "data": {
      "text/plain": [
       "0      144357\n",
       "1       72043\n",
       "999     29325\n",
       "Name: Credit_Product, dtype: int64"
      ]
     },
     "execution_count": 15,
     "metadata": {},
     "output_type": "execute_result"
    }
   ],
   "source": [
    "#Check the values in that column once more\n",
    "print('Count of credit product values')\n",
    "dfmod.Credit_Product.value_counts()"
   ]
  },
  {
   "cell_type": "code",
   "execution_count": 16,
   "id": "930ab19f-92b8-4f62-a91b-77e48c495991",
   "metadata": {},
   "outputs": [
    {
     "data": {
      "text/plain": [
       "Gender                 object\n",
       "Age                     int64\n",
       "Region_Code            object\n",
       "Occupation             object\n",
       "Channel_Code           object\n",
       "Vintage                 int64\n",
       "Credit_Product         object\n",
       "Avg_Account_Balance     int64\n",
       "Is_Active              object\n",
       "Is_Lead                 int64\n",
       "dtype: object"
      ]
     },
     "execution_count": 16,
     "metadata": {},
     "output_type": "execute_result"
    }
   ],
   "source": [
    "# Check the column data types again\n",
    "dfmod.dtypes"
   ]
  },
  {
   "cell_type": "code",
   "execution_count": 17,
   "id": "922738eb-5380-454e-8f67-8e5e4f0e1191",
   "metadata": {},
   "outputs": [
    {
     "data": {
      "text/plain": [
       "Gender                  int64\n",
       "Age                     int64\n",
       "Region_Code            object\n",
       "Occupation             object\n",
       "Channel_Code           object\n",
       "Vintage                 int64\n",
       "Credit_Product          int64\n",
       "Avg_Account_Balance     int64\n",
       "Is_Active               int64\n",
       "Is_Lead                 int64\n",
       "dtype: object"
      ]
     },
     "execution_count": 17,
     "metadata": {},
     "output_type": "execute_result"
    }
   ],
   "source": [
    "#Convert numeric columns to the appropriate type where possible\n",
    "dfmod = dfmod.apply(pd.to_numeric, errors='ignore')\n",
    "dfmod.dtypes"
   ]
  },
  {
   "cell_type": "code",
   "execution_count": 18,
   "id": "58f756c5-afdd-437a-94df-526328d5df55",
   "metadata": {},
   "outputs": [
    {
     "data": {
      "text/plain": [
       "0    187437\n",
       "1     58288\n",
       "Name: Is_Lead, dtype: int64"
      ]
     },
     "execution_count": 18,
     "metadata": {},
     "output_type": "execute_result"
    }
   ],
   "source": [
    "# # Check the balance of the dataset\n",
    "# # This dataset is unbalanced and will have to be dealt with in different ways\n",
    "dfmod.Is_Lead.value_counts()"
   ]
  },
  {
   "cell_type": "code",
   "execution_count": 19,
   "id": "d863de3c-8cc6-4602-83d9-a23d61f401f5",
   "metadata": {
    "tags": []
   },
   "outputs": [],
   "source": [
    "# # Segment the dataset for visualization\n",
    "# dfmod_Lead_Yes = dfmod[dfmod['Is_Lead'] == \"1\"]\n",
    "# dfmod_Lead_No = dfmod[dfmod['Is_Lead'] == \"0\"]"
   ]
  },
  {
   "cell_type": "code",
   "execution_count": 20,
   "id": "7a62fc9d-b7e0-450a-a8d0-1246a6851589",
   "metadata": {},
   "outputs": [
    {
     "data": {
      "text/html": [
       "<div>\n",
       "<style scoped>\n",
       "    .dataframe tbody tr th:only-of-type {\n",
       "        vertical-align: middle;\n",
       "    }\n",
       "\n",
       "    .dataframe tbody tr th {\n",
       "        vertical-align: top;\n",
       "    }\n",
       "\n",
       "    .dataframe thead th {\n",
       "        text-align: right;\n",
       "    }\n",
       "</style>\n",
       "<table border=\"1\" class=\"dataframe\">\n",
       "  <thead>\n",
       "    <tr style=\"text-align: right;\">\n",
       "      <th></th>\n",
       "      <th>Gender</th>\n",
       "      <th>Age</th>\n",
       "      <th>Region_Code</th>\n",
       "      <th>Occupation</th>\n",
       "      <th>Channel_Code</th>\n",
       "      <th>Vintage</th>\n",
       "      <th>Credit_Product</th>\n",
       "      <th>Avg_Account_Balance</th>\n",
       "      <th>Is_Active</th>\n",
       "      <th>Is_Lead</th>\n",
       "    </tr>\n",
       "  </thead>\n",
       "  <tbody>\n",
       "    <tr>\n",
       "      <th>123214</th>\n",
       "      <td>0</td>\n",
       "      <td>61</td>\n",
       "      <td>RG277</td>\n",
       "      <td>Self_Employed</td>\n",
       "      <td>X3</td>\n",
       "      <td>55</td>\n",
       "      <td>1</td>\n",
       "      <td>658760</td>\n",
       "      <td>0</td>\n",
       "      <td>0</td>\n",
       "    </tr>\n",
       "    <tr>\n",
       "      <th>119975</th>\n",
       "      <td>1</td>\n",
       "      <td>48</td>\n",
       "      <td>RG283</td>\n",
       "      <td>Self_Employed</td>\n",
       "      <td>X2</td>\n",
       "      <td>20</td>\n",
       "      <td>1</td>\n",
       "      <td>947787</td>\n",
       "      <td>0</td>\n",
       "      <td>0</td>\n",
       "    </tr>\n",
       "    <tr>\n",
       "      <th>14340</th>\n",
       "      <td>1</td>\n",
       "      <td>26</td>\n",
       "      <td>RG270</td>\n",
       "      <td>Salaried</td>\n",
       "      <td>X1</td>\n",
       "      <td>15</td>\n",
       "      <td>0</td>\n",
       "      <td>790355</td>\n",
       "      <td>0</td>\n",
       "      <td>0</td>\n",
       "    </tr>\n",
       "    <tr>\n",
       "      <th>166137</th>\n",
       "      <td>1</td>\n",
       "      <td>39</td>\n",
       "      <td>RG283</td>\n",
       "      <td>Self_Employed</td>\n",
       "      <td>X2</td>\n",
       "      <td>63</td>\n",
       "      <td>0</td>\n",
       "      <td>458154</td>\n",
       "      <td>0</td>\n",
       "      <td>0</td>\n",
       "    </tr>\n",
       "    <tr>\n",
       "      <th>39191</th>\n",
       "      <td>1</td>\n",
       "      <td>37</td>\n",
       "      <td>RG256</td>\n",
       "      <td>Salaried</td>\n",
       "      <td>X1</td>\n",
       "      <td>33</td>\n",
       "      <td>0</td>\n",
       "      <td>1143552</td>\n",
       "      <td>0</td>\n",
       "      <td>0</td>\n",
       "    </tr>\n",
       "    <tr>\n",
       "      <th>10468</th>\n",
       "      <td>0</td>\n",
       "      <td>41</td>\n",
       "      <td>RG254</td>\n",
       "      <td>Self_Employed</td>\n",
       "      <td>X2</td>\n",
       "      <td>75</td>\n",
       "      <td>0</td>\n",
       "      <td>1888188</td>\n",
       "      <td>0</td>\n",
       "      <td>0</td>\n",
       "    </tr>\n",
       "    <tr>\n",
       "      <th>55405</th>\n",
       "      <td>0</td>\n",
       "      <td>46</td>\n",
       "      <td>RG269</td>\n",
       "      <td>Self_Employed</td>\n",
       "      <td>X3</td>\n",
       "      <td>61</td>\n",
       "      <td>0</td>\n",
       "      <td>2021866</td>\n",
       "      <td>1</td>\n",
       "      <td>0</td>\n",
       "    </tr>\n",
       "    <tr>\n",
       "      <th>83937</th>\n",
       "      <td>1</td>\n",
       "      <td>63</td>\n",
       "      <td>RG252</td>\n",
       "      <td>Other</td>\n",
       "      <td>X3</td>\n",
       "      <td>74</td>\n",
       "      <td>1</td>\n",
       "      <td>293459</td>\n",
       "      <td>1</td>\n",
       "      <td>0</td>\n",
       "    </tr>\n",
       "    <tr>\n",
       "      <th>165599</th>\n",
       "      <td>1</td>\n",
       "      <td>31</td>\n",
       "      <td>RG251</td>\n",
       "      <td>Salaried</td>\n",
       "      <td>X1</td>\n",
       "      <td>27</td>\n",
       "      <td>1</td>\n",
       "      <td>566075</td>\n",
       "      <td>1</td>\n",
       "      <td>0</td>\n",
       "    </tr>\n",
       "    <tr>\n",
       "      <th>9202</th>\n",
       "      <td>1</td>\n",
       "      <td>33</td>\n",
       "      <td>RG268</td>\n",
       "      <td>Salaried</td>\n",
       "      <td>X1</td>\n",
       "      <td>32</td>\n",
       "      <td>0</td>\n",
       "      <td>1359021</td>\n",
       "      <td>0</td>\n",
       "      <td>0</td>\n",
       "    </tr>\n",
       "  </tbody>\n",
       "</table>\n",
       "</div>"
      ],
      "text/plain": [
       "        Gender  Age Region_Code     Occupation Channel_Code  Vintage  \\\n",
       "123214       0   61       RG277  Self_Employed           X3       55   \n",
       "119975       1   48       RG283  Self_Employed           X2       20   \n",
       "14340        1   26       RG270       Salaried           X1       15   \n",
       "166137       1   39       RG283  Self_Employed           X2       63   \n",
       "39191        1   37       RG256       Salaried           X1       33   \n",
       "10468        0   41       RG254  Self_Employed           X2       75   \n",
       "55405        0   46       RG269  Self_Employed           X3       61   \n",
       "83937        1   63       RG252          Other           X3       74   \n",
       "165599       1   31       RG251       Salaried           X1       27   \n",
       "9202         1   33       RG268       Salaried           X1       32   \n",
       "\n",
       "        Credit_Product  Avg_Account_Balance  Is_Active  Is_Lead  \n",
       "123214               1               658760          0        0  \n",
       "119975               1               947787          0        0  \n",
       "14340                0               790355          0        0  \n",
       "166137               0               458154          0        0  \n",
       "39191                0              1143552          0        0  \n",
       "10468                0              1888188          0        0  \n",
       "55405                0              2021866          1        0  \n",
       "83937                1               293459          1        0  \n",
       "165599               1               566075          1        0  \n",
       "9202                 0              1359021          0        0  "
      ]
     },
     "execution_count": 20,
     "metadata": {},
     "output_type": "execute_result"
    }
   ],
   "source": [
    "dfmod.sample(10)"
   ]
  },
  {
   "cell_type": "markdown",
   "id": "a6c73f20-95ec-4201-b10b-36d297f9b4ae",
   "metadata": {},
   "source": [
    "[Back to Top](#Top)"
   ]
  },
  {
   "cell_type": "markdown",
   "id": "57d6e0f9-4217-47ce-8ecc-fa616fae5689",
   "metadata": {},
   "source": [
    "<a id=\"viz\"></a>"
   ]
  },
  {
   "cell_type": "markdown",
   "id": "904c071f-558d-45bf-8fb7-fb4fca9cb619",
   "metadata": {},
   "source": [
    "### Visualization"
   ]
  },
  {
   "cell_type": "code",
   "execution_count": 21,
   "id": "9542c30a-2cfb-4d34-8ab0-ae7d73ea0932",
   "metadata": {},
   "outputs": [
    {
     "data": {
      "text/plain": [
       "<seaborn.axisgrid.FacetGrid at 0x26ed1f15ca0>"
      ]
     },
     "execution_count": 21,
     "metadata": {},
     "output_type": "execute_result"
    },
    {
     "data": {
      "text/plain": [
       "<AxesSubplot:xlabel='Is_Active', ylabel='Avg_Account_Balance'>"
      ]
     },
     "execution_count": 21,
     "metadata": {},
     "output_type": "execute_result"
    },
    {
     "data": {
      "image/png": "[encoded data removed]",
      "text/plain": [
       "<Figure size 360x360 with 1 Axes>"
      ]
     },
     "metadata": {
      "needs_background": "light"
     },
     "output_type": "display_data"
    }
   ],
   "source": [
    "# Look at the differences between leads and non-leads in terms of average account balance\n",
    "\n",
    "sns.catplot(x = 'Is_Lead', y = 'Avg_Account_Balance', data = dfmod,  kind=\"box\")\n",
    "sns.stripplot(x = 'Is_Active', y = 'Avg_Account_Balance', data = dfmod, jitter=0.06,color='k',alpha=0.03)"
   ]
  },
  {
   "cell_type": "code",
   "execution_count": 22,
   "id": "d8a23831-a3b9-4144-aaa1-e65f2ba83f61",
   "metadata": {},
   "outputs": [
    {
     "data": {
      "text/plain": [
       "<seaborn.axisgrid.FacetGrid at 0x26ed1f1db80>"
      ]
     },
     "execution_count": 22,
     "metadata": {},
     "output_type": "execute_result"
    },
    {
     "data": {
      "text/plain": [
       "<AxesSubplot:xlabel='Is_Active', ylabel='Avg_Account_Balance'>"
      ]
     },
     "execution_count": 22,
     "metadata": {},
     "output_type": "execute_result"
    },
    {
     "data": {
      "image/png": "[encoded data removed]",
      "text/plain": [
       "<Figure size 360x360 with 1 Axes>"
      ]
     },
     "metadata": {
      "needs_background": "light"
     },
     "output_type": "display_data"
    }
   ],
   "source": [
    "# Look at the differences between active and inactive clients in terms of average account balance \n",
    "\n",
    "sns.catplot(x = 'Is_Active', y = 'Avg_Account_Balance', data = dfmod,  kind=\"box\")\n",
    "sns.stripplot(x = 'Is_Active', y = 'Avg_Account_Balance', data = dfmod, jitter=0.06,color='k',alpha=0.03)"
   ]
  },
  {
   "cell_type": "code",
   "execution_count": 23,
   "id": "6923a6a0-1afc-4fd3-99bb-e2631a9345a3",
   "metadata": {},
   "outputs": [
    {
     "data": {
      "text/html": [
       "<div>\n",
       "<style scoped>\n",
       "    .dataframe tbody tr th:only-of-type {\n",
       "        vertical-align: middle;\n",
       "    }\n",
       "\n",
       "    .dataframe tbody tr th {\n",
       "        vertical-align: top;\n",
       "    }\n",
       "\n",
       "    .dataframe thead th {\n",
       "        text-align: right;\n",
       "    }\n",
       "</style>\n",
       "<table border=\"1\" class=\"dataframe\">\n",
       "  <thead>\n",
       "    <tr style=\"text-align: right;\">\n",
       "      <th></th>\n",
       "      <th>Gender</th>\n",
       "      <th>Age</th>\n",
       "      <th>Region_Code</th>\n",
       "      <th>Occupation</th>\n",
       "      <th>Channel_Code</th>\n",
       "      <th>Vintage</th>\n",
       "      <th>Credit_Product</th>\n",
       "      <th>Avg_Account_Balance</th>\n",
       "      <th>Is_Active</th>\n",
       "      <th>Is_Lead</th>\n",
       "    </tr>\n",
       "  </thead>\n",
       "  <tbody>\n",
       "  </tbody>\n",
       "</table>\n",
       "</div>"
      ],
      "text/plain": [
       "Empty DataFrame\n",
       "Columns: [Gender, Age, Region_Code, Occupation, Channel_Code, Vintage, Credit_Product, Avg_Account_Balance, Is_Active, Is_Lead]\n",
       "Index: []"
      ]
     },
     "execution_count": 23,
     "metadata": {},
     "output_type": "execute_result"
    }
   ],
   "source": [
    "dfmod.head(0)"
   ]
  },
  {
   "cell_type": "code",
   "execution_count": 24,
   "id": "c1acee64-13b7-4ea6-9a02-d93b46bd6240",
   "metadata": {},
   "outputs": [],
   "source": [
    "bins = np.arange(dfmod.Avg_Account_Balance.min(),dfmod.Avg_Account_Balance.max(),200000)"
   ]
  },
  {
   "cell_type": "code",
   "execution_count": 39,
   "id": "c9317249-bed9-4e68-9db6-46785bfdd053",
   "metadata": {},
   "outputs": [
    {
     "data": {
      "image/png": "[encoded data removed]",
      "text/plain": [
       "<Figure size 1440x1440 with 9 Axes>"
      ]
     },
     "metadata": {
      "needs_background": "light"
     },
     "output_type": "display_data"
    }
   ],
   "source": [
    "# Check contributing factors to a client being a lead across customer attributes\n",
    "\n",
    "fig, axes = plt.subplots(nrows = 3,ncols = 3,figsize = (20,20))\n",
    "sns.countplot(x = \"Is_Active\", hue = 'Is_Lead', data = dfmod, ax=axes[0][0])\n",
    "sns.countplot(x = \"Gender\", hue = 'Is_Lead', data = dfmod, ax=axes[0][1])\n",
    "sns.histplot(x = \"Age\", hue = 'Is_Lead', bins=30, data = dfmod, element = \"step\", ax=axes[0][2], palette=['#ed2e0c',\"#0ced26\"])\n",
    "sns.histplot(x = 'Region_Code', hue = \"Is_Lead\", bins = 50, data = dfmod, element = \"bars\", ax=axes[1][0],)\n",
    "sns.countplot(x = \"Occupation\", hue = 'Is_Lead', data = dfmod, ax=axes[1][1])\n",
    "sns.countplot(x = \"Channel_Code\", hue = 'Is_Lead', data = dfmod, ax=axes[1][2])\n",
    "sns.histplot(x = \"Vintage\", bins = 30, hue = 'Is_Lead', data = dfmod, ax=axes[2][0], element = 'step', palette=['#ed2e0c',\"#0ced26\"])\n",
    "sns.countplot(x = \"Credit_Product\", hue = 'Is_Lead', data = dfmod, ax=axes[2][1])\n",
    "sns.histplot(x = \"Avg_Account_Balance\", hue = \"Is_Lead\", bins = bins, data = dfmod, ax=axes[2][2])\n",
    "#ax = sns.countplot(x = \"Credit_Product\", hue = 'Gender', data = dfmod, ax=axes[1][2])\n",
    "#ax.set_xticklabels(ax.get_xticklabels(),rotation=90)\n",
    "plt.show(fig);\n",
    "\n",
    "#sns.countplot(x = \"Region_Code\", hue = 'Is_Lead', data = dfmod, ax=axes[1][0]) #remove."
   ]
  },
  {
   "cell_type": "code",
   "execution_count": 47,
   "id": "6dc2369d-f4bb-4071-b5be-8e0626062e8b",
   "metadata": {},
   "outputs": [
    {
     "data": {
      "image/png": "[encoded data removed]",
      "text/plain": [
       "<Figure size 1440x1080 with 9 Axes>"
      ]
     },
     "metadata": {
      "needs_background": "light"
     },
     "output_type": "display_data"
    }
   ],
   "source": [
    "# Check contributing factors to a customer being active across customer attributes\n",
    "\n",
    "bins = np.arange(dfmod.Avg_Account_Balance.min(),dfmod.Avg_Account_Balance.max(),200000)\n",
    "\n",
    "fig, axes = plt.subplots(nrows = 3,ncols = 3,figsize = (20,15))\n",
    "sns.countplot(x = \"Is_Lead\", hue = 'Is_Active', data = dfmod, ax=axes[0][0])\n",
    "sns.countplot(x = \"Gender\", hue = 'Is_Active', data = dfmod, ax=axes[0][1])\n",
    "sns.histplot(x = \"Age\", hue = 'Is_Active', bins=30, data = dfmod, element = \"step\", ax=axes[0][2], palette=['#ed2e0c',\"#0ced26\"])\n",
    "sns.histplot(x = 'Region_Code', hue = \"Is_Active\", bins = 50, data = dfmod, element = \"bars\", ax=axes[1][0],)\n",
    "sns.histplot(x = \"Age\", bins = 30, y = 'Vintage', data = dfmod, ax=axes[1][2])\n",
    "sns.countplot(x = \"Channel_Code\", hue = 'Is_Active', data = dfmod, ax=axes[1][2])\n",
    "sns.histplot(x = \"Vintage\", bins = 30, hue = 'Is_Active', data = dfmod, ax=axes[2][0], element = 'step', palette=['#ed2e0c',\"#0ced26\"])\n",
    "sns.countplot(x = \"Credit_Product\", hue = 'Is_Active', data = dfmod, ax=axes[2][1])\n",
    "sns.histplot(x = \"Avg_Account_Balance\", hue = \"Is_Active\", bins = bins, data = dfmod, ax=axes[2][2])\n",
    "#ax = sns.countplot(x = \"Credit_Product\", hue = 'Gender', data = dfmod, ax=axes[1][2])\n",
    "#ax.set_xticklabels(ax.get_xticklabels(),rotation=90)\n",
    "plt.show(fig);\n",
    "\n",
    "# sns.countplot(x = \"Region_Code\", hue = 'Is_Active', data = dfmod, ax=axes[1][0])"
   ]
  },
  {
   "cell_type": "code",
   "execution_count": 45,
   "id": "cef399ba-d065-404d-9edc-b114dd3d970c",
   "metadata": {},
   "outputs": [
    {
     "data": {
      "image/png": "[encoded data removed]",
      "text/plain": [
       "<Figure size 1440x1080 with 9 Axes>"
      ]
     },
     "metadata": {
      "needs_background": "light"
     },
     "output_type": "display_data"
    }
   ],
   "source": [
    "# Check contributing factors to channel codes and regions across customer attributes\n",
    "\n",
    "bins = np.arange(dfmod.Avg_Account_Balance.min(),dfmod.Avg_Account_Balance.max(),200000)\n",
    "#sns.histplot(x = \"Vintage\", bins = 30, hue = 'Is_Active', data = dfmod, ax=axes[2][0], element = 'step', palette=['#ed2e0c',\"#0ced26\"])\n",
    "fig, axes = plt.subplots(nrows = 3,ncols = 3,figsize = (20,15))\n",
    "sns.histplot(x = \"Avg_Account_Balance\", bins = 30, hue = 'Channel_Code', data = dfmod, ax=axes[0][0], element = 'step')\n",
    "sns.histplot(x = \"Avg_Account_Balance\", bins = 30, hue = 'Gender', data = dfmod, ax=axes[0][1], element = 'step')\n",
    "sns.histplot(x = \"Age\", hue = 'Channel_Code', bins=30, data = dfmod, element = \"step\", ax=axes[0][2])\n",
    "sns.histplot(x = 'Region_Code', hue = \"Is_Active\", bins = 50, data = dfmod, element = \"bars\", ax=axes[1][0],)\n",
    "sns.countplot(x = \"Occupation\", hue = 'Is_Active', data = dfmod, ax=axes[1][1])\n",
    "sns.countplot(x = \"Channel_Code\", hue = 'Is_Active', data = dfmod, ax=axes[1][2])\n",
    "sns.histplot(x = \"Vintage\", bins = 30, hue = 'Is_Active', data = dfmod, ax=axes[2][0], element = 'step', palette=['#ed2e0c',\"#0ced26\"])\n",
    "sns.countplot(x = \"Credit_Product\", hue = 'Is_Active', data = dfmod, ax=axes[2][1])\n",
    "sns.histplot(x = \"Avg_Account_Balance\", hue = \"Is_Active\", bins = bins, data = dfmod, ax=axes[2][2])\n",
    "#ax = sns.countplot(x = \"Credit_Product\", hue = 'Gender', data = dfmod, ax=axes[1][2])\n",
    "#ax.set_xticklabels(ax.get_xticklabels(),rotation=90)\n",
    "plt.show(fig);\n",
    "\n",
    "# sns.countplot(x = \"Region_Code\", hue = 'Is_Active', data = dfmod, ax=axes[1][0])"
   ]
  },
  {
   "cell_type": "code",
   "execution_count": 50,
   "id": "913be93d-c9cf-4b69-869b-88cb83995443",
   "metadata": {},
   "outputs": [
    {
     "data": {
      "text/plain": [
       "<AxesSubplot:xlabel='Vintage', ylabel='Age'>"
      ]
     },
     "execution_count": 50,
     "metadata": {},
     "output_type": "execute_result"
    },
    {
     "data": {
      "image/png": "[encoded data removed]",
      "text/plain": [
       "<Figure size 864x360 with 1 Axes>"
      ]
     },
     "metadata": {
      "needs_background": "light"
     },
     "output_type": "display_data"
    }
   ],
   "source": [
    "sns.histplot(dfmod, x=\"Vintage\", y=\"Age\")"
   ]
  },
  {
   "cell_type": "code",
   "execution_count": null,
   "id": "188511ca-bfec-4916-8046-3582688f494e",
   "metadata": {},
   "outputs": [],
   "source": [
    "sns.histplot(dfmod, x=\"Gender\", y=\"Channel_Code\")"
   ]
  },
  {
   "cell_type": "code",
   "execution_count": 27,
   "id": "56e2f110-91ec-4886-8c3c-346063cf0987",
   "metadata": {},
   "outputs": [
    {
     "data": {
      "image/png": "[encoded data removed]",
      "text/plain": [
       "<Figure size 864x360 with 1 Axes>"
      ]
     },
     "metadata": {
      "needs_background": "light"
     },
     "output_type": "display_data"
    },
    {
     "data": {
      "image/png": "[encoded data removed]",
      "text/plain": [
       "<Figure size 864x360 with 1 Axes>"
      ]
     },
     "metadata": {
      "needs_background": "light"
     },
     "output_type": "display_data"
    },
    {
     "data": {
      "image/png": "[encoded data removed]",
      "text/plain": [
       "<Figure size 864x360 with 1 Axes>"
      ]
     },
     "metadata": {
      "needs_background": "light"
     },
     "output_type": "display_data"
    }
   ],
   "source": [
    "#Zooming in on whether inactive clients could be leads\n",
    "sns.countplot(x = \"Is_Active\", hue = 'Is_Lead', data = dfmod)\n",
    "plt.grid()\n",
    "plt.show();\n",
    "#Zooming in on how active are the leads\n",
    "sns.countplot(x = \"Is_Lead\", hue = 'Is_Active', data = dfmod)\n",
    "plt.grid()\n",
    "plt.show();\n",
    "#Which occupation has which product already?\n",
    "sns.countplot(x = \"Occupation\", hue = 'Credit_Product', data = dfmod)\n",
    "plt.grid()\n",
    "plt.show();"
   ]
  },
  {
   "cell_type": "code",
   "execution_count": 28,
   "id": "fe386b54-0f98-4738-b8c9-1df103cf72e1",
   "metadata": {},
   "outputs": [],
   "source": [
    "#venn diagram not working for now\n",
    "\n",
    "# from matplotlib_venn import venn2\n",
    "\n",
    "# plt.figure(figsize=(4,4))\n",
    "# set1 = set(dfmod.loc[dfmod['Is_Active'] == 1])\n",
    "# set2 = set(dfmod.loc[dfmod['Is_Lead'] == 1])\n",
    "\n",
    "# venn2([set1, set2], ('Active', 'Lead'))\n",
    "# plt.show()"
   ]
  },
  {
   "cell_type": "code",
   "execution_count": 29,
   "id": "ab92bf12-cf6d-47f5-8608-6601451d3395",
   "metadata": {
    "tags": []
   },
   "outputs": [
    {
     "data": {
      "image/png": "[encoded data removed]",
      "text/plain": [
       "<Figure size 864x360 with 1 Axes>"
      ]
     },
     "metadata": {
      "needs_background": "light"
     },
     "output_type": "display_data"
    }
   ],
   "source": [
    "#Check Leads based on average account balance. \n",
    "#This is done in a dedicated cell since the Average Account attribute is the most data-heavy.\n",
    "bins = np.arange(dfmod.Avg_Account_Balance.min(),dfmod.Avg_Account_Balance.max(),200000)\n",
    "sns.histplot(x = \"Avg_Account_Balance\", hue = \"Is_Lead\", bins = bins, data = dfmod)\n",
    "plt.show();"
   ]
  },
  {
   "cell_type": "code",
   "execution_count": 30,
   "id": "d1a8ed34-87a9-4a58-992d-abc664259aee",
   "metadata": {},
   "outputs": [
    {
     "data": {
      "image/png": "[encoded data removed]",
      "text/plain": [
       "<Figure size 864x360 with 1 Axes>"
      ]
     },
     "metadata": {
      "needs_background": "light"
     },
     "output_type": "display_data"
    }
   ],
   "source": [
    "bins = np.arange(dfmod.Avg_Account_Balance.min(),dfmod.Avg_Account_Balance.max(),200000)\n",
    "sns.histplot(x = \"Avg_Account_Balance\", hue = \"Is_Lead\", data = dfmod, log_scale=True)\n",
    "plt.show();"
   ]
  },
  {
   "cell_type": "code",
   "execution_count": 31,
   "id": "6d30331e-823b-45ab-9d0d-3e9355144522",
   "metadata": {},
   "outputs": [
    {
     "data": {
      "image/png": "[encoded data removed]",
      "text/plain": [
       "<Figure size 864x360 with 1 Axes>"
      ]
     },
     "metadata": {
      "needs_background": "light"
     },
     "output_type": "display_data"
    }
   ],
   "source": [
    "df['Avg_Account_Balance'].hist(bins=50, density=True,color='#bbb34b')\n",
    "plt.ylabel('Number of Clients')\n",
    "plt.xlabel('Average Account Balance Monthly')\n",
    "plt.show();"
   ]
  },
  {
   "cell_type": "code",
   "execution_count": 32,
   "id": "5b887c68-8dc9-48b9-bf53-db730aec6108",
   "metadata": {},
   "outputs": [
    {
     "data": {
      "image/png": "[encoded data removed]",
      "text/plain": [
       "<Figure size 864x360 with 1 Axes>"
      ]
     },
     "metadata": {
      "needs_background": "light"
     },
     "output_type": "display_data"
    }
   ],
   "source": [
    "np.log(df['Avg_Account_Balance']).hist(bins=50, density=True,color='#39cc5c')\n",
    "plt.ylabel('Number of Clients')\n",
    "plt.xlabel('Average Account Balance Monthly')\n",
    "plt.show();"
   ]
  },
  {
   "cell_type": "code",
   "execution_count": 33,
   "id": "608c2a44-5f1c-44c6-aeab-894c9ebfb2aa",
   "metadata": {},
   "outputs": [
    {
     "data": {
      "image/png": "[encoded data removed]",
      "text/plain": [
       "<Figure size 864x360 with 1 Axes>"
      ]
     },
     "metadata": {
      "needs_background": "light"
     },
     "output_type": "display_data"
    }
   ],
   "source": [
    "#Check Leads based on average account balance. \n",
    "#This is done in a dedicated cell since the Average Account attribute is the most data-heavy.\n",
    "sns.histplot(x = \"Avg_Account_Balance\", hue = 'Region_Code', bins = 50, data = dfmod, palette = \"tab10\", element = \"step\", alpha = 0.4)\n",
    "plt.show();\n",
    "#sns.histplot(x = \"Avg_Account_Balance\", hue = 'Region_Code', bins = 50, element = \"poly\", data = dfmod, ax=axes[1][0])"
   ]
  },
  {
   "cell_type": "code",
   "execution_count": null,
   "id": "9e0d9af3-4aa1-4a26-a0ba-4b35be6af368",
   "metadata": {},
   "outputs": [],
   "source": []
  },
  {
   "cell_type": "code",
   "execution_count": 34,
   "id": "9f66b75d-8f04-48d9-8386-7a3aee77cfa9",
   "metadata": {},
   "outputs": [
    {
     "data": {
      "image/png": "[encoded data removed]",
      "text/plain": [
       "<Figure size 864x360 with 1 Axes>"
      ]
     },
     "metadata": {
      "needs_background": "light"
     },
     "output_type": "display_data"
    }
   ],
   "source": [
    "#Check Leads based on average account balance. \n",
    "#This is done in a dedicated cell since the Average Account attribute is the most data-heavy.\n",
    "sns.histplot(x = 'Region_Code', hue = \"Is_Lead\", bins = 50, data = dfmod, palette = \"tab10\", element = \"bars\", alpha = 0.4)\n",
    "plt.xticks(rotation=70) \n",
    "plt.show();\n",
    "#sns.histplot(x = \"Avg_Account_Balance\", hue = 'Region_Code', bins = 50, element = \"poly\", data = dfmod, ax=axes[1][0])"
   ]
  },
  {
   "cell_type": "code",
   "execution_count": 35,
   "id": "8b783128-e24b-4f11-83a6-af9c9d3fffe3",
   "metadata": {},
   "outputs": [
    {
     "data": {
      "text/plain": [
       "0         1045696\n",
       "1          581988\n",
       "2         1484315\n",
       "3          470454\n",
       "4          886787\n",
       "           ...   \n",
       "245720    1925586\n",
       "245721     862952\n",
       "245722     670659\n",
       "245723     407504\n",
       "245724    1129276\n",
       "Name: Avg_Account_Balance, Length: 245725, dtype: int64"
      ]
     },
     "execution_count": 35,
     "metadata": {},
     "output_type": "execute_result"
    }
   ],
   "source": [
    "dfmod.Avg_Account_Balance"
   ]
  },
  {
   "cell_type": "code",
   "execution_count": 36,
   "id": "4bf71a3d-50f3-4152-b0cb-728ca8ca0fd6",
   "metadata": {},
   "outputs": [
    {
     "ename": "AttributeError",
     "evalue": "'Rectangle' object has no property 'bins'",
     "output_type": "error",
     "traceback": [
      "\u001b[1;31m---------------------------------------------------------------------------\u001b[0m",
      "\u001b[1;31mAttributeError\u001b[0m                            Traceback (most recent call last)",
      "\u001b[1;32m~\\AppData\\Local\\Temp/ipykernel_1496/16428688.py\u001b[0m in \u001b[0;36m<module>\u001b[1;34m\u001b[0m\n\u001b[0;32m      1\u001b[0m \u001b[0mbins\u001b[0m \u001b[1;33m=\u001b[0m \u001b[0mnp\u001b[0m\u001b[1;33m.\u001b[0m\u001b[0marange\u001b[0m\u001b[1;33m(\u001b[0m\u001b[0mdfmod\u001b[0m\u001b[1;33m.\u001b[0m\u001b[0mAvg_Account_Balance\u001b[0m\u001b[1;33m.\u001b[0m\u001b[0mmin\u001b[0m\u001b[1;33m(\u001b[0m\u001b[1;33m)\u001b[0m\u001b[1;33m,\u001b[0m\u001b[0mdfmod\u001b[0m\u001b[1;33m.\u001b[0m\u001b[0mAvg_Account_Balance\u001b[0m\u001b[1;33m.\u001b[0m\u001b[0mmax\u001b[0m\u001b[1;33m(\u001b[0m\u001b[1;33m)\u001b[0m\u001b[1;33m,\u001b[0m\u001b[1;36m200000\u001b[0m\u001b[1;33m)\u001b[0m\u001b[1;33m\u001b[0m\u001b[1;33m\u001b[0m\u001b[0m\n\u001b[1;32m----> 2\u001b[1;33m \u001b[0msns\u001b[0m\u001b[1;33m.\u001b[0m\u001b[0mcountplot\u001b[0m\u001b[1;33m(\u001b[0m\u001b[1;34m\"Avg_Account_Balance\"\u001b[0m\u001b[1;33m,\u001b[0m \u001b[0mdata\u001b[0m\u001b[1;33m=\u001b[0m\u001b[0mdfmod\u001b[0m\u001b[1;33m,\u001b[0m \u001b[0mbins\u001b[0m \u001b[1;33m=\u001b[0m\u001b[0mbins\u001b[0m\u001b[1;33m)\u001b[0m\u001b[1;33m\u001b[0m\u001b[1;33m\u001b[0m\u001b[0m\n\u001b[0m\u001b[0;32m      3\u001b[0m \u001b[1;31m#plt.xticks(bins,rotation=70)\u001b[0m\u001b[1;33m\u001b[0m\u001b[1;33m\u001b[0m\u001b[1;33m\u001b[0m\u001b[0m\n\u001b[0;32m      4\u001b[0m \u001b[0mplt\u001b[0m\u001b[1;33m.\u001b[0m\u001b[0mshow\u001b[0m\u001b[1;33m(\u001b[0m\u001b[1;33m)\u001b[0m\u001b[1;33m;\u001b[0m\u001b[1;33m\u001b[0m\u001b[1;33m\u001b[0m\u001b[0m\n",
      "\u001b[1;32m~\\.conda\\envs\\env1\\lib\\site-packages\\seaborn\\_decorators.py\u001b[0m in \u001b[0;36minner_f\u001b[1;34m(*args, **kwargs)\u001b[0m\n\u001b[0;32m     44\u001b[0m             )\n\u001b[0;32m     45\u001b[0m         \u001b[0mkwargs\u001b[0m\u001b[1;33m.\u001b[0m\u001b[0mupdate\u001b[0m\u001b[1;33m(\u001b[0m\u001b[1;33m{\u001b[0m\u001b[0mk\u001b[0m\u001b[1;33m:\u001b[0m \u001b[0marg\u001b[0m \u001b[1;32mfor\u001b[0m \u001b[0mk\u001b[0m\u001b[1;33m,\u001b[0m \u001b[0marg\u001b[0m \u001b[1;32min\u001b[0m \u001b[0mzip\u001b[0m\u001b[1;33m(\u001b[0m\u001b[0msig\u001b[0m\u001b[1;33m.\u001b[0m\u001b[0mparameters\u001b[0m\u001b[1;33m,\u001b[0m \u001b[0margs\u001b[0m\u001b[1;33m)\u001b[0m\u001b[1;33m}\u001b[0m\u001b[1;33m)\u001b[0m\u001b[1;33m\u001b[0m\u001b[1;33m\u001b[0m\u001b[0m\n\u001b[1;32m---> 46\u001b[1;33m         \u001b[1;32mreturn\u001b[0m \u001b[0mf\u001b[0m\u001b[1;33m(\u001b[0m\u001b[1;33m**\u001b[0m\u001b[0mkwargs\u001b[0m\u001b[1;33m)\u001b[0m\u001b[1;33m\u001b[0m\u001b[1;33m\u001b[0m\u001b[0m\n\u001b[0m\u001b[0;32m     47\u001b[0m     \u001b[1;32mreturn\u001b[0m \u001b[0minner_f\u001b[0m\u001b[1;33m\u001b[0m\u001b[1;33m\u001b[0m\u001b[0m\n\u001b[0;32m     48\u001b[0m \u001b[1;33m\u001b[0m\u001b[0m\n",
      "\u001b[1;32m~\\.conda\\envs\\env1\\lib\\site-packages\\seaborn\\categorical.py\u001b[0m in \u001b[0;36mcountplot\u001b[1;34m(x, y, hue, data, order, hue_order, orient, color, palette, saturation, dodge, ax, **kwargs)\u001b[0m\n\u001b[0;32m   3605\u001b[0m         \u001b[0max\u001b[0m \u001b[1;33m=\u001b[0m \u001b[0mplt\u001b[0m\u001b[1;33m.\u001b[0m\u001b[0mgca\u001b[0m\u001b[1;33m(\u001b[0m\u001b[1;33m)\u001b[0m\u001b[1;33m\u001b[0m\u001b[1;33m\u001b[0m\u001b[0m\n\u001b[0;32m   3606\u001b[0m \u001b[1;33m\u001b[0m\u001b[0m\n\u001b[1;32m-> 3607\u001b[1;33m     \u001b[0mplotter\u001b[0m\u001b[1;33m.\u001b[0m\u001b[0mplot\u001b[0m\u001b[1;33m(\u001b[0m\u001b[0max\u001b[0m\u001b[1;33m,\u001b[0m \u001b[0mkwargs\u001b[0m\u001b[1;33m)\u001b[0m\u001b[1;33m\u001b[0m\u001b[1;33m\u001b[0m\u001b[0m\n\u001b[0m\u001b[0;32m   3608\u001b[0m     \u001b[1;32mreturn\u001b[0m \u001b[0max\u001b[0m\u001b[1;33m\u001b[0m\u001b[1;33m\u001b[0m\u001b[0m\n\u001b[0;32m   3609\u001b[0m \u001b[1;33m\u001b[0m\u001b[0m\n",
      "\u001b[1;32m~\\.conda\\envs\\env1\\lib\\site-packages\\seaborn\\categorical.py\u001b[0m in \u001b[0;36mplot\u001b[1;34m(self, ax, bar_kws)\u001b[0m\n\u001b[0;32m   1637\u001b[0m     \u001b[1;32mdef\u001b[0m \u001b[0mplot\u001b[0m\u001b[1;33m(\u001b[0m\u001b[0mself\u001b[0m\u001b[1;33m,\u001b[0m \u001b[0max\u001b[0m\u001b[1;33m,\u001b[0m \u001b[0mbar_kws\u001b[0m\u001b[1;33m)\u001b[0m\u001b[1;33m:\u001b[0m\u001b[1;33m\u001b[0m\u001b[1;33m\u001b[0m\u001b[0m\n\u001b[0;32m   1638\u001b[0m         \u001b[1;34m\"\"\"Make the plot.\"\"\"\u001b[0m\u001b[1;33m\u001b[0m\u001b[1;33m\u001b[0m\u001b[0m\n\u001b[1;32m-> 1639\u001b[1;33m         \u001b[0mself\u001b[0m\u001b[1;33m.\u001b[0m\u001b[0mdraw_bars\u001b[0m\u001b[1;33m(\u001b[0m\u001b[0max\u001b[0m\u001b[1;33m,\u001b[0m \u001b[0mbar_kws\u001b[0m\u001b[1;33m)\u001b[0m\u001b[1;33m\u001b[0m\u001b[1;33m\u001b[0m\u001b[0m\n\u001b[0m\u001b[0;32m   1640\u001b[0m         \u001b[0mself\u001b[0m\u001b[1;33m.\u001b[0m\u001b[0mannotate_axes\u001b[0m\u001b[1;33m(\u001b[0m\u001b[0max\u001b[0m\u001b[1;33m)\u001b[0m\u001b[1;33m\u001b[0m\u001b[1;33m\u001b[0m\u001b[0m\n\u001b[0;32m   1641\u001b[0m         \u001b[1;32mif\u001b[0m \u001b[0mself\u001b[0m\u001b[1;33m.\u001b[0m\u001b[0morient\u001b[0m \u001b[1;33m==\u001b[0m \u001b[1;34m\"h\"\u001b[0m\u001b[1;33m:\u001b[0m\u001b[1;33m\u001b[0m\u001b[1;33m\u001b[0m\u001b[0m\n",
      "\u001b[1;32m~\\.conda\\envs\\env1\\lib\\site-packages\\seaborn\\categorical.py\u001b[0m in \u001b[0;36mdraw_bars\u001b[1;34m(self, ax, kws)\u001b[0m\n\u001b[0;32m   1602\u001b[0m \u001b[1;33m\u001b[0m\u001b[0m\n\u001b[0;32m   1603\u001b[0m             \u001b[1;31m# Draw the bars\u001b[0m\u001b[1;33m\u001b[0m\u001b[1;33m\u001b[0m\u001b[1;33m\u001b[0m\u001b[0m\n\u001b[1;32m-> 1604\u001b[1;33m             barfunc(barpos, self.statistic, self.width,\n\u001b[0m\u001b[0;32m   1605\u001b[0m                     color=self.colors, align=\"center\", **kws)\n\u001b[0;32m   1606\u001b[0m \u001b[1;33m\u001b[0m\u001b[0m\n",
      "\u001b[1;32m~\\.conda\\envs\\env1\\lib\\site-packages\\matplotlib\\__init__.py\u001b[0m in \u001b[0;36minner\u001b[1;34m(ax, data, *args, **kwargs)\u001b[0m\n\u001b[0;32m   1359\u001b[0m     \u001b[1;32mdef\u001b[0m \u001b[0minner\u001b[0m\u001b[1;33m(\u001b[0m\u001b[0max\u001b[0m\u001b[1;33m,\u001b[0m \u001b[1;33m*\u001b[0m\u001b[0margs\u001b[0m\u001b[1;33m,\u001b[0m \u001b[0mdata\u001b[0m\u001b[1;33m=\u001b[0m\u001b[1;32mNone\u001b[0m\u001b[1;33m,\u001b[0m \u001b[1;33m**\u001b[0m\u001b[0mkwargs\u001b[0m\u001b[1;33m)\u001b[0m\u001b[1;33m:\u001b[0m\u001b[1;33m\u001b[0m\u001b[1;33m\u001b[0m\u001b[0m\n\u001b[0;32m   1360\u001b[0m         \u001b[1;32mif\u001b[0m \u001b[0mdata\u001b[0m \u001b[1;32mis\u001b[0m \u001b[1;32mNone\u001b[0m\u001b[1;33m:\u001b[0m\u001b[1;33m\u001b[0m\u001b[1;33m\u001b[0m\u001b[0m\n\u001b[1;32m-> 1361\u001b[1;33m             \u001b[1;32mreturn\u001b[0m \u001b[0mfunc\u001b[0m\u001b[1;33m(\u001b[0m\u001b[0max\u001b[0m\u001b[1;33m,\u001b[0m \u001b[1;33m*\u001b[0m\u001b[0mmap\u001b[0m\u001b[1;33m(\u001b[0m\u001b[0msanitize_sequence\u001b[0m\u001b[1;33m,\u001b[0m \u001b[0margs\u001b[0m\u001b[1;33m)\u001b[0m\u001b[1;33m,\u001b[0m \u001b[1;33m**\u001b[0m\u001b[0mkwargs\u001b[0m\u001b[1;33m)\u001b[0m\u001b[1;33m\u001b[0m\u001b[1;33m\u001b[0m\u001b[0m\n\u001b[0m\u001b[0;32m   1362\u001b[0m \u001b[1;33m\u001b[0m\u001b[0m\n\u001b[0;32m   1363\u001b[0m         \u001b[0mbound\u001b[0m \u001b[1;33m=\u001b[0m \u001b[0mnew_sig\u001b[0m\u001b[1;33m.\u001b[0m\u001b[0mbind\u001b[0m\u001b[1;33m(\u001b[0m\u001b[0max\u001b[0m\u001b[1;33m,\u001b[0m \u001b[1;33m*\u001b[0m\u001b[0margs\u001b[0m\u001b[1;33m,\u001b[0m \u001b[1;33m**\u001b[0m\u001b[0mkwargs\u001b[0m\u001b[1;33m)\u001b[0m\u001b[1;33m\u001b[0m\u001b[1;33m\u001b[0m\u001b[0m\n",
      "\u001b[1;32m~\\.conda\\envs\\env1\\lib\\site-packages\\matplotlib\\axes\\_axes.py\u001b[0m in \u001b[0;36mbar\u001b[1;34m(self, x, height, width, bottom, align, **kwargs)\u001b[0m\n\u001b[0;32m   2363\u001b[0m                 \u001b[0mhatch\u001b[0m\u001b[1;33m=\u001b[0m\u001b[0mhtch\u001b[0m\u001b[1;33m,\u001b[0m\u001b[1;33m\u001b[0m\u001b[1;33m\u001b[0m\u001b[0m\n\u001b[0;32m   2364\u001b[0m                 )\n\u001b[1;32m-> 2365\u001b[1;33m             \u001b[0mr\u001b[0m\u001b[1;33m.\u001b[0m\u001b[0mupdate\u001b[0m\u001b[1;33m(\u001b[0m\u001b[0mkwargs\u001b[0m\u001b[1;33m)\u001b[0m\u001b[1;33m\u001b[0m\u001b[1;33m\u001b[0m\u001b[0m\n\u001b[0m\u001b[0;32m   2366\u001b[0m             \u001b[0mr\u001b[0m\u001b[1;33m.\u001b[0m\u001b[0mget_path\u001b[0m\u001b[1;33m(\u001b[0m\u001b[1;33m)\u001b[0m\u001b[1;33m.\u001b[0m\u001b[0m_interpolation_steps\u001b[0m \u001b[1;33m=\u001b[0m \u001b[1;36m100\u001b[0m\u001b[1;33m\u001b[0m\u001b[1;33m\u001b[0m\u001b[0m\n\u001b[0;32m   2367\u001b[0m             \u001b[1;32mif\u001b[0m \u001b[0morientation\u001b[0m \u001b[1;33m==\u001b[0m \u001b[1;34m'vertical'\u001b[0m\u001b[1;33m:\u001b[0m\u001b[1;33m\u001b[0m\u001b[1;33m\u001b[0m\u001b[0m\n",
      "\u001b[1;32m~\\.conda\\envs\\env1\\lib\\site-packages\\matplotlib\\artist.py\u001b[0m in \u001b[0;36mupdate\u001b[1;34m(self, props)\u001b[0m\n\u001b[0;32m   1060\u001b[0m                     \u001b[0mfunc\u001b[0m \u001b[1;33m=\u001b[0m \u001b[0mgetattr\u001b[0m\u001b[1;33m(\u001b[0m\u001b[0mself\u001b[0m\u001b[1;33m,\u001b[0m \u001b[1;34mf\"set_{k}\"\u001b[0m\u001b[1;33m,\u001b[0m \u001b[1;32mNone\u001b[0m\u001b[1;33m)\u001b[0m\u001b[1;33m\u001b[0m\u001b[1;33m\u001b[0m\u001b[0m\n\u001b[0;32m   1061\u001b[0m                     \u001b[1;32mif\u001b[0m \u001b[1;32mnot\u001b[0m \u001b[0mcallable\u001b[0m\u001b[1;33m(\u001b[0m\u001b[0mfunc\u001b[0m\u001b[1;33m)\u001b[0m\u001b[1;33m:\u001b[0m\u001b[1;33m\u001b[0m\u001b[1;33m\u001b[0m\u001b[0m\n\u001b[1;32m-> 1062\u001b[1;33m                         raise AttributeError(f\"{type(self).__name__!r} object \"\n\u001b[0m\u001b[0;32m   1063\u001b[0m                                              f\"has no property {k!r}\")\n\u001b[0;32m   1064\u001b[0m                     \u001b[0mret\u001b[0m\u001b[1;33m.\u001b[0m\u001b[0mappend\u001b[0m\u001b[1;33m(\u001b[0m\u001b[0mfunc\u001b[0m\u001b[1;33m(\u001b[0m\u001b[0mv\u001b[0m\u001b[1;33m)\u001b[0m\u001b[1;33m)\u001b[0m\u001b[1;33m\u001b[0m\u001b[1;33m\u001b[0m\u001b[0m\n",
      "\u001b[1;31mAttributeError\u001b[0m: 'Rectangle' object has no property 'bins'"
     ]
    },
    {
     "data": {
      "image/png": "[encoded data removed]",
      "text/plain": [
       "<Figure size 864x360 with 1 Axes>"
      ]
     },
     "metadata": {
      "needs_background": "light"
     },
     "output_type": "display_data"
    }
   ],
   "source": [
    "bins = np.arange(dfmod.Avg_Account_Balance.min(),dfmod.Avg_Account_Balance.max(),200000)\n",
    "sns.countplot(\"Avg_Account_Balance\", data=dfmod, bins =bins)\n",
    "#plt.xticks(bins,rotation=70) \n",
    "plt.show();"
   ]
  },
  {
   "cell_type": "code",
   "execution_count": null,
   "id": "3f747d8a-00a1-441c-b7e4-4f4c9e7489a5",
   "metadata": {},
   "outputs": [],
   "source": [
    "# top =  list(dfmod.Region_Code.value_counts() >7000)\n",
    "# # top = top.index\n",
    "# top = dfmod.Region_Code.loc[top]\n",
    "top = dfmod.Region_Code.value_counts().sort_values(ascending=False) \n",
    "top = dfmod.Region_Code.value_counts().nlargest(5)\n",
    "top"
   ]
  },
  {
   "cell_type": "code",
   "execution_count": null,
   "id": "c8c2f41b-e145-49a8-9dfb-dce7422b4e4e",
   "metadata": {},
   "outputs": [],
   "source": [
    "plt.figure(figsize=(10, 15))\n",
    "plt.pie(dfmod.Region_Code.value_counts().nlargest(5),\n",
    "        autopct='%1.1f%%',labels=[\"RG268\",\"RG283\",\"RG254\",\"RG284\",\"RG277\"], data=dfmod)\n",
    "plt.legend()\n",
    "#plt.xticks(bins,rotation=70)\n",
    "plt.show();"
   ]
  },
  {
   "cell_type": "code",
   "execution_count": null,
   "id": "4721eb3e-ba71-4436-9552-15f39d51fe1a",
   "metadata": {},
   "outputs": [],
   "source": [
    "dfmod.region_cODE > plt.figure(figsize=(30, 25))\n",
    "plt.pie(dfmod.Region_Code.value_counts(),autopct='%1.1f%%',labels= dfmod.Region_Code.unique(), data=dfmod)\n",
    "plt.legend()\n",
    "#plt.xticks(bins,rotation=70)\n",
    "plt.show();"
   ]
  },
  {
   "cell_type": "code",
   "execution_count": null,
   "id": "17f361d1-d720-44b8-a082-80b98d2ae1a5",
   "metadata": {},
   "outputs": [],
   "source": [
    "g= sns.histplot(x=\"Avg_Account_Balance\", hue=\"Region_Code\", bins = 30, data=dfmod, legend=True, element = \"step\", palette = 'Set2')\n",
    "plt.legend(title='Regions', loc='upper right', labels=['Region 1', 'Region 2', 'Region 3', 'Region 4'])\n",
    "plt.show();"
   ]
  },
  {
   "cell_type": "code",
   "execution_count": null,
   "id": "9d9ed694-64b9-4809-ab2c-5d1da5c7a684",
   "metadata": {},
   "outputs": [],
   "source": [
    "#Some segmentation and filtering for visualization\n",
    "\n",
    "Active = dfmod.loc[dfmod['Is_Active'] == 1].count()[0]\n",
    "Inactive= dfmod.loc[dfmod['Is_Active'] == 0].count()[0]\n",
    "\n",
    "Lead = dfmod.loc[dfmod['Is_Lead'] == 1].count()[0]\n",
    "NotLead= dfmod.loc[dfmod['Is_Lead'] == 0].count()[0]\n",
    "\n",
    "#Occupations\n",
    "\n",
    "E = dfmod.loc[dfmod['Occupation'] == \"Entrepreneur\"].count()[0]\n",
    "SE = dfmod.loc[dfmod['Occupation'] == \"Self_Employed\"].count()[0]\n",
    "S = dfmod.loc[dfmod['Occupation'] == \"Salaried\"].count()[0]\n",
    "O = dfmod.loc[dfmod['Occupation'] == \"Other\"].count()[0]"
   ]
  },
  {
   "cell_type": "code",
   "execution_count": null,
   "id": "2442d9cb-e77e-4230-be6b-5eb96f51f61f",
   "metadata": {},
   "outputs": [],
   "source": [
    "# plt.figure(figsize=(15, 5))\n",
    "# sns.distplot(Active['tenure'], color = \"r\", label = \"Churn\")\n",
    "# sns.distplot(Inactive['tenure'], color = \"g\", label = \"Not Churn\")\n",
    "# plt.legend()\n",
    "\n",
    "# # Company tends to lose most of customers early on and is able to retain them in the long term\n",
    "# plt.figure(figsize=(15, 5))\n",
    "# sns.distplot(df_churn['tenure'], color = \"r\", label = \"Churn\")\n",
    "# sns.distplot(df_notchurn['tenure'], color = \"g\", label = \"Not Churn\")\n",
    "# plt.legend()"
   ]
  },
  {
   "cell_type": "code",
   "execution_count": null,
   "id": "5ec33a91-c9d1-40a1-ab0d-15ccbf3eb221",
   "metadata": {},
   "outputs": [],
   "source": [
    "from sklearn.preprocessing import OrdinalEncoder\n",
    "\n",
    "# Create an ordinal encoder and apply it to the dataframe\n",
    "df_corr = dfmod.copy()\n",
    "encoder = OrdinalEncoder()\n",
    "for col in df_corr.columns:\n",
    "    if dfmod[col].dtype == 'object':\n",
    "        x = df_corr[col].values.reshape(-1, 1)\n",
    "        df_corr[col] = encoder.fit_transform(x)\n",
    "        \n",
    "# Create a correlation heatmap to check correlation between all features\n",
    "plt.figure(figsize=(17, 8))\n",
    "sns.heatmap(df_corr.corr(), vmin=-1, cmap='coolwarm', annot=True)"
   ]
  },
  {
   "cell_type": "markdown",
   "id": "18432d6c-2092-4f84-b546-33027d006b0c",
   "metadata": {},
   "source": [
    "???\n",
    "Based on the heatmap, it seems that there is not a large correlation between any single feature and the target variable. \n",
    "The highest correlation is to credit product, but that by itself is not good enough.\n",
    "Perhaps ML can extract a pattern by considering all factors together.\n",
    "\n",
    "It appears that the Age and Vintage columns are highly correlated, so later on I will remove one of them and check how the model behaves with and without it."
   ]
  },
  {
   "cell_type": "code",
   "execution_count": null,
   "id": "7ae40f28-8da8-403c-bf95-d76041495622",
   "metadata": {},
   "outputs": [],
   "source": [
    "plt.figure(figsize=(8,5))\n",
    "\n",
    "labels = ['Active', 'Inactive']\n",
    "colors = ['#56FC43', '#FC4343']\n",
    "\n",
    "plt.pie([Active, Inactive], labels = labels, colors=colors, autopct='%.2f %%')\n",
    "\n",
    "plt.title('Active/Inactive Customers (in last 3 months)')\n",
    "\n",
    "plt.show();"
   ]
  },
  {
   "cell_type": "code",
   "execution_count": null,
   "id": "37c8236a-8052-444f-b500-8630f1600adf",
   "metadata": {},
   "outputs": [],
   "source": [
    "plt.figure(figsize=(8,5))\n",
    "\n",
    "labels = ['Lead', 'Not a Lead']\n",
    "colors = ['#56FC43', '#FC4343']\n",
    "\n",
    "plt.pie([Lead, NotLead], labels = labels, colors=colors, autopct='%.2f %%')\n",
    "\n",
    "plt.title('How many leads do we have?')\n",
    "\n",
    "plt.show();"
   ]
  },
  {
   "cell_type": "code",
   "execution_count": null,
   "id": "8f60e0d1-d50f-427a-9708-12cffdd52576",
   "metadata": {},
   "outputs": [],
   "source": [
    "plt.figure(figsize=(8,5))\n",
    "\n",
    "labels = ['Entrepreneur', 'Self_Employed','Salaried','Other']\n",
    "\n",
    "plt.pie([E, SE, S, O], labels = labels, autopct='%.2f %%')\n",
    "\n",
    "plt.title('Break-down of clientelle by occupation')\n",
    "\n",
    "plt.show();"
   ]
  },
  {
   "cell_type": "code",
   "execution_count": null,
   "id": "14e6b3b4-4696-4a9f-898c-9c3d269b7bf0",
   "metadata": {},
   "outputs": [],
   "source": [
    "#Subplot of pie charts\n",
    "# fig, axes = plt.subplots(nrows = 1,ncols = 2,figsize = (20,10))\n",
    "# plt.pie([Active, Inactive], labels = labels, colors=colors, autopct='%.2f %%')\n",
    "# plt.pie([Lead, NotLead], labels = labels, colors=colors, autopct='%.2f %%')\n",
    "# #sns.countplot(x = \"Is_Lead\", hue = 'Is_Active', data = dfmod, ax=axes[0][0])\n",
    "# plt.show(fig);\n"
   ]
  },
  {
   "cell_type": "code",
   "execution_count": null,
   "id": "6abfb83a-da0a-454d-9f39-0159daf3d9e8",
   "metadata": {},
   "outputs": [],
   "source": [
    "dfmod.describe().T"
   ]
  },
  {
   "cell_type": "code",
   "execution_count": null,
   "id": "dc0f7261-bacf-49ac-9d54-9cea6286e82b",
   "metadata": {},
   "outputs": [],
   "source": []
  },
  {
   "cell_type": "code",
   "execution_count": null,
   "id": "d887be33-532d-497a-9b61-a8a442494158",
   "metadata": {},
   "outputs": [],
   "source": [
    "# #Checking average account balances\n",
    "# #Unsure how to use this\n",
    "\n",
    "# # bins = [1000000,2000000,3000000,5000000]\n",
    "\n",
    "# plt.figure(figsize=(18,5))\n",
    "# # display(fifa.Overall.value_counts().sort_values())\n",
    "\n",
    "# plt.hist(df1.Avg_Account_Balance, bins=50, color='#abcdef')\n",
    "\n",
    "\n",
    "# # plt.xticks(bins)\n",
    "# # plt.yticks([600,1000])\n",
    "\n",
    "\n",
    "# # plt.ylabel('Number of Clients')\n",
    "# # plt.xlabel('Account Balance')\n",
    "# # plt.title('Average Client Monthly Account Balance')\n",
    "\n",
    "# # # plt.savefig('histogram.png', dpi=300)\n",
    "\n",
    "# plt.show();"
   ]
  },
  {
   "cell_type": "code",
   "execution_count": null,
   "id": "386e0f56-72c9-4a8e-9b15-85dcbd73152b",
   "metadata": {},
   "outputs": [],
   "source": [
    "dfmod.groupby(\"Is_Active\").mean()"
   ]
  },
  {
   "cell_type": "code",
   "execution_count": null,
   "id": "8313e8fa-ebb4-4ff7-8e5c-2be8969b4de9",
   "metadata": {},
   "outputs": [],
   "source": [
    "dfmod.groupby(\"Is_Lead\").mean()"
   ]
  },
  {
   "cell_type": "code",
   "execution_count": null,
   "id": "3cc378d4-bae4-4562-8cec-9626a03bf72e",
   "metadata": {},
   "outputs": [],
   "source": [
    "# plt.rcParams['figure.figsize'] = [12, 5]\n",
    "\n",
    "# # df1 = np.loadtxt(\"../../data/outlier_1d.txt\")\n",
    "# # df2 = np.loadtxt(\"../../data/outlier_2d.txt\")\n",
    "# # df3 = np.loadtxt(\"../../data/outlier_curve.txt\")\n",
    "# # print(df1.shape, df2.shape)\n",
    "\n",
    "# plt.scatter(dfmod, np.random.normal(7, 0.2, size=dfmod.Avg_Account_Balance), s=1, alpha=0.5)\n",
    "# # plt.scatter(df2[:, 0], df2[:, 1], s=5)\n",
    "# plt.show();\n",
    "# # plt.plot(df3[:, 0], df3[:, 1]);\n",
    "# ;"
   ]
  },
  {
   "cell_type": "code",
   "execution_count": null,
   "id": "0359b495-f107-4c07-b092-39d3fc09ee7c",
   "metadata": {},
   "outputs": [],
   "source": [
    "# from sklearn.compose import ColumnTransformer\n",
    "# from sklearn.preprocessing import OneHotEncoder\n",
    "# ct = ColumnTransformer(transformers=[('encoder', OneHotEncoder(), [3])], remainder='passthrough')\n",
    "# X = np.array(ct.fit_transform(X)) # __init__, fit, transform"
   ]
  },
  {
   "cell_type": "code",
   "execution_count": null,
   "id": "1e452cf8-2d8b-4c2b-a0de-47bb100f449b",
   "metadata": {},
   "outputs": [],
   "source": [
    "# dfmod_active = df3.loc[df3[\"Active\"] == 1, #[\"Glucose\", \"BMI\"]]\n",
    "# df_inactive = df3.loc[df3[\"Active\"] == 0, #[\"Glucose\", \"BMI\"]]\n",
    "\n",
    "# plt.scatter(dfmod[\"Glucose\"], df_y[\"BMI\"], c=\"w\", s=1, label=\"Has Diabetes\")\n",
    "# plt.scatter(df_n[\"Glucose\"], df_n[\"BMI\"], s=1, label=\"No Diabetes\")\n",
    "# plt.legend(loc=2)\n",
    "# plt.xlabel(\"Glucose\")\n",
    "# plt.ylabel(\"BMI\");"
   ]
  },
  {
   "cell_type": "code",
   "execution_count": null,
   "id": "09369b6b-cd1e-457d-bd94-d1af0a91243d",
   "metadata": {},
   "outputs": [],
   "source": [
    "dfmod.head()"
   ]
  },
  {
   "cell_type": "code",
   "execution_count": null,
   "id": "5ddba526-25de-4495-9c36-8c09dd00d125",
   "metadata": {},
   "outputs": [],
   "source": [
    "# x = dfmod.Age\n",
    "# y = dfmod.Avg_Account_Balance\n",
    "# s = dfmod.Is_Lead\n",
    "# #area = (30 * np.random.rand(N))**2  # 0 to 15 point radii\n",
    "\n",
    "# plt.scatter(x, y, s=s alpha=0.5)\n",
    "# plt.show()\n"
   ]
  },
  {
   "cell_type": "code",
   "execution_count": null,
   "id": "e2bb5913-6218-4602-ae08-98ac0059c2f3",
   "metadata": {},
   "outputs": [],
   "source": [
    "dfmod.head(1)"
   ]
  },
  {
   "cell_type": "code",
   "execution_count": null,
   "id": "32b75c63-7c6d-4828-9168-197f3aaab479",
   "metadata": {},
   "outputs": [],
   "source": [
    "#Visualizing leads based on account balance and gender in a scatterplot\n",
    "#remove\n",
    "\n",
    "plt.figure(figsize=(20,15))\n",
    "dfIsLead = df[df.Is_Lead == 1]\n",
    "dfIsNotLead = df[df.Is_Lead == 0]\n",
    "plt.scatter(dfIsNotLead.Avg_Account_Balance,dfIsNotLead.Gender, s = 60, label = \"not lead\",color='red', alpha = .5)\n",
    "plt.scatter(dfIsLead.Avg_Account_Balance,dfIsLead.Gender, s = 50, label = \"Lead\",color=\"lightgreen\", alpha = 1)\n",
    "plt.legend()\n",
    "plt.show();"
   ]
  },
  {
   "cell_type": "code",
   "execution_count": null,
   "id": "a40f52d8-ec94-4276-9265-97e780aa7ae5",
   "metadata": {},
   "outputs": [],
   "source": []
  },
  {
   "cell_type": "code",
   "execution_count": null,
   "id": "650a6f97-1c4a-4fc0-a6ca-cc45829e5c49",
   "metadata": {},
   "outputs": [],
   "source": [
    "#Visualizing leads based on account balance and age in a scatterplot\n",
    "\n",
    "plt.figure(figsize=(20,15))\n",
    "dfIsLead = df[df.Is_Lead == 1]\n",
    "dfIsNotLead = df[df.Is_Lead == 0]\n",
    "plt.scatter(dfIsNotLead.Avg_Account_Balance,dfIsNotLead.Age, s = 60, label = \"not lead\",color='red', alpha = .5)\n",
    "plt.scatter(dfIsLead.Avg_Account_Balance,dfIsLead.Age, s = 50, label = \"Lead\",color=\"lightgreen\", alpha = 1)\n",
    "plt.legend()\n",
    "plt.show();"
   ]
  },
  {
   "cell_type": "code",
   "execution_count": null,
   "id": "59652f54-91a1-4de4-91f0-94a3e19e210f",
   "metadata": {},
   "outputs": [],
   "source": [
    "#Visualizing leads based on account balance and Region Code in a scatterplot\n",
    "\n",
    "plt.figure(figsize=(20,15))\n",
    "dfIsLead = df[df.Is_Lead == 1]\n",
    "dfIsNotLead = df[df.Is_Lead == 0]\n",
    "plt.scatter(dfIsNotLead.Avg_Account_Balance,dfIsNotLead.Region_Code, s = 60, label = \"not lead\",color='red', alpha = .5)\n",
    "plt.scatter(dfIsLead.Avg_Account_Balance,dfIsLead.Region_Code, s = 50, label = \"Lead\",color=\"lightgreen\", alpha = 1)\n",
    "plt.legend()\n",
    "plt.show();"
   ]
  },
  {
   "cell_type": "code",
   "execution_count": null,
   "id": "1aa9af9b-f9f4-440f-99dc-d5a7394c2565",
   "metadata": {},
   "outputs": [],
   "source": [
    "#Visualizing leads based on account balance and Occupation in a scatterplot\n",
    "\n",
    "plt.figure(figsize=(20,15))\n",
    "dfIsLead = df[df.Is_Lead == 1]\n",
    "dfIsNotLead = df[df.Is_Lead == 0]\n",
    "plt.scatter(dfIsNotLead.Avg_Account_Balance,dfIsNotLead.Occupation, s = 60, label = \"not lead\",color='red', alpha = .5)\n",
    "plt.scatter(dfIsLead.Avg_Account_Balance,dfIsLead.Occupation, s = 50, label = \"Lead\",color=\"lightgreen\", alpha = 1)\n",
    "plt.legend()\n",
    "plt.show();"
   ]
  },
  {
   "cell_type": "code",
   "execution_count": null,
   "id": "c26c2d3e-775a-467d-af9e-43ca4ce0030e",
   "metadata": {},
   "outputs": [],
   "source": [
    "#Visualizing leads based on account balance and Channel_Code in a scatterplot\n",
    "\n",
    "plt.figure(figsize=(20,15))\n",
    "dfIsLead = df[df.Is_Lead == 1]\n",
    "dfIsNotLead = df[df.Is_Lead == 0]\n",
    "plt.scatter(dfIsNotLead.Avg_Account_Balance,dfIsNotLead.Channel_Code, s = 60, label = \"not lead\",color='red', alpha = .5)\n",
    "plt.scatter(dfIsLead.Avg_Account_Balance,dfIsLead.Channel_Code, s = 50, label = \"Lead\",color=\"lightgreen\", alpha = 1)\n",
    "plt.legend()\n",
    "plt.show();"
   ]
  },
  {
   "cell_type": "code",
   "execution_count": null,
   "id": "c7295510-e43d-42da-95a5-b9d0c91b0260",
   "metadata": {},
   "outputs": [],
   "source": [
    "#Visualizing leads based on account balance and Vintage in a scatterplot\n",
    "\n",
    "plt.figure(figsize=(20,15))\n",
    "dfIsLead = df[df.Is_Lead == 1]\n",
    "dfIsNotLead = df[df.Is_Lead == 0]\n",
    "plt.scatter(dfIsNotLead.Avg_Account_Balance,dfIsNotLead.Vintage, s = 60, label = \"not lead\",color='red', alpha = .5)\n",
    "plt.scatter(dfIsLead.Avg_Account_Balance,dfIsLead.Vintage, s = 50, label = \"Lead\",color=\"lightgreen\", alpha = 1)\n",
    "plt.legend()\n",
    "plt.show();"
   ]
  },
  {
   "cell_type": "code",
   "execution_count": null,
   "id": "499edd25-43bd-4a06-bbae-529f34686cd4",
   "metadata": {},
   "outputs": [],
   "source": [
    "# #Visualizing leads based on account balance and Credit_Product in a scatterplot\n",
    "# doesn't work for some reason\n",
    "\n",
    "# plt.figure(figsize=(20,15))\n",
    "# dfIsLead = df[df.Is_Lead == 1]\n",
    "# dfIsNotLead = df[df.Is_Lead == 0]\n",
    "# plt.scatter(dfIsNotLead.Avg_Account_Balance,dfIsNotLead.Credit_Product, s = 60, label = \"not lead\",color='red', alpha = .5)\n",
    "# plt.scatter(dfIsLead.Avg_Account_Balance,dfIsLead.Credit_Product, s = 50, label = \"Lead\",color=\"lightgreen\", alpha = 1)\n",
    "# plt.legend()\n",
    "# plt.show();"
   ]
  },
  {
   "cell_type": "code",
   "execution_count": null,
   "id": "c74ee5fe-3e66-429c-b644-896bd9f995d4",
   "metadata": {},
   "outputs": [],
   "source": [
    "#Visualizing leads based on account balance and Activity in a scatterplot\n",
    "\n",
    "plt.figure(figsize=(20,15))\n",
    "dfIsLead = df[df.Is_Lead == 1]\n",
    "dfIsNotLead = df[df.Is_Lead == 0]\n",
    "plt.scatter(dfIsNotLead.Avg_Account_Balance,dfIsNotLead.Is_Active, s = 60, label = \"not lead\",color='red', alpha = .5)\n",
    "plt.scatter(dfIsLead.Avg_Account_Balance,dfIsLead.Is_Active, s = 50, label = \"Lead\",color=\"lightgreen\", alpha = 1)\n",
    "plt.legend()\n",
    "plt.show();"
   ]
  },
  {
   "cell_type": "code",
   "execution_count": null,
   "id": "2c4f5099-0f04-49c8-be7f-4baabe5ab652",
   "metadata": {},
   "outputs": [],
   "source": [
    "dfmod.head(1)"
   ]
  },
  {
   "cell_type": "code",
   "execution_count": null,
   "id": "e7df4a0a-9aac-493c-8e07-989a60ece840",
   "metadata": {},
   "outputs": [],
   "source": [
    "dfmod.dtypes"
   ]
  },
  {
   "cell_type": "code",
   "execution_count": null,
   "id": "04c90161-b0fd-4632-9aca-9f96816a92cf",
   "metadata": {},
   "outputs": [],
   "source": [
    "# Check the distribution of Age and Vintage since they are highly correlated\n",
    "plt.figure(figsize=(15, 5))\n",
    "sns.distplot(dfmod['Age'])\n",
    "sns.distplot(dfmod['Vintage'])\n",
    "plt.legend()\n",
    "#add labels"
   ]
  },
  {
   "cell_type": "code",
   "execution_count": null,
   "id": "369e148a-931b-427a-a7c1-63148ab0e4ad",
   "metadata": {},
   "outputs": [],
   "source": [
    "# Check the distribution of Age and Vintage since they are highly correlated\n",
    "plt.figure(figsize=(15, 5))\n",
    "bins = np.arange(dfmod.Avg_Account_Balance.min(),dfmod.Avg_Account_Balance.max(),300000)\n",
    "sns.histplot(dfmod['Avg_Account_Balance'],bins=bins)\n",
    "plt.axvline(x=4500000,  linewidth=2, color='red')\n",
    "#df.drop(df.Avg_Account_Balance[df.Avg_Account_Balance > 4500000].index,inplace=True, axis=0)\n",
    "plt.xticks(bins)\n",
    "plt.xticks(rotation=60)\n",
    "plt.show();"
   ]
  },
  {
   "cell_type": "code",
   "execution_count": null,
   "id": "6c0faa9a-e1c6-47fe-9e32-fbeb191f392c",
   "metadata": {},
   "outputs": [],
   "source": [
    "# Check the distribution of Age and Vintage since they are highly correlated\n",
    "plt.figure(figsize=(15, 5))\n",
    "sns.countplot(dfmod['Credit_Product'])\n",
    "# sns.countplot(dfmod['Avg_Account_Balance'])"
   ]
  },
  {
   "cell_type": "code",
   "execution_count": null,
   "id": "6b2653a2-37c1-4398-8660-a9d82e2a0f67",
   "metadata": {},
   "outputs": [],
   "source": [
    "plt.figure(figsize=(15, 5))\n",
    "plt.scatter(dfmod['Avg_Account_Balance'], dfmod['Vintage'], alpha=0.1)\n",
    "plt.scatter(dfmod['Avg_Account_Balance'], dfmod['Age'], alpha=0.1)"
   ]
  },
  {
   "cell_type": "code",
   "execution_count": null,
   "id": "422afa1c-c7cd-486d-a938-9260b261ab02",
   "metadata": {},
   "outputs": [],
   "source": [
    "#takes a long time\n",
    "\n",
    "# plt.figure(figsize=(15, 5))\n",
    "# plt.scatter(df['ID'], dfmod['Avg_Account_Balance'], alpha=0.1)\n",
    "\n",
    "#takes a long time\n",
    "\n",
    "plt.figure(figsize=(15, 5))\n",
    "plt.scatter(dfmod['Vintage'], dfmod['Avg_Account_Balance'], alpha=0.1)"
   ]
  },
  {
   "cell_type": "code",
   "execution_count": null,
   "id": "85fd6549-5043-40bc-99d7-70967a9fc9a6",
   "metadata": {},
   "outputs": [],
   "source": [
    "dfIsLead"
   ]
  },
  {
   "cell_type": "code",
   "execution_count": null,
   "id": "06c7467b-e9d1-497b-9f10-10fc84859b33",
   "metadata": {},
   "outputs": [],
   "source": [
    "# m = df2[\"sex\"] == 1\n",
    "# plt.scatter(df2.loc[m, \"height\"], df2.loc[m, \"weight\"], c=\"#16c6f7\", s=1, label=\"Male\")\n",
    "# plt.scatter(df2.loc[~m, \"height\"], df2.loc[~m, \"weight\"], c=\"#ff8b87\", s=1, label=\"Female\")\n",
    "# plt.xlabel(\"Height\")\n",
    "# plt.ylabel(\"Weight\")\n",
    "# plt.legend(loc=2);"
   ]
  },
  {
   "cell_type": "markdown",
   "id": "1ee1f01e-cb2b-410d-bcef-da85b628b7d9",
   "metadata": {},
   "source": [
    "[Back to Top](#Top)"
   ]
  },
  {
   "cell_type": "markdown",
   "id": "3092ed6d-a09d-4711-ac35-92b7620e9d16",
   "metadata": {
    "tags": []
   },
   "source": [
    "### Checking outliers (tables)"
   ]
  },
  {
   "cell_type": "code",
   "execution_count": null,
   "id": "3fbeb479-2960-42d5-a2ab-cf123e657277",
   "metadata": {
    "tags": []
   },
   "outputs": [],
   "source": [
    "#Binning. It looks like there are some clients with extremely large account balances. We'll divide the dataset into parts and try to drill down further on patterns.\n",
    "#The \"Stripped\" part is for simplifying table results by only displaying what are essentially numerical columns\n",
    "\n",
    "#highest accts\n",
    "df_very_rich = dfmod[dfmod[\"Avg_Account_Balance\"] >5000000]\n",
    "stripped_df_very_rich = df_very_rich[[\"Avg_Account_Balance\",\"Age\",\"Vintage\",\"Is_Lead\"]]\n",
    "\n",
    "#2nd highest accts (must be done in two steps due to technical issue with fual condition filtering)\n",
    "\n",
    "df_qr_step1 = dfmod.loc[(dfmod['Avg_Account_Balance']>999999)]\n",
    "df_qr_step2 = df_qr_step1.loc[(df_qr_step1['Avg_Account_Balance']<5000000)]\n",
    "\n",
    "df_quite_rich = df_qr_step2\n",
    "stripped_df_quite_rich = df_quite_rich[[\"Avg_Account_Balance\",\"Age\",\"Vintage\",\"Is_Lead\"]]\n",
    "\n",
    "#3rd highest accts (must be done in two steps due to technical issue with fual condition filtering)\n",
    "\n",
    "df_lr_step1 = dfmod.loc[(dfmod['Avg_Account_Balance']>500000)]\n",
    "df_lr_step2 = df_lr_step1.loc[(df_lr_step1['Avg_Account_Balance']<1000000)]\n",
    "\n",
    "df_less_rich = df_lr_step2\n",
    "\n",
    "stripped_df_less_rich = df_less_rich[[\"Avg_Account_Balance\",\"Age\",\"Vintage\",\"Is_Lead\"]]\n",
    "\n",
    "#4th highest accts (must be done in two steps due to technical issue with fual condition filtering)\n",
    "\n",
    "df_e_step1 = dfmod.loc[(dfmod['Avg_Account_Balance']>100000)]\n",
    "df_e_step2 = df_e_step1.loc[(df_e_step1['Avg_Account_Balance']<500000)]\n",
    "\n",
    "df_established = df_lr_step2\n",
    "\n",
    "stripped_df_established = df_established[[\"Avg_Account_Balance\",\"Age\",\"Vintage\",\"Is_Lead\"]]\n",
    "\n",
    "#5th highest accts and lower\n",
    "\n",
    "df_average  = dfmod[dfmod[\"Avg_Account_Balance\"] <100000]\n",
    "\n",
    "stripped_df_average = df_average[[\"Avg_Account_Balance\",\"Age\",\"Vintage\",\"Is_Lead\"]]\n",
    "\n",
    "#No one over 1 million\n",
    "df_no_millionaires = dfmod[dfmod[\"Avg_Account_Balance\"] <1000000]\n",
    "\n",
    "stripped_df_no_millionaires = df_no_millionaires[[\"Avg_Account_Balance\",\"Age\",\"Vintage\",\"Is_Lead\"]]\n",
    "\n",
    "#No one under 1 million\n",
    "df_not_under_1mil = dfmod[dfmod[\"Avg_Account_Balance\"] >1000000]\n",
    "\n",
    "stripped_df_not_under_1mil = df_not_under_1mil[[\"Avg_Account_Balance\",\"Age\",\"Vintage\",\"Is_Lead\"]]"
   ]
  },
  {
   "cell_type": "code",
   "execution_count": null,
   "id": "c19b8cc3-a07a-4d3e-a503-6a75f6d263f5",
   "metadata": {
    "tags": []
   },
   "outputs": [],
   "source": [
    "print(\"Very Rich (Over 5 mil)\")\n",
    "stripped_df_very_rich.describe()\n",
    "stripped_df_very_rich.groupby(\"Is_Lead\").mean()\n",
    "stripped_df_very_rich.groupby(\"Is_Lead\").describe().T\n",
    "print('-----------------------------------------------------')\n",
    "print('Quite Rich (1 mil to 5 mil)')\n",
    "stripped_df_quite_rich.describe()\n",
    "stripped_df_quite_rich.groupby(\"Is_Lead\").mean()\n",
    "stripped_df_quite_rich.groupby(\"Is_Lead\").describe().T\n",
    "print('-----------------------------------------------------')\n",
    "print(\"Less Rich (500K to 1 mil)\")\n",
    "stripped_df_less_rich.describe()\n",
    "stripped_df_less_rich.groupby(\"Is_Lead\").mean()\n",
    "stripped_df_less_rich.groupby(\"Is_Lead\").describe().T\n",
    "print('-----------------------------------------------------')\n",
    "print(\"Established (100K to 500K)\")\n",
    "stripped_df_established.describe()\n",
    "stripped_df_established.groupby(\"Is_Lead\").mean()\n",
    "stripped_df_established.groupby(\"Is_Lead\").describe().T\n",
    "print('-----------------------------------------------------')\n",
    "print(\"Average (Under 100K)\")\n",
    "stripped_df_average.describe()\n",
    "stripped_df_average.groupby(\"Is_Lead\").mean()\n",
    "stripped_df_average.groupby(\"Is_Lead\").describe().T\n",
    "print('-----------------------------------------------------')\n",
    "print(\"No Millionaires\")\n",
    "stripped_df_no_millionaires.describe()\n",
    "stripped_df_no_millionaires.groupby(\"Is_Lead\").mean()\n",
    "stripped_df_no_millionaires.groupby(\"Is_Lead\").describe().T\n",
    "print('-----------------------------------------------------')\n",
    "print(\"Only Above 1 Million\")\n",
    "stripped_df_not_under_1mil.describe()\n",
    "stripped_df_not_under_1mil.groupby(\"Is_Lead\").mean()\n",
    "stripped_df_not_under_1mil.groupby(\"Is_Lead\").describe().T\n",
    "print('-----------------------------------------------------')"
   ]
  },
  {
   "cell_type": "markdown",
   "id": "25095920-a27e-4662-b2cf-3f3d22470433",
   "metadata": {},
   "source": [
    "[Back to Top](#Top)"
   ]
  },
  {
   "cell_type": "markdown",
   "id": "614cce96-eab1-4a03-84b9-2c22456db5a0",
   "metadata": {
    "tags": []
   },
   "source": [
    "### Checking outliers (graphs)"
   ]
  },
  {
   "cell_type": "code",
   "execution_count": null,
   "id": "3a76cacb-9500-4ac6-9a17-8b6864041de8",
   "metadata": {},
   "outputs": [],
   "source": [
    "#original dataset\n",
    "sns.factorplot(x = 'Is_Lead', y = 'Avg_Account_Balance', data = dfmod,  kind=\"box\")"
   ]
  },
  {
   "cell_type": "code",
   "execution_count": null,
   "id": "694a337b-f965-46b3-aa68-64336dac52e9",
   "metadata": {},
   "outputs": [],
   "source": [
    "#Very Rich\n",
    "sns.factorplot(x = 'Is_Lead', y = 'Avg_Account_Balance', data = df_very_rich,  kind=\"box\")"
   ]
  },
  {
   "cell_type": "code",
   "execution_count": null,
   "id": "2132cf30-0345-4f6d-9c7c-e063fd852015",
   "metadata": {},
   "outputs": [],
   "source": [
    "#Quite Rich\n",
    "sns.factorplot(x = 'Is_Lead', y = 'Avg_Account_Balance', data = df_quite_rich,  kind=\"box\")"
   ]
  },
  {
   "cell_type": "code",
   "execution_count": null,
   "id": "db2b7b81-9734-487a-86ad-5e98ec1f8679",
   "metadata": {},
   "outputs": [],
   "source": [
    "#Less Rich\n",
    "sns.factorplot(x = 'Is_Lead', y = 'Avg_Account_Balance', data = df_less_rich,  kind=\"box\")"
   ]
  },
  {
   "cell_type": "code",
   "execution_count": null,
   "id": "bb8775e4-37c9-4020-97b5-e3053326cc7e",
   "metadata": {},
   "outputs": [],
   "source": [
    "#Established\n",
    "sns.factorplot(x = 'Is_Lead', y = 'Avg_Account_Balance', data = df_established,  kind=\"box\")"
   ]
  },
  {
   "cell_type": "code",
   "execution_count": null,
   "id": "07a9672d-cd25-4fb0-9a1c-f175873d725c",
   "metadata": {},
   "outputs": [],
   "source": [
    "#Average\n",
    "sns.factorplot(x = 'Is_Lead', y = 'Avg_Account_Balance', data = df_average,  kind=\"box\")"
   ]
  },
  {
   "cell_type": "code",
   "execution_count": null,
   "id": "f738476f-1795-4e7c-8375-5ccd3a799107",
   "metadata": {},
   "outputs": [],
   "source": []
  },
  {
   "cell_type": "code",
   "execution_count": null,
   "id": "f65b0d2e-ea33-4412-9241-b9ce1d51b99b",
   "metadata": {},
   "outputs": [],
   "source": [
    "#no_millionaires\n",
    "sns.factorplot(x = 'Is_Lead', y = 'Avg_Account_Balance', data = df_no_millionaires,  kind=\"box\")"
   ]
  },
  {
   "cell_type": "code",
   "execution_count": null,
   "id": "ccff5c62-4ae7-493e-9cad-c50337c6a1c4",
   "metadata": {},
   "outputs": [],
   "source": [
    "#No one under 1 million\n",
    "sns.factorplot(x = 'Is_Lead', y = 'Avg_Account_Balance', data = df_not_under_1mil,  kind=\"box\")"
   ]
  },
  {
   "cell_type": "markdown",
   "id": "3ab0bf91-4cbd-42b8-ba28-fbb527d622c2",
   "metadata": {},
   "source": [
    "<a id=\"ML\"></a>"
   ]
  },
  {
   "cell_type": "markdown",
   "id": "2912e1b9-cdf4-4916-8a06-9e0682230b42",
   "metadata": {},
   "source": [
    "## Part 2: Machine Learning"
   ]
  },
  {
   "cell_type": "code",
   "execution_count": null,
   "id": "e57de9af-3730-4513-adfa-9437b521ed4f",
   "metadata": {},
   "outputs": [],
   "source": [
    "# Once again, let's visualize the proporations of the target variable\n",
    "plt.figure(figsize=(8,5))\n",
    "\n",
    "labels = ['Lead', 'Not a Lead']\n",
    "colors = ['#56FC43', '#FC4343']\n",
    "\n",
    "plt.pie([Lead, NotLead], labels = labels, colors=colors, autopct='%.2f %%')\n",
    "\n",
    "plt.title('How many leads do we have?')\n",
    "\n",
    "plt.show();"
   ]
  },
  {
   "cell_type": "code",
   "execution_count": null,
   "id": "21836856-8282-4bf3-8dca-50b85f2affe9",
   "metadata": {},
   "outputs": [],
   "source": [
    "# We'll create a list of all the Categorical features and a list of all the numerical features for encoding purposes\n",
    "categorical = list(dfmod.select_dtypes([\"object\"]).columns)\n",
    "numerical = list(dfmod.select_dtypes([\"float64\",\"int64\"]).columns)\n",
    "print(f\"There are {len(numerical)} numerical columns.\")\n",
    "print(f\"There are {len(categorical)} categorical columns.\")"
   ]
  },
  {
   "cell_type": "code",
   "execution_count": null,
   "id": "c7dcd076-2a13-4e6a-a740-8bcee82f4751",
   "metadata": {},
   "outputs": [],
   "source": [
    "# Now we'll One Hot Encode the categorical features and drop extra dummy variables since the ML model can only accept number values\n",
    "dfML = pd.get_dummies(dfmod, columns=categorical, drop_first=True)\n",
    "print(f\"The dataset shape prior to OneHotEncoding is: {dfmod.shape}\")\n",
    "print(f\"The dataset shape after OneHotEncoding is: {dfML.shape}\")\n",
    "print(f\"({dfML.shape} - {dfmod.shape}) columns were added.\")"
   ]
  },
  {
   "cell_type": "code",
   "execution_count": null,
   "id": "e78fb46c-f018-4055-983f-2530a811bc58",
   "metadata": {},
   "outputs": [],
   "source": [
    "dfML.shape = boo"
   ]
  },
  {
   "cell_type": "code",
   "execution_count": null,
   "id": "0723ea7f-70d6-452e-a346-547284f6001d",
   "metadata": {},
   "outputs": [],
   "source": [
    "dfML.head(5)"
   ]
  },
  {
   "cell_type": "code",
   "execution_count": null,
   "id": "c6ff786a-d45c-4d38-a729-f5adb6bf105a",
   "metadata": {},
   "outputs": [],
   "source": [
    "# fo=dfML.columns\n",
    "# lisk=[]\n",
    "# # for i in fo:\n",
    "# #     if i is not \"Is_Lead\": \n",
    "# #         lis.append(i)\n",
    "        \n",
    "# for i in range(1,48,1):\n",
    "#     lisk.append(i) \n",
    "# lisk"
   ]
  },
  {
   "cell_type": "code",
   "execution_count": null,
   "id": "7fefb73f-4fc1-45b4-abb8-2ad990805b34",
   "metadata": {},
   "outputs": [],
   "source": [
    "# Defining our variables for the model\n",
    "# lis\n",
    "nums = range(1,47,1)\n",
    "X = dfML.iloc[:,[1,2,3,4,5,7,8,9,10,11,12,13,14,15,16,17,18,19,20,21,22,23,24,25,26,27,28,\n",
    " 29,\n",
    " 30,\n",
    " 31,\n",
    " 32,\n",
    " 33,\n",
    " 34,\n",
    " 35,\n",
    " 36,\n",
    " 37,\n",
    " 38,\n",
    " 39,\n",
    " 40,\n",
    " 41,\n",
    " 42,\n",
    " 43,\n",
    " 44,\n",
    " 45,\n",
    " 46]]\n",
    "    # for dependent variables, send two lists with a plus. 1 -6 , 7 -47\n",
    "    # independent variables\n",
    "    \n",
    "y = df.loc[:,\"Is_Lead\"] # Dependent variable/taget\n",
    "X.head()\n",
    "y.value_counts()"
   ]
  },
  {
   "cell_type": "code",
   "execution_count": null,
   "id": "94625ef5-2358-4547-b85a-0a5ef6ff1a55",
   "metadata": {},
   "outputs": [],
   "source": [
    "# Feature Scaling\n",
    "from sklearn.preprocessing import StandardScaler\n",
    "sc = StandardScaler()\n",
    "X = sc.fit_transform(X)"
   ]
  },
  {
   "cell_type": "code",
   "execution_count": null,
   "id": "978a37e3-6c9f-4961-9b70-12646f2a7b53",
   "metadata": {
    "tags": []
   },
   "outputs": [],
   "source": [
    "# Splitting the dataset into Test/Train and defining model variables , stratify=y\n",
    "# We will split 80% for train and 20% for test data\n",
    "from sklearn.model_selection import train_test_split\n",
    "X_train, X_test, y_train, y_test = train_test_split(X, y,test_size = 0.2,random_state = 1,shuffle=True, stratify=y)"
   ]
  },
  {
   "cell_type": "code",
   "execution_count": null,
   "id": "0a605afb-7a9e-420f-b38d-b688422f857a",
   "metadata": {},
   "outputs": [],
   "source": [
    "#"
   ]
  },
  {
   "cell_type": "code",
   "execution_count": null,
   "id": "3160ccdf-7e30-4614-bf42-ba6371515a9f",
   "metadata": {},
   "outputs": [],
   "source": [
    "# Oversampling to deal with the imbalance in the target data\n",
    "from imblearn.over_sampling import SMOTE\n",
    "oversample = SMOTE()\n",
    "X_train, y_train = oversample.fit_resample(X_train, y_train)\n",
    "#oversamples the minority class and balances for a 50 50 split\n",
    "#oversample only train data, not test (for real world application)"
   ]
  },
  {
   "cell_type": "code",
   "execution_count": null,
   "id": "08aca052-1fac-42f7-ae63-fd64f4d7e1db",
   "metadata": {},
   "outputs": [],
   "source": [
    "#plt.pie(dfmod.Is_Lead.value_counts())\n",
    "plt.pie(y_train.value_counts())"
   ]
  },
  {
   "cell_type": "code",
   "execution_count": null,
   "id": "1df8252b-4727-4fe7-b3e0-b5bd5b44c78b",
   "metadata": {},
   "outputs": [],
   "source": [
    "['DecisionTree:',DecisionTreeClassifier()],\n",
    "               ['RandomForest:',RandomForestClassifier()], \n",
    "               ['Naive Bayes:', GaussianNB()],\n",
    "               ['KNeighbours:', KNeighborsClassifier()],\n",
    "               ['LogisticRegression:', LogisticRegression()],\n",
    "               ['AdaBoostClassifier:', AdaBoostClassifier()],\n",
    "               ['GradientBoostingClassifier: ', GradientBoostingClassifier()],"
   ]
  },
  {
   "cell_type": "code",
   "execution_count": null,
   "id": "89073937-43da-468d-b407-93eea0b98c42",
   "metadata": {},
   "outputs": [],
   "source": [
    "# Import the necessary libraries \n",
    "from sklearn.naive_bayes import GaussianNB\n",
    "from sklearn.svm import SVC\n",
    "from sklearn.linear_model import LogisticRegression\n",
    "from sklearn.neighbors import KNeighborsClassifier\n",
    "from sklearn.tree import DecisionTreeClassifier\n",
    "from xgboost import XGBClassifier\n",
    "from sklearn.ensemble import RandomForestClassifier, AdaBoostClassifier, GradientBoostingClassifier\n",
    "from sklearn.model_selection import cross_val_score\n",
    "from sklearn.metrics import confusion_matrix, precision_score, recall_score, f1_score, make_scorer,accuracy_score\n",
    "\n",
    "\n",
    "# Create a list of the classifiers to be tested with the dataset\n",
    "classifiers = [['RandomForest:',RandomForestClassifier()],\n",
    "               ['XGBoost:', XGBClassifier()]]\n",
    "\n",
    "# Create a dataframe for predictions and fill in the actual data for comparison\n",
    "predictions_df = pd.DataFrame()\n",
    "predictions_df['actual_labels'] = y_test\n",
    "# Create a dataframe to store the metrics results\n",
    "metrics_df = pd.DataFrame()\n",
    "\n",
    "# Loop through all classifiers, train, test, and validate the classifier\n",
    "for name, classifier in classifiers:\n",
    "    classifier = classifier\n",
    "    classifier.fit(X_train, y_train)\n",
    "    predictions = classifier.predict(X_test)\n",
    "    predictions_df[name.strip(\" :\")] = predictions\n",
    "    accuracy = accuracy_score(y_test, predictions)\n",
    "    recall = recall_score(y_test, predictions)\n",
    "    precision = precision_score(y_test, predictions)\n",
    "    f1 = f1_score(y_test, predictions)\n",
    "    cv_score = cross_val_score(classifier, X_test, y_test, cv=8)\n",
    "    scores_df = pd.DataFrame([[name.strip(\" :\"), accuracy, cv_score.mean(), precision, recall, f1]])\n",
    "    metrics_df = metrics_df.append(scores_df)\n",
    "    \n",
    "# Clean up the metrics dataframe and display\n",
    "# Logistic regressions is the best model using stratification with the highest cross-validated accuracy\n",
    "# and F1 score\n",
    "metrics_df.columns = ['Classifier', 'Accuracy', 'CV Accuracy', 'Precision', 'Recall', 'F1 Score']\n",
    "metrics_df.to_csv('Classifier_Scores.csv', index=False)\n",
    "metrics_df"
   ]
  },
  {
   "cell_type": "code",
   "execution_count": null,
   "id": "0d04e9c9-d9a6-49c4-9f3c-113508fc6174",
   "metadata": {},
   "outputs": [],
   "source": [
    "plt.pie(y.value_counts(),autopct='%1.2f%%',labels=['Is a Lead','Is not a Lead'])\n",
    "plt.show();"
   ]
  },
  {
   "cell_type": "code",
   "execution_count": null,
   "id": "5e253f08-2ab7-4f76-9cdd-e8b5fd6600b6",
   "metadata": {},
   "outputs": [],
   "source": [
    "dfmod.sample()"
   ]
  },
  {
   "cell_type": "code",
   "execution_count": null,
   "id": "42b94768-0f06-4f0a-b9b4-9ed413e7a38e",
   "metadata": {},
   "outputs": [],
   "source": []
  },
  {
   "cell_type": "markdown",
   "id": "bc7342ad-02ad-45ef-a995-763b8056d778",
   "metadata": {
    "jp-MarkdownHeadingCollapsed": true,
    "tags": []
   },
   "source": [
    "### Relevant Research \n",
    "\n",
    "https://www150.statcan.gc.ca/n1/daily-quotidien/190327/dq190327b-eng.htm"
   ]
  }
 ],
 "metadata": {
  "kernelspec": {
   "display_name": "Python 3 (ipykernel)",
   "language": "python",
   "name": "python3"
  },
  "language_info": {
   "codemirror_mode": {
    "name": "ipython",
    "version": 3
   },
   "file_extension": ".py",
   "mimetype": "text/x-python",
   "name": "python",
   "nbconvert_exporter": "python",
   "pygments_lexer": "ipython3",
   "version": "3.9.6"
  },
  "toc-autonumbering": false,
  "toc-showcode": false,
  "toc-showmarkdowntxt": false,
  "toc-showtags": false
 },
 "nbformat": 4,
 "nbformat_minor": 5
}
