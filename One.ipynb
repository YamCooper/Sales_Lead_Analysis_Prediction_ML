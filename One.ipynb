{
 "cells": [
  {
   "cell_type": "markdown",
   "id": "8126d933-1a05-49a3-8989-a13b932f7497",
   "metadata": {
    "tags": []
   },
   "source": [
    "# Machine Learning Classification Project:\n",
    "# Client Product Interest Prediction "
   ]
  },
  {
   "cell_type": "markdown",
   "id": "280011b4-1007-4ccb-8c38-34ed0fbf25cc",
   "metadata": {
    "jp-MarkdownHeadingCollapsed": true,
    "tags": []
   },
   "source": [
    "### Contents\n",
    "1. Introduction\n",
    "2. Source\n",
    "3. EDA\n",
    "4. Data Cleaning and Preparation\n",
    "5. Training\n",
    "6. Testing\n",
    "7. Conclusions"
   ]
  },
  {
   "cell_type": "markdown",
   "id": "f307d8bb-2ac1-4026-bcdc-d559c22a0248",
   "metadata": {
    "jp-MarkdownHeadingCollapsed": true,
    "tags": []
   },
   "source": [
    "### Introduction: \n",
    "When a business seeks to increase revenue, a myriad of strategies can be employed. One technique is to sell more to current clientelle. The advantage of this approach is that the leads are already captured and are in a position of trust in the vendor, and it is therefore not a random cold-calling situation. The challenge, however --and this is not unique to this scenario, but applies in any marketing campaign-- is balancing the time and money needed for the marketing effort vs the actual resultant revenue. Ah, if only there was a way to optimize it! To know which customers would most likely be interested in the product, so that we could market to them directly instead of blanketing the entire client base in the usual hit-and-miss fashion! To reduce the hassle, the headache, the aggravation, the woes! Is there a way to know? Well, in 2021, there is! And it does not involve calling your shaman uncle from New Orleans to do voodoo sourcery. We can just use machine learning.\n",
    "\n",
    "#### Overarching Goal:\n",
    "Can we use Machine Learning to predict which customers at this bank would be interested in buying a credit card product based on a set of characteristics? In this project, I analyze the data, prepare it, and build the ML model which will make this prediction. \n",
    "\n",
    "#### Defined objectives:\n",
    "1. Find out which customer is most likely to be interested in buying a product using a machine learning prediction algorithm.\n",
    "2. Learn what factor is the most influential in determining the likelyhood that a client will be a lead based on the given attributes. \n",
    "\n",
    "#### Motivation: \n",
    "Assist a business in increasing its profit by enabling the marketing department to more accurately target clients that are most likely to buy, in turn reducing cost and turn-around time. "
   ]
  },
  {
   "cell_type": "markdown",
   "id": "a704c520-2617-42de-89bc-bf5af3556784",
   "metadata": {
    "tags": []
   },
   "source": [
    "### Source:\n",
    "The dataset is from https://www.kaggle.com/nextbigwhat/analytics-vidhya-job-a-thon-may-2021\n",
    "\n",
    "********** LICENSE"
   ]
  },
  {
   "cell_type": "markdown",
   "id": "209435a1-8b3b-4b3e-87c6-6ddfeb5ee8c5",
   "metadata": {},
   "source": [
    "### EDA"
   ]
  },
  {
   "cell_type": "code",
   "execution_count": 63,
   "id": "7c26c32f-e798-4449-bd37-8a3fd1eab747",
   "metadata": {},
   "outputs": [],
   "source": [
    "#Import Libraries\n",
    "\n",
    "import warnings\n",
    "import matplotlib.pyplot as plt\n",
    "import numpy as np\n",
    "import pandas as pd\n",
    "import seaborn as sns\n",
    "plt.rcParams['figure.figsize'] = [12,5]\n",
    "warnings.filterwarnings(\"ignore\")\n",
    "\n",
    "# Multiple Line Output\n",
    "from IPython.core.interactiveshell import InteractiveShell\n",
    "InteractiveShell.ast_node_interactivity = \"all\""
   ]
  },
  {
   "cell_type": "code",
   "execution_count": 2,
   "id": "f522175e-1bf6-45ae-891d-0e261c1fdfc0",
   "metadata": {},
   "outputs": [],
   "source": [
    "#Load dataset and apply variable name\n",
    "dataset = pd.read_csv('../Datasets/AnalyticsVidhya-JOB_A_THON-May2021/train_s3TEQDk.csv')\n",
    "\n",
    "#The original data contains two files, which appear to be a dataset divided in two. Since one is much larger than the other, we'll stick to that one."
   ]
  },
  {
   "cell_type": "code",
   "execution_count": 3,
   "id": "c2cdba77-c8cd-44ad-8ff4-1e1e3291a445",
   "metadata": {},
   "outputs": [
    {
     "name": "stdout",
     "output_type": "stream",
     "text": [
      "Preview\n"
     ]
    },
    {
     "data": {
      "text/html": [
       "<div>\n",
       "<style scoped>\n",
       "    .dataframe tbody tr th:only-of-type {\n",
       "        vertical-align: middle;\n",
       "    }\n",
       "\n",
       "    .dataframe tbody tr th {\n",
       "        vertical-align: top;\n",
       "    }\n",
       "\n",
       "    .dataframe thead th {\n",
       "        text-align: right;\n",
       "    }\n",
       "</style>\n",
       "<table border=\"1\" class=\"dataframe\">\n",
       "  <thead>\n",
       "    <tr style=\"text-align: right;\">\n",
       "      <th></th>\n",
       "      <th>ID</th>\n",
       "      <th>Gender</th>\n",
       "      <th>Age</th>\n",
       "      <th>Region_Code</th>\n",
       "      <th>Occupation</th>\n",
       "      <th>Channel_Code</th>\n",
       "      <th>Vintage</th>\n",
       "      <th>Credit_Product</th>\n",
       "      <th>Avg_Account_Balance</th>\n",
       "      <th>Is_Active</th>\n",
       "      <th>Is_Lead</th>\n",
       "    </tr>\n",
       "  </thead>\n",
       "  <tbody>\n",
       "    <tr>\n",
       "      <th>0</th>\n",
       "      <td>NNVBBKZB</td>\n",
       "      <td>Female</td>\n",
       "      <td>73</td>\n",
       "      <td>RG268</td>\n",
       "      <td>Other</td>\n",
       "      <td>X3</td>\n",
       "      <td>43</td>\n",
       "      <td>No</td>\n",
       "      <td>1045696</td>\n",
       "      <td>No</td>\n",
       "      <td>0</td>\n",
       "    </tr>\n",
       "    <tr>\n",
       "      <th>1</th>\n",
       "      <td>IDD62UNG</td>\n",
       "      <td>Female</td>\n",
       "      <td>30</td>\n",
       "      <td>RG277</td>\n",
       "      <td>Salaried</td>\n",
       "      <td>X1</td>\n",
       "      <td>32</td>\n",
       "      <td>No</td>\n",
       "      <td>581988</td>\n",
       "      <td>No</td>\n",
       "      <td>0</td>\n",
       "    </tr>\n",
       "    <tr>\n",
       "      <th>2</th>\n",
       "      <td>HD3DSEMC</td>\n",
       "      <td>Female</td>\n",
       "      <td>56</td>\n",
       "      <td>RG268</td>\n",
       "      <td>Self_Employed</td>\n",
       "      <td>X3</td>\n",
       "      <td>26</td>\n",
       "      <td>No</td>\n",
       "      <td>1484315</td>\n",
       "      <td>Yes</td>\n",
       "      <td>0</td>\n",
       "    </tr>\n",
       "    <tr>\n",
       "      <th>3</th>\n",
       "      <td>BF3NC7KV</td>\n",
       "      <td>Male</td>\n",
       "      <td>34</td>\n",
       "      <td>RG270</td>\n",
       "      <td>Salaried</td>\n",
       "      <td>X1</td>\n",
       "      <td>19</td>\n",
       "      <td>No</td>\n",
       "      <td>470454</td>\n",
       "      <td>No</td>\n",
       "      <td>0</td>\n",
       "    </tr>\n",
       "    <tr>\n",
       "      <th>4</th>\n",
       "      <td>TEASRWXV</td>\n",
       "      <td>Female</td>\n",
       "      <td>30</td>\n",
       "      <td>RG282</td>\n",
       "      <td>Salaried</td>\n",
       "      <td>X1</td>\n",
       "      <td>33</td>\n",
       "      <td>No</td>\n",
       "      <td>886787</td>\n",
       "      <td>No</td>\n",
       "      <td>0</td>\n",
       "    </tr>\n",
       "    <tr>\n",
       "      <th>...</th>\n",
       "      <td>...</td>\n",
       "      <td>...</td>\n",
       "      <td>...</td>\n",
       "      <td>...</td>\n",
       "      <td>...</td>\n",
       "      <td>...</td>\n",
       "      <td>...</td>\n",
       "      <td>...</td>\n",
       "      <td>...</td>\n",
       "      <td>...</td>\n",
       "      <td>...</td>\n",
       "    </tr>\n",
       "    <tr>\n",
       "      <th>245720</th>\n",
       "      <td>BPAWWXZN</td>\n",
       "      <td>Male</td>\n",
       "      <td>51</td>\n",
       "      <td>RG284</td>\n",
       "      <td>Self_Employed</td>\n",
       "      <td>X3</td>\n",
       "      <td>109</td>\n",
       "      <td>NaN</td>\n",
       "      <td>1925586</td>\n",
       "      <td>No</td>\n",
       "      <td>0</td>\n",
       "    </tr>\n",
       "    <tr>\n",
       "      <th>245721</th>\n",
       "      <td>HFNB7JY8</td>\n",
       "      <td>Male</td>\n",
       "      <td>27</td>\n",
       "      <td>RG268</td>\n",
       "      <td>Salaried</td>\n",
       "      <td>X1</td>\n",
       "      <td>15</td>\n",
       "      <td>No</td>\n",
       "      <td>862952</td>\n",
       "      <td>Yes</td>\n",
       "      <td>0</td>\n",
       "    </tr>\n",
       "    <tr>\n",
       "      <th>245722</th>\n",
       "      <td>GEHAUCWT</td>\n",
       "      <td>Female</td>\n",
       "      <td>26</td>\n",
       "      <td>RG281</td>\n",
       "      <td>Salaried</td>\n",
       "      <td>X1</td>\n",
       "      <td>13</td>\n",
       "      <td>No</td>\n",
       "      <td>670659</td>\n",
       "      <td>No</td>\n",
       "      <td>0</td>\n",
       "    </tr>\n",
       "    <tr>\n",
       "      <th>245723</th>\n",
       "      <td>GE7V8SAH</td>\n",
       "      <td>Female</td>\n",
       "      <td>28</td>\n",
       "      <td>RG273</td>\n",
       "      <td>Salaried</td>\n",
       "      <td>X1</td>\n",
       "      <td>31</td>\n",
       "      <td>No</td>\n",
       "      <td>407504</td>\n",
       "      <td>No</td>\n",
       "      <td>0</td>\n",
       "    </tr>\n",
       "    <tr>\n",
       "      <th>245724</th>\n",
       "      <td>BOCZSWLJ</td>\n",
       "      <td>Male</td>\n",
       "      <td>29</td>\n",
       "      <td>RG269</td>\n",
       "      <td>Salaried</td>\n",
       "      <td>X1</td>\n",
       "      <td>21</td>\n",
       "      <td>No</td>\n",
       "      <td>1129276</td>\n",
       "      <td>No</td>\n",
       "      <td>0</td>\n",
       "    </tr>\n",
       "  </tbody>\n",
       "</table>\n",
       "<p>245725 rows × 11 columns</p>\n",
       "</div>"
      ],
      "text/plain": [
       "              ID  Gender  Age Region_Code     Occupation Channel_Code  \\\n",
       "0       NNVBBKZB  Female   73       RG268          Other           X3   \n",
       "1       IDD62UNG  Female   30       RG277       Salaried           X1   \n",
       "2       HD3DSEMC  Female   56       RG268  Self_Employed           X3   \n",
       "3       BF3NC7KV    Male   34       RG270       Salaried           X1   \n",
       "4       TEASRWXV  Female   30       RG282       Salaried           X1   \n",
       "...          ...     ...  ...         ...            ...          ...   \n",
       "245720  BPAWWXZN    Male   51       RG284  Self_Employed           X3   \n",
       "245721  HFNB7JY8    Male   27       RG268       Salaried           X1   \n",
       "245722  GEHAUCWT  Female   26       RG281       Salaried           X1   \n",
       "245723  GE7V8SAH  Female   28       RG273       Salaried           X1   \n",
       "245724  BOCZSWLJ    Male   29       RG269       Salaried           X1   \n",
       "\n",
       "        Vintage Credit_Product  Avg_Account_Balance Is_Active  Is_Lead  \n",
       "0            43             No              1045696        No        0  \n",
       "1            32             No               581988        No        0  \n",
       "2            26             No              1484315       Yes        0  \n",
       "3            19             No               470454        No        0  \n",
       "4            33             No               886787        No        0  \n",
       "...         ...            ...                  ...       ...      ...  \n",
       "245720      109            NaN              1925586        No        0  \n",
       "245721       15             No               862952       Yes        0  \n",
       "245722       13             No               670659        No        0  \n",
       "245723       31             No               407504        No        0  \n",
       "245724       21             No              1129276        No        0  \n",
       "\n",
       "[245725 rows x 11 columns]"
      ]
     },
     "execution_count": 3,
     "metadata": {},
     "output_type": "execute_result"
    },
    {
     "name": "stdout",
     "output_type": "stream",
     "text": [
      "-----------------------------------------------------\n",
      "Shape\n"
     ]
    },
    {
     "data": {
      "text/plain": [
       "(245725, 11)"
      ]
     },
     "execution_count": 3,
     "metadata": {},
     "output_type": "execute_result"
    },
    {
     "name": "stdout",
     "output_type": "stream",
     "text": [
      "-----------------------------------------------------\n",
      "Describe\n"
     ]
    },
    {
     "data": {
      "text/html": [
       "<div>\n",
       "<style scoped>\n",
       "    .dataframe tbody tr th:only-of-type {\n",
       "        vertical-align: middle;\n",
       "    }\n",
       "\n",
       "    .dataframe tbody tr th {\n",
       "        vertical-align: top;\n",
       "    }\n",
       "\n",
       "    .dataframe thead th {\n",
       "        text-align: right;\n",
       "    }\n",
       "</style>\n",
       "<table border=\"1\" class=\"dataframe\">\n",
       "  <thead>\n",
       "    <tr style=\"text-align: right;\">\n",
       "      <th></th>\n",
       "      <th>count</th>\n",
       "      <th>mean</th>\n",
       "      <th>std</th>\n",
       "      <th>min</th>\n",
       "      <th>25%</th>\n",
       "      <th>50%</th>\n",
       "      <th>75%</th>\n",
       "      <th>max</th>\n",
       "    </tr>\n",
       "  </thead>\n",
       "  <tbody>\n",
       "    <tr>\n",
       "      <th>Age</th>\n",
       "      <td>245725.0</td>\n",
       "      <td>4.385631e+01</td>\n",
       "      <td>14.828672</td>\n",
       "      <td>23.0</td>\n",
       "      <td>30.0</td>\n",
       "      <td>43.0</td>\n",
       "      <td>54.0</td>\n",
       "      <td>85.0</td>\n",
       "    </tr>\n",
       "    <tr>\n",
       "      <th>Vintage</th>\n",
       "      <td>245725.0</td>\n",
       "      <td>4.695914e+01</td>\n",
       "      <td>32.353136</td>\n",
       "      <td>7.0</td>\n",
       "      <td>20.0</td>\n",
       "      <td>32.0</td>\n",
       "      <td>73.0</td>\n",
       "      <td>135.0</td>\n",
       "    </tr>\n",
       "    <tr>\n",
       "      <th>Avg_Account_Balance</th>\n",
       "      <td>245725.0</td>\n",
       "      <td>1.128403e+06</td>\n",
       "      <td>852936.356069</td>\n",
       "      <td>20790.0</td>\n",
       "      <td>604310.0</td>\n",
       "      <td>894601.0</td>\n",
       "      <td>1366666.0</td>\n",
       "      <td>10352009.0</td>\n",
       "    </tr>\n",
       "    <tr>\n",
       "      <th>Is_Lead</th>\n",
       "      <td>245725.0</td>\n",
       "      <td>2.372083e-01</td>\n",
       "      <td>0.425372</td>\n",
       "      <td>0.0</td>\n",
       "      <td>0.0</td>\n",
       "      <td>0.0</td>\n",
       "      <td>0.0</td>\n",
       "      <td>1.0</td>\n",
       "    </tr>\n",
       "  </tbody>\n",
       "</table>\n",
       "</div>"
      ],
      "text/plain": [
       "                        count          mean            std      min       25%  \\\n",
       "Age                  245725.0  4.385631e+01      14.828672     23.0      30.0   \n",
       "Vintage              245725.0  4.695914e+01      32.353136      7.0      20.0   \n",
       "Avg_Account_Balance  245725.0  1.128403e+06  852936.356069  20790.0  604310.0   \n",
       "Is_Lead              245725.0  2.372083e-01       0.425372      0.0       0.0   \n",
       "\n",
       "                          50%        75%         max  \n",
       "Age                      43.0       54.0        85.0  \n",
       "Vintage                  32.0       73.0       135.0  \n",
       "Avg_Account_Balance  894601.0  1366666.0  10352009.0  \n",
       "Is_Lead                   0.0        0.0         1.0  "
      ]
     },
     "execution_count": 3,
     "metadata": {},
     "output_type": "execute_result"
    },
    {
     "name": "stdout",
     "output_type": "stream",
     "text": [
      "-----------------------------------------------------\n",
      "Info\n",
      "<class 'pandas.core.frame.DataFrame'>\n",
      "RangeIndex: 245725 entries, 0 to 245724\n",
      "Data columns (total 11 columns):\n",
      " #   Column               Non-Null Count   Dtype \n",
      "---  ------               --------------   ----- \n",
      " 0   ID                   245725 non-null  object\n",
      " 1   Gender               245725 non-null  object\n",
      " 2   Age                  245725 non-null  int64 \n",
      " 3   Region_Code          245725 non-null  object\n",
      " 4   Occupation           245725 non-null  object\n",
      " 5   Channel_Code         245725 non-null  object\n",
      " 6   Vintage              245725 non-null  int64 \n",
      " 7   Credit_Product       216400 non-null  object\n",
      " 8   Avg_Account_Balance  245725 non-null  int64 \n",
      " 9   Is_Active            245725 non-null  object\n",
      " 10  Is_Lead              245725 non-null  int64 \n",
      "dtypes: int64(4), object(7)\n",
      "memory usage: 20.6+ MB\n"
     ]
    }
   ],
   "source": [
    "#Preliminary examination of dataset / EDA\n",
    "\n",
    "print('Preview')\n",
    "dataset\n",
    "print('-----------------------------------------------------')\n",
    "print('Shape')\n",
    "dataset.shape\n",
    "print('-----------------------------------------------------')\n",
    "print('Describe')\n",
    "dataset.describe().T\n",
    "print('-----------------------------------------------------')\n",
    "print('Info')\n",
    "dataset.info()"
   ]
  },
  {
   "cell_type": "code",
   "execution_count": 4,
   "id": "4e9fe8b9-03fe-46e3-b875-3d3769669c2e",
   "metadata": {},
   "outputs": [
    {
     "name": "stdout",
     "output_type": "stream",
     "text": [
      "Count of lead values (yes/no)\n"
     ]
    },
    {
     "data": {
      "text/plain": [
       "0    187437\n",
       "1     58288\n",
       "Name: Is_Lead, dtype: int64"
      ]
     },
     "execution_count": 4,
     "metadata": {},
     "output_type": "execute_result"
    },
    {
     "name": "stdout",
     "output_type": "stream",
     "text": [
      "-----------------------------------------------------\n",
      "Count of active values (yes/no)\n"
     ]
    },
    {
     "data": {
      "text/plain": [
       "No     150290\n",
       "Yes     95435\n",
       "Name: Is_Active, dtype: int64"
      ]
     },
     "execution_count": 4,
     "metadata": {},
     "output_type": "execute_result"
    },
    {
     "name": "stdout",
     "output_type": "stream",
     "text": [
      "-----------------------------------------------------\n"
     ]
    },
    {
     "data": {
      "text/html": [
       "<div>\n",
       "<style scoped>\n",
       "    .dataframe tbody tr th:only-of-type {\n",
       "        vertical-align: middle;\n",
       "    }\n",
       "\n",
       "    .dataframe tbody tr th {\n",
       "        vertical-align: top;\n",
       "    }\n",
       "\n",
       "    .dataframe thead th {\n",
       "        text-align: right;\n",
       "    }\n",
       "</style>\n",
       "<table border=\"1\" class=\"dataframe\">\n",
       "  <thead>\n",
       "    <tr style=\"text-align: right;\">\n",
       "      <th></th>\n",
       "      <th>Is_Active</th>\n",
       "      <th>Is_Lead</th>\n",
       "    </tr>\n",
       "  </thead>\n",
       "  <tbody>\n",
       "    <tr>\n",
       "      <th>No</th>\n",
       "      <td>150290.0</td>\n",
       "      <td>NaN</td>\n",
       "    </tr>\n",
       "    <tr>\n",
       "      <th>Yes</th>\n",
       "      <td>95435.0</td>\n",
       "      <td>NaN</td>\n",
       "    </tr>\n",
       "    <tr>\n",
       "      <th>0</th>\n",
       "      <td>NaN</td>\n",
       "      <td>187437.0</td>\n",
       "    </tr>\n",
       "    <tr>\n",
       "      <th>1</th>\n",
       "      <td>NaN</td>\n",
       "      <td>58288.0</td>\n",
       "    </tr>\n",
       "  </tbody>\n",
       "</table>\n",
       "</div>"
      ],
      "text/plain": [
       "     Is_Active   Is_Lead\n",
       "No    150290.0       NaN\n",
       "Yes    95435.0       NaN\n",
       "0          NaN  187437.0\n",
       "1          NaN   58288.0"
      ]
     },
     "execution_count": 4,
     "metadata": {},
     "output_type": "execute_result"
    }
   ],
   "source": [
    "#Further EDA\n",
    "print('Count of lead values (yes/no)')\n",
    "dataset.Is_Lead.value_counts()\n",
    "print('-----------------------------------------------------')\n",
    "print('Count of active values (yes/no)')\n",
    "dataset.Is_Active.value_counts()\n",
    "print('-----------------------------------------------------')\n",
    "dataset[['Is_Active', 'Is_Lead']].apply(pd.Series.value_counts)"
   ]
  },
  {
   "cell_type": "markdown",
   "id": "a3db2685-c190-42fe-9896-9b637f68ef7d",
   "metadata": {},
   "source": [
    "### The target (dependent) variable is 'Is_Lead'. This means whether the customer has indicated interest. \n",
    "### The independent variables are Gender,Age,Region Code,Occupation,Channel Code,Vintage,Credit_Product,Avg_Account_Balance,Is_Active"
   ]
  },
  {
   "cell_type": "code",
   "execution_count": 5,
   "id": "26471839-d2b5-4547-9a6c-656af5d160e7",
   "metadata": {},
   "outputs": [],
   "source": [
    "df = dataset"
   ]
  },
  {
   "cell_type": "code",
   "execution_count": 6,
   "id": "83ca8c8e-169c-4db9-985c-3e4a10e89c82",
   "metadata": {},
   "outputs": [
    {
     "name": "stdout",
     "output_type": "stream",
     "text": [
      "Total rows:\n"
     ]
    },
    {
     "data": {
      "text/plain": [
       "(245725, 11)"
      ]
     },
     "execution_count": 6,
     "metadata": {},
     "output_type": "execute_result"
    },
    {
     "name": "stdout",
     "output_type": "stream",
     "text": [
      "Total unique rows:\n"
     ]
    },
    {
     "data": {
      "text/plain": [
       "(245725,)"
      ]
     },
     "execution_count": 6,
     "metadata": {},
     "output_type": "execute_result"
    }
   ],
   "source": [
    "#Data Cleaning\n",
    "\n",
    "#Check that there are no duplicate rows\n",
    "\n",
    "print(\"Total rows:\") \n",
    "df.shape\n",
    "print(\"Total unique rows:\")\n",
    "df.ID.unique().shape\n",
    "\n",
    "#Store original number of rows for comparison of kept/removed rows later (\n",
    "original_row_num = df.shape[0]\n",
    "\n",
    "\n",
    "dfmod = df.copy()\n",
    "\n",
    "#Some columns are uneeded, so we'll go ahead and remove those.\n",
    "dfmod.drop(['ID'], axis=1, inplace=True)\n",
    "\n",
    "\n"
   ]
  },
  {
   "cell_type": "code",
   "execution_count": 7,
   "id": "0695ecbc-377d-4896-b0bc-0183b3af373a",
   "metadata": {},
   "outputs": [
    {
     "data": {
      "text/html": [
       "<div>\n",
       "<style scoped>\n",
       "    .dataframe tbody tr th:only-of-type {\n",
       "        vertical-align: middle;\n",
       "    }\n",
       "\n",
       "    .dataframe tbody tr th {\n",
       "        vertical-align: top;\n",
       "    }\n",
       "\n",
       "    .dataframe thead th {\n",
       "        text-align: right;\n",
       "    }\n",
       "</style>\n",
       "<table border=\"1\" class=\"dataframe\">\n",
       "  <thead>\n",
       "    <tr style=\"text-align: right;\">\n",
       "      <th></th>\n",
       "      <th>Gender</th>\n",
       "      <th>Age</th>\n",
       "      <th>Region_Code</th>\n",
       "      <th>Occupation</th>\n",
       "      <th>Channel_Code</th>\n",
       "      <th>Vintage</th>\n",
       "      <th>Credit_Product</th>\n",
       "      <th>Avg_Account_Balance</th>\n",
       "      <th>Is_Active</th>\n",
       "      <th>Is_Lead</th>\n",
       "    </tr>\n",
       "  </thead>\n",
       "  <tbody>\n",
       "    <tr>\n",
       "      <th>0</th>\n",
       "      <td>1</td>\n",
       "      <td>73</td>\n",
       "      <td>RG268</td>\n",
       "      <td>Other</td>\n",
       "      <td>X3</td>\n",
       "      <td>43</td>\n",
       "      <td>0</td>\n",
       "      <td>1045696</td>\n",
       "      <td>0</td>\n",
       "      <td>0</td>\n",
       "    </tr>\n",
       "    <tr>\n",
       "      <th>1</th>\n",
       "      <td>1</td>\n",
       "      <td>30</td>\n",
       "      <td>RG277</td>\n",
       "      <td>Salaried</td>\n",
       "      <td>X1</td>\n",
       "      <td>32</td>\n",
       "      <td>0</td>\n",
       "      <td>581988</td>\n",
       "      <td>0</td>\n",
       "      <td>0</td>\n",
       "    </tr>\n",
       "    <tr>\n",
       "      <th>2</th>\n",
       "      <td>1</td>\n",
       "      <td>56</td>\n",
       "      <td>RG268</td>\n",
       "      <td>Self_Employed</td>\n",
       "      <td>X3</td>\n",
       "      <td>26</td>\n",
       "      <td>0</td>\n",
       "      <td>1484315</td>\n",
       "      <td>1</td>\n",
       "      <td>0</td>\n",
       "    </tr>\n",
       "    <tr>\n",
       "      <th>3</th>\n",
       "      <td>0</td>\n",
       "      <td>34</td>\n",
       "      <td>RG270</td>\n",
       "      <td>Salaried</td>\n",
       "      <td>X1</td>\n",
       "      <td>19</td>\n",
       "      <td>0</td>\n",
       "      <td>470454</td>\n",
       "      <td>0</td>\n",
       "      <td>0</td>\n",
       "    </tr>\n",
       "    <tr>\n",
       "      <th>4</th>\n",
       "      <td>1</td>\n",
       "      <td>30</td>\n",
       "      <td>RG282</td>\n",
       "      <td>Salaried</td>\n",
       "      <td>X1</td>\n",
       "      <td>33</td>\n",
       "      <td>0</td>\n",
       "      <td>886787</td>\n",
       "      <td>0</td>\n",
       "      <td>0</td>\n",
       "    </tr>\n",
       "    <tr>\n",
       "      <th>...</th>\n",
       "      <td>...</td>\n",
       "      <td>...</td>\n",
       "      <td>...</td>\n",
       "      <td>...</td>\n",
       "      <td>...</td>\n",
       "      <td>...</td>\n",
       "      <td>...</td>\n",
       "      <td>...</td>\n",
       "      <td>...</td>\n",
       "      <td>...</td>\n",
       "    </tr>\n",
       "    <tr>\n",
       "      <th>245720</th>\n",
       "      <td>0</td>\n",
       "      <td>51</td>\n",
       "      <td>RG284</td>\n",
       "      <td>Self_Employed</td>\n",
       "      <td>X3</td>\n",
       "      <td>109</td>\n",
       "      <td>NaN</td>\n",
       "      <td>1925586</td>\n",
       "      <td>0</td>\n",
       "      <td>0</td>\n",
       "    </tr>\n",
       "    <tr>\n",
       "      <th>245721</th>\n",
       "      <td>0</td>\n",
       "      <td>27</td>\n",
       "      <td>RG268</td>\n",
       "      <td>Salaried</td>\n",
       "      <td>X1</td>\n",
       "      <td>15</td>\n",
       "      <td>0</td>\n",
       "      <td>862952</td>\n",
       "      <td>1</td>\n",
       "      <td>0</td>\n",
       "    </tr>\n",
       "    <tr>\n",
       "      <th>245722</th>\n",
       "      <td>1</td>\n",
       "      <td>26</td>\n",
       "      <td>RG281</td>\n",
       "      <td>Salaried</td>\n",
       "      <td>X1</td>\n",
       "      <td>13</td>\n",
       "      <td>0</td>\n",
       "      <td>670659</td>\n",
       "      <td>0</td>\n",
       "      <td>0</td>\n",
       "    </tr>\n",
       "    <tr>\n",
       "      <th>245723</th>\n",
       "      <td>1</td>\n",
       "      <td>28</td>\n",
       "      <td>RG273</td>\n",
       "      <td>Salaried</td>\n",
       "      <td>X1</td>\n",
       "      <td>31</td>\n",
       "      <td>0</td>\n",
       "      <td>407504</td>\n",
       "      <td>0</td>\n",
       "      <td>0</td>\n",
       "    </tr>\n",
       "    <tr>\n",
       "      <th>245724</th>\n",
       "      <td>0</td>\n",
       "      <td>29</td>\n",
       "      <td>RG269</td>\n",
       "      <td>Salaried</td>\n",
       "      <td>X1</td>\n",
       "      <td>21</td>\n",
       "      <td>0</td>\n",
       "      <td>1129276</td>\n",
       "      <td>0</td>\n",
       "      <td>0</td>\n",
       "    </tr>\n",
       "  </tbody>\n",
       "</table>\n",
       "<p>245725 rows × 10 columns</p>\n",
       "</div>"
      ],
      "text/plain": [
       "       Gender  Age Region_Code     Occupation Channel_Code  Vintage  \\\n",
       "0           1   73       RG268          Other           X3       43   \n",
       "1           1   30       RG277       Salaried           X1       32   \n",
       "2           1   56       RG268  Self_Employed           X3       26   \n",
       "3           0   34       RG270       Salaried           X1       19   \n",
       "4           1   30       RG282       Salaried           X1       33   \n",
       "...       ...  ...         ...            ...          ...      ...   \n",
       "245720      0   51       RG284  Self_Employed           X3      109   \n",
       "245721      0   27       RG268       Salaried           X1       15   \n",
       "245722      1   26       RG281       Salaried           X1       13   \n",
       "245723      1   28       RG273       Salaried           X1       31   \n",
       "245724      0   29       RG269       Salaried           X1       21   \n",
       "\n",
       "       Credit_Product  Avg_Account_Balance Is_Active  Is_Lead  \n",
       "0                   0              1045696         0        0  \n",
       "1                   0               581988         0        0  \n",
       "2                   0              1484315         1        0  \n",
       "3                   0               470454         0        0  \n",
       "4                   0               886787         0        0  \n",
       "...               ...                  ...       ...      ...  \n",
       "245720            NaN              1925586         0        0  \n",
       "245721              0               862952         1        0  \n",
       "245722              0               670659         0        0  \n",
       "245723              0               407504         0        0  \n",
       "245724              0              1129276         0        0  \n",
       "\n",
       "[245725 rows x 10 columns]"
      ]
     },
     "execution_count": 7,
     "metadata": {},
     "output_type": "execute_result"
    }
   ],
   "source": [
    "#Turn records into numerical values where possible\n",
    "dfmod[\"Gender\"].replace({\"Male\": \"0\", \"Female\": \"1\"}, inplace=True)\n",
    "dfmod[\"Credit_Product\"].replace({\"No\": \"0\", \"Yes\": \"1\"}, inplace=True)\n",
    "dfmod[\"Is_Active\"].replace({\"No\": \"0\", \"Yes\": \"1\"}, inplace=True)\n",
    "dfmod\n"
   ]
  },
  {
   "cell_type": "code",
   "execution_count": 8,
   "id": "8f8266da-7f16-4eeb-9c51-05e81b822e04",
   "metadata": {},
   "outputs": [
    {
     "data": {
      "text/plain": [
       "Gender                 object\n",
       "Age                     int64\n",
       "Region_Code            object\n",
       "Occupation             object\n",
       "Channel_Code           object\n",
       "Vintage                 int64\n",
       "Credit_Product         object\n",
       "Avg_Account_Balance     int64\n",
       "Is_Active              object\n",
       "Is_Lead                 int64\n",
       "dtype: object"
      ]
     },
     "execution_count": 8,
     "metadata": {},
     "output_type": "execute_result"
    }
   ],
   "source": [
    "# Check the column data types\n",
    "dfmod.dtypes"
   ]
  },
  {
   "cell_type": "code",
   "execution_count": 9,
   "id": "6ee68754-0e92-44c0-8cf3-b7b3fa586c3c",
   "metadata": {},
   "outputs": [
    {
     "name": "stdout",
     "output_type": "stream",
     "text": [
      "Gender: 2\n",
      "Age: 63\n",
      "Region_Code: 35\n",
      "Occupation: 4\n",
      "Channel_Code: 4\n",
      "Vintage: 66\n",
      "Credit_Product: 3\n",
      "Avg_Account_Balance: 135292\n",
      "Is_Active: 2\n",
      "Is_Lead: 2\n"
     ]
    }
   ],
   "source": [
    "# Check how many unique values in all columns\n",
    "for col in dfmod.columns:\n",
    "    count = dfmod[col].unique().shape[0]\n",
    "    print(col + ': ' + str(count))"
   ]
  },
  {
   "cell_type": "code",
   "execution_count": 10,
   "id": "876a7a5a-8f79-4e3c-ae60-a2526d5c72d7",
   "metadata": {},
   "outputs": [
    {
     "data": {
      "text/plain": [
       "Gender                 False\n",
       "Age                    False\n",
       "Region_Code            False\n",
       "Occupation             False\n",
       "Channel_Code           False\n",
       "Vintage                False\n",
       "Credit_Product          True\n",
       "Avg_Account_Balance    False\n",
       "Is_Active              False\n",
       "Is_Lead                False\n",
       "dtype: bool"
      ]
     },
     "execution_count": 10,
     "metadata": {},
     "output_type": "execute_result"
    }
   ],
   "source": [
    "# Check presence of null values in any columns\n",
    "(dfmod.astype(np.object).isnull()).any()"
   ]
  },
  {
   "cell_type": "code",
   "execution_count": 11,
   "id": "c297c1e0-403f-41e6-91bb-b2ca21a564f0",
   "metadata": {},
   "outputs": [
    {
     "name": "stdout",
     "output_type": "stream",
     "text": [
      "Gender 0\n",
      "Age 0\n",
      "Region_Code 0\n",
      "Occupation 0\n",
      "Channel_Code 0\n",
      "Vintage 0\n",
      "Credit_Product 29325\n",
      "Avg_Account_Balance 0\n",
      "Is_Active 0\n",
      "Is_Lead 0\n"
     ]
    }
   ],
   "source": [
    "# Calculate total number of null values in all of the columns\n",
    "for col in dfmod.columns:\n",
    "    count = dfmod[col].isnull().sum()\n",
    "    print(col + ' ' + str(count))"
   ]
  },
  {
   "cell_type": "code",
   "execution_count": 12,
   "id": "2c2fb795-162c-4eb1-bcc2-178569ffa7b6",
   "metadata": {},
   "outputs": [
    {
     "name": "stdout",
     "output_type": "stream",
     "text": [
      "Count of credit product values\n"
     ]
    },
    {
     "data": {
      "text/plain": [
       "0    144357\n",
       "1     72043\n",
       "Name: Credit_Product, dtype: int64"
      ]
     },
     "execution_count": 12,
     "metadata": {},
     "output_type": "execute_result"
    }
   ],
   "source": [
    "print('Count of credit product values')\n",
    "dfmod.Credit_Product.value_counts()"
   ]
  },
  {
   "cell_type": "code",
   "execution_count": 65,
   "id": "4e273b54-45b4-4ca4-b993-e47581a8aa17",
   "metadata": {
    "tags": []
   },
   "outputs": [
    {
     "data": {
      "text/html": [
       "<div>\n",
       "<style scoped>\n",
       "    .dataframe tbody tr th:only-of-type {\n",
       "        vertical-align: middle;\n",
       "    }\n",
       "\n",
       "    .dataframe tbody tr th {\n",
       "        vertical-align: top;\n",
       "    }\n",
       "\n",
       "    .dataframe thead th {\n",
       "        text-align: right;\n",
       "    }\n",
       "</style>\n",
       "<table border=\"1\" class=\"dataframe\">\n",
       "  <thead>\n",
       "    <tr style=\"text-align: right;\">\n",
       "      <th></th>\n",
       "      <th>Gender</th>\n",
       "      <th>Age</th>\n",
       "      <th>Region_Code</th>\n",
       "      <th>Occupation</th>\n",
       "      <th>Channel_Code</th>\n",
       "      <th>Vintage</th>\n",
       "      <th>Credit_Product</th>\n",
       "      <th>Avg_Account_Balance</th>\n",
       "      <th>Is_Active</th>\n",
       "      <th>Is_Lead</th>\n",
       "    </tr>\n",
       "  </thead>\n",
       "  <tbody>\n",
       "    <tr>\n",
       "      <th>0</th>\n",
       "      <td>1</td>\n",
       "      <td>73</td>\n",
       "      <td>RG268</td>\n",
       "      <td>Other</td>\n",
       "      <td>X3</td>\n",
       "      <td>43</td>\n",
       "      <td>0</td>\n",
       "      <td>1045696</td>\n",
       "      <td>0</td>\n",
       "      <td>0</td>\n",
       "    </tr>\n",
       "    <tr>\n",
       "      <th>1</th>\n",
       "      <td>1</td>\n",
       "      <td>30</td>\n",
       "      <td>RG277</td>\n",
       "      <td>Salaried</td>\n",
       "      <td>X1</td>\n",
       "      <td>32</td>\n",
       "      <td>0</td>\n",
       "      <td>581988</td>\n",
       "      <td>0</td>\n",
       "      <td>0</td>\n",
       "    </tr>\n",
       "    <tr>\n",
       "      <th>2</th>\n",
       "      <td>1</td>\n",
       "      <td>56</td>\n",
       "      <td>RG268</td>\n",
       "      <td>Self_Employed</td>\n",
       "      <td>X3</td>\n",
       "      <td>26</td>\n",
       "      <td>0</td>\n",
       "      <td>1484315</td>\n",
       "      <td>1</td>\n",
       "      <td>0</td>\n",
       "    </tr>\n",
       "    <tr>\n",
       "      <th>3</th>\n",
       "      <td>0</td>\n",
       "      <td>34</td>\n",
       "      <td>RG270</td>\n",
       "      <td>Salaried</td>\n",
       "      <td>X1</td>\n",
       "      <td>19</td>\n",
       "      <td>0</td>\n",
       "      <td>470454</td>\n",
       "      <td>0</td>\n",
       "      <td>0</td>\n",
       "    </tr>\n",
       "    <tr>\n",
       "      <th>4</th>\n",
       "      <td>1</td>\n",
       "      <td>30</td>\n",
       "      <td>RG282</td>\n",
       "      <td>Salaried</td>\n",
       "      <td>X1</td>\n",
       "      <td>33</td>\n",
       "      <td>0</td>\n",
       "      <td>886787</td>\n",
       "      <td>0</td>\n",
       "      <td>0</td>\n",
       "    </tr>\n",
       "    <tr>\n",
       "      <th>...</th>\n",
       "      <td>...</td>\n",
       "      <td>...</td>\n",
       "      <td>...</td>\n",
       "      <td>...</td>\n",
       "      <td>...</td>\n",
       "      <td>...</td>\n",
       "      <td>...</td>\n",
       "      <td>...</td>\n",
       "      <td>...</td>\n",
       "      <td>...</td>\n",
       "    </tr>\n",
       "    <tr>\n",
       "      <th>245720</th>\n",
       "      <td>0</td>\n",
       "      <td>51</td>\n",
       "      <td>RG284</td>\n",
       "      <td>Self_Employed</td>\n",
       "      <td>X3</td>\n",
       "      <td>109</td>\n",
       "      <td>2</td>\n",
       "      <td>1925586</td>\n",
       "      <td>0</td>\n",
       "      <td>0</td>\n",
       "    </tr>\n",
       "    <tr>\n",
       "      <th>245721</th>\n",
       "      <td>0</td>\n",
       "      <td>27</td>\n",
       "      <td>RG268</td>\n",
       "      <td>Salaried</td>\n",
       "      <td>X1</td>\n",
       "      <td>15</td>\n",
       "      <td>0</td>\n",
       "      <td>862952</td>\n",
       "      <td>1</td>\n",
       "      <td>0</td>\n",
       "    </tr>\n",
       "    <tr>\n",
       "      <th>245722</th>\n",
       "      <td>1</td>\n",
       "      <td>26</td>\n",
       "      <td>RG281</td>\n",
       "      <td>Salaried</td>\n",
       "      <td>X1</td>\n",
       "      <td>13</td>\n",
       "      <td>0</td>\n",
       "      <td>670659</td>\n",
       "      <td>0</td>\n",
       "      <td>0</td>\n",
       "    </tr>\n",
       "    <tr>\n",
       "      <th>245723</th>\n",
       "      <td>1</td>\n",
       "      <td>28</td>\n",
       "      <td>RG273</td>\n",
       "      <td>Salaried</td>\n",
       "      <td>X1</td>\n",
       "      <td>31</td>\n",
       "      <td>0</td>\n",
       "      <td>407504</td>\n",
       "      <td>0</td>\n",
       "      <td>0</td>\n",
       "    </tr>\n",
       "    <tr>\n",
       "      <th>245724</th>\n",
       "      <td>0</td>\n",
       "      <td>29</td>\n",
       "      <td>RG269</td>\n",
       "      <td>Salaried</td>\n",
       "      <td>X1</td>\n",
       "      <td>21</td>\n",
       "      <td>0</td>\n",
       "      <td>1129276</td>\n",
       "      <td>0</td>\n",
       "      <td>0</td>\n",
       "    </tr>\n",
       "  </tbody>\n",
       "</table>\n",
       "<p>245725 rows × 10 columns</p>\n",
       "</div>"
      ],
      "text/plain": [
       "        Gender  Age Region_Code     Occupation Channel_Code  Vintage  \\\n",
       "0            1   73       RG268          Other           X3       43   \n",
       "1            1   30       RG277       Salaried           X1       32   \n",
       "2            1   56       RG268  Self_Employed           X3       26   \n",
       "3            0   34       RG270       Salaried           X1       19   \n",
       "4            1   30       RG282       Salaried           X1       33   \n",
       "...        ...  ...         ...            ...          ...      ...   \n",
       "245720       0   51       RG284  Self_Employed           X3      109   \n",
       "245721       0   27       RG268       Salaried           X1       15   \n",
       "245722       1   26       RG281       Salaried           X1       13   \n",
       "245723       1   28       RG273       Salaried           X1       31   \n",
       "245724       0   29       RG269       Salaried           X1       21   \n",
       "\n",
       "        Credit_Product  Avg_Account_Balance  Is_Active  Is_Lead  \n",
       "0                    0              1045696          0        0  \n",
       "1                    0               581988          0        0  \n",
       "2                    0              1484315          1        0  \n",
       "3                    0               470454          0        0  \n",
       "4                    0               886787          0        0  \n",
       "...                ...                  ...        ...      ...  \n",
       "245720               2              1925586          0        0  \n",
       "245721               0               862952          1        0  \n",
       "245722               0               670659          0        0  \n",
       "245723               0               407504          0        0  \n",
       "245724               0              1129276          0        0  \n",
       "\n",
       "[245725 rows x 10 columns]"
      ]
     },
     "execution_count": 65,
     "metadata": {},
     "output_type": "execute_result"
    }
   ],
   "source": [
    "#Since null values in Credit_Product column constitute a significant portion of the data, impute them to \"999\"\n",
    "\n",
    "dfmod['Credit_Product'].fillna(\"999\",inplace=True)\n",
    "dfmod"
   ]
  },
  {
   "cell_type": "code",
   "execution_count": 14,
   "id": "80d0d7fd-2a9f-42f9-958f-71aa2583e969",
   "metadata": {},
   "outputs": [
    {
     "data": {
      "text/plain": [
       "Gender                 False\n",
       "Age                    False\n",
       "Region_Code            False\n",
       "Occupation             False\n",
       "Channel_Code           False\n",
       "Vintage                False\n",
       "Credit_Product         False\n",
       "Avg_Account_Balance    False\n",
       "Is_Active              False\n",
       "Is_Lead                False\n",
       "dtype: bool"
      ]
     },
     "execution_count": 14,
     "metadata": {},
     "output_type": "execute_result"
    },
    {
     "name": "stdout",
     "output_type": "stream",
     "text": [
      "-----------------------------------------------------\n",
      "Gender 0\n",
      "Age 0\n",
      "Region_Code 0\n",
      "Occupation 0\n",
      "Channel_Code 0\n",
      "Vintage 0\n",
      "Credit_Product 0\n",
      "Avg_Account_Balance 0\n",
      "Is_Active 0\n",
      "Is_Lead 0\n"
     ]
    }
   ],
   "source": [
    "# Recheck presence of nulls\n",
    "(dfmod.astype(np.object).isnull()).any()\n",
    "print('-----------------------------------------------------')\n",
    "for col in dfmod.columns:\n",
    "    count = dfmod[col].isnull().sum()\n",
    "    print(col + ' ' + str(count))"
   ]
  },
  {
   "cell_type": "code",
   "execution_count": 15,
   "id": "0c20ced1-1af0-4f23-b125-1a2481f2ce84",
   "metadata": {},
   "outputs": [
    {
     "name": "stdout",
     "output_type": "stream",
     "text": [
      "Count of credit product values\n"
     ]
    },
    {
     "data": {
      "text/plain": [
       "0    144357\n",
       "1     72043\n",
       "2     29325\n",
       "Name: Credit_Product, dtype: int64"
      ]
     },
     "execution_count": 15,
     "metadata": {},
     "output_type": "execute_result"
    }
   ],
   "source": [
    "#Check values in that column once more\n",
    "print('Count of credit product values')\n",
    "dfmod.Credit_Product.value_counts()"
   ]
  },
  {
   "cell_type": "code",
   "execution_count": 16,
   "id": "930ab19f-92b8-4f62-a91b-77e48c495991",
   "metadata": {},
   "outputs": [
    {
     "data": {
      "text/plain": [
       "Gender                 object\n",
       "Age                     int64\n",
       "Region_Code            object\n",
       "Occupation             object\n",
       "Channel_Code           object\n",
       "Vintage                 int64\n",
       "Credit_Product         object\n",
       "Avg_Account_Balance     int64\n",
       "Is_Active              object\n",
       "Is_Lead                 int64\n",
       "dtype: object"
      ]
     },
     "execution_count": 16,
     "metadata": {},
     "output_type": "execute_result"
    }
   ],
   "source": [
    "# Check the column data types again\n",
    "dfmod.dtypes"
   ]
  },
  {
   "cell_type": "code",
   "execution_count": 17,
   "id": "922738eb-5380-454e-8f67-8e5e4f0e1191",
   "metadata": {},
   "outputs": [
    {
     "data": {
      "text/plain": [
       "Gender                  int64\n",
       "Age                     int64\n",
       "Region_Code            object\n",
       "Occupation             object\n",
       "Channel_Code           object\n",
       "Vintage                 int64\n",
       "Credit_Product          int64\n",
       "Avg_Account_Balance     int64\n",
       "Is_Active               int64\n",
       "Is_Lead                 int64\n",
       "dtype: object"
      ]
     },
     "execution_count": 17,
     "metadata": {},
     "output_type": "execute_result"
    }
   ],
   "source": [
    "#Convert numeric columns to the appropriate type where possible\n",
    "dfmod = dfmod.apply(pd.to_numeric, errors='ignore')\n",
    "dfmod.dtypes"
   ]
  },
  {
   "cell_type": "code",
   "execution_count": 18,
   "id": "58f756c5-afdd-437a-94df-526328d5df55",
   "metadata": {},
   "outputs": [
    {
     "data": {
      "text/plain": [
       "0    187437\n",
       "1     58288\n",
       "Name: Is_Lead, dtype: int64"
      ]
     },
     "execution_count": 18,
     "metadata": {},
     "output_type": "execute_result"
    }
   ],
   "source": [
    "# # Check the balance of the dataset\n",
    "# # This dataset is unbalanced and will have to be dealt with in different ways\n",
    "dfmod.Is_Lead.value_counts()\n",
    "\n"
   ]
  },
  {
   "cell_type": "code",
   "execution_count": 19,
   "id": "d863de3c-8cc6-4602-83d9-a23d61f401f5",
   "metadata": {},
   "outputs": [],
   "source": [
    "# # Segment the dataset for visualization\n",
    "# dfmod_Lead_Yes = dfmod[dfmod['Is_Lead'] == \"1\"]\n",
    "# dfmod_Lead_No = dfmod[dfmod['Is_Lead'] == \"0\"]"
   ]
  },
  {
   "cell_type": "code",
   "execution_count": 20,
   "id": "7a62fc9d-b7e0-450a-a8d0-1246a6851589",
   "metadata": {},
   "outputs": [
    {
     "data": {
      "text/html": [
       "<div>\n",
       "<style scoped>\n",
       "    .dataframe tbody tr th:only-of-type {\n",
       "        vertical-align: middle;\n",
       "    }\n",
       "\n",
       "    .dataframe tbody tr th {\n",
       "        vertical-align: top;\n",
       "    }\n",
       "\n",
       "    .dataframe thead th {\n",
       "        text-align: right;\n",
       "    }\n",
       "</style>\n",
       "<table border=\"1\" class=\"dataframe\">\n",
       "  <thead>\n",
       "    <tr style=\"text-align: right;\">\n",
       "      <th></th>\n",
       "      <th>Gender</th>\n",
       "      <th>Age</th>\n",
       "      <th>Region_Code</th>\n",
       "      <th>Occupation</th>\n",
       "      <th>Channel_Code</th>\n",
       "      <th>Vintage</th>\n",
       "      <th>Credit_Product</th>\n",
       "      <th>Avg_Account_Balance</th>\n",
       "      <th>Is_Active</th>\n",
       "      <th>Is_Lead</th>\n",
       "    </tr>\n",
       "  </thead>\n",
       "  <tbody>\n",
       "    <tr>\n",
       "      <th>183183</th>\n",
       "      <td>0</td>\n",
       "      <td>44</td>\n",
       "      <td>RG280</td>\n",
       "      <td>Self_Employed</td>\n",
       "      <td>X2</td>\n",
       "      <td>19</td>\n",
       "      <td>2</td>\n",
       "      <td>597635</td>\n",
       "      <td>0</td>\n",
       "      <td>0</td>\n",
       "    </tr>\n",
       "    <tr>\n",
       "      <th>83294</th>\n",
       "      <td>0</td>\n",
       "      <td>70</td>\n",
       "      <td>RG281</td>\n",
       "      <td>Other</td>\n",
       "      <td>X2</td>\n",
       "      <td>79</td>\n",
       "      <td>2</td>\n",
       "      <td>1232124</td>\n",
       "      <td>0</td>\n",
       "      <td>1</td>\n",
       "    </tr>\n",
       "    <tr>\n",
       "      <th>42793</th>\n",
       "      <td>0</td>\n",
       "      <td>36</td>\n",
       "      <td>RG259</td>\n",
       "      <td>Other</td>\n",
       "      <td>X1</td>\n",
       "      <td>31</td>\n",
       "      <td>0</td>\n",
       "      <td>734419</td>\n",
       "      <td>0</td>\n",
       "      <td>0</td>\n",
       "    </tr>\n",
       "    <tr>\n",
       "      <th>17845</th>\n",
       "      <td>0</td>\n",
       "      <td>31</td>\n",
       "      <td>RG251</td>\n",
       "      <td>Salaried</td>\n",
       "      <td>X1</td>\n",
       "      <td>15</td>\n",
       "      <td>0</td>\n",
       "      <td>602841</td>\n",
       "      <td>0</td>\n",
       "      <td>1</td>\n",
       "    </tr>\n",
       "    <tr>\n",
       "      <th>35636</th>\n",
       "      <td>0</td>\n",
       "      <td>27</td>\n",
       "      <td>RG263</td>\n",
       "      <td>Other</td>\n",
       "      <td>X1</td>\n",
       "      <td>14</td>\n",
       "      <td>0</td>\n",
       "      <td>293815</td>\n",
       "      <td>1</td>\n",
       "      <td>0</td>\n",
       "    </tr>\n",
       "    <tr>\n",
       "      <th>107939</th>\n",
       "      <td>1</td>\n",
       "      <td>33</td>\n",
       "      <td>RG279</td>\n",
       "      <td>Salaried</td>\n",
       "      <td>X1</td>\n",
       "      <td>33</td>\n",
       "      <td>0</td>\n",
       "      <td>654942</td>\n",
       "      <td>0</td>\n",
       "      <td>0</td>\n",
       "    </tr>\n",
       "    <tr>\n",
       "      <th>109709</th>\n",
       "      <td>0</td>\n",
       "      <td>78</td>\n",
       "      <td>RG268</td>\n",
       "      <td>Other</td>\n",
       "      <td>X2</td>\n",
       "      <td>57</td>\n",
       "      <td>1</td>\n",
       "      <td>753064</td>\n",
       "      <td>0</td>\n",
       "      <td>0</td>\n",
       "    </tr>\n",
       "    <tr>\n",
       "      <th>6317</th>\n",
       "      <td>0</td>\n",
       "      <td>36</td>\n",
       "      <td>RG262</td>\n",
       "      <td>Self_Employed</td>\n",
       "      <td>X1</td>\n",
       "      <td>31</td>\n",
       "      <td>0</td>\n",
       "      <td>2113376</td>\n",
       "      <td>0</td>\n",
       "      <td>0</td>\n",
       "    </tr>\n",
       "    <tr>\n",
       "      <th>197444</th>\n",
       "      <td>1</td>\n",
       "      <td>25</td>\n",
       "      <td>RG280</td>\n",
       "      <td>Salaried</td>\n",
       "      <td>X1</td>\n",
       "      <td>14</td>\n",
       "      <td>0</td>\n",
       "      <td>396601</td>\n",
       "      <td>0</td>\n",
       "      <td>0</td>\n",
       "    </tr>\n",
       "    <tr>\n",
       "      <th>30818</th>\n",
       "      <td>0</td>\n",
       "      <td>51</td>\n",
       "      <td>RG284</td>\n",
       "      <td>Other</td>\n",
       "      <td>X2</td>\n",
       "      <td>56</td>\n",
       "      <td>0</td>\n",
       "      <td>879987</td>\n",
       "      <td>1</td>\n",
       "      <td>0</td>\n",
       "    </tr>\n",
       "  </tbody>\n",
       "</table>\n",
       "</div>"
      ],
      "text/plain": [
       "        Gender  Age Region_Code     Occupation Channel_Code  Vintage  \\\n",
       "183183       0   44       RG280  Self_Employed           X2       19   \n",
       "83294        0   70       RG281          Other           X2       79   \n",
       "42793        0   36       RG259          Other           X1       31   \n",
       "17845        0   31       RG251       Salaried           X1       15   \n",
       "35636        0   27       RG263          Other           X1       14   \n",
       "107939       1   33       RG279       Salaried           X1       33   \n",
       "109709       0   78       RG268          Other           X2       57   \n",
       "6317         0   36       RG262  Self_Employed           X1       31   \n",
       "197444       1   25       RG280       Salaried           X1       14   \n",
       "30818        0   51       RG284          Other           X2       56   \n",
       "\n",
       "        Credit_Product  Avg_Account_Balance  Is_Active  Is_Lead  \n",
       "183183               2               597635          0        0  \n",
       "83294                2              1232124          0        1  \n",
       "42793                0               734419          0        0  \n",
       "17845                0               602841          0        1  \n",
       "35636                0               293815          1        0  \n",
       "107939               0               654942          0        0  \n",
       "109709               1               753064          0        0  \n",
       "6317                 0              2113376          0        0  \n",
       "197444               0               396601          0        0  \n",
       "30818                0               879987          1        0  "
      ]
     },
     "execution_count": 20,
     "metadata": {},
     "output_type": "execute_result"
    }
   ],
   "source": [
    "dfmod.sample(10)"
   ]
  },
  {
   "cell_type": "code",
   "execution_count": 21,
   "id": "9542c30a-2cfb-4d34-8ab0-ae7d73ea0932",
   "metadata": {},
   "outputs": [
    {
     "data": {
      "text/plain": [
       "<seaborn.axisgrid.FacetGrid at 0x24ae5e06fa0>"
      ]
     },
     "execution_count": 21,
     "metadata": {},
     "output_type": "execute_result"
    },
    {
     "data": {
      "image/png": "[encoded data removed]",
      "text/plain": [
       "<Figure size 360x360 with 1 Axes>"
      ]
     },
     "metadata": {
      "needs_background": "light"
     },
     "output_type": "display_data"
    }
   ],
   "source": [
    "# Look at the differences between leads and non-leads in terms of average account balance\n",
    "### Customers that have left have a higher monthly charge\n",
    "\n",
    "sns.factorplot(x = 'Is_Lead', y = 'Avg_Account_Balance', data = dfmod,  kind=\"box\")"
   ]
  },
  {
   "cell_type": "code",
   "execution_count": 22,
   "id": "d8a23831-a3b9-4144-aaa1-e65f2ba83f61",
   "metadata": {},
   "outputs": [
    {
     "data": {
      "text/plain": [
       "<seaborn.axisgrid.FacetGrid at 0x24aec13cf10>"
      ]
     },
     "execution_count": 22,
     "metadata": {},
     "output_type": "execute_result"
    },
    {
     "data": {
      "image/png": "[encoded data removed]",
      "text/plain": [
       "<Figure size 360x360 with 1 Axes>"
      ]
     },
     "metadata": {
      "needs_background": "light"
     },
     "output_type": "display_data"
    }
   ],
   "source": [
    "# Look at the differences between active and inactive clients in terms of average account balance \n",
    "### Customers that have left have a higher monthly charge\n",
    "\n",
    "sns.factorplot(x = 'Is_Active', y = 'Avg_Account_Balance', data = dfmod,  kind=\"box\")"
   ]
  },
  {
   "cell_type": "code",
   "execution_count": 23,
   "id": "516cc778-b2d5-4ee7-b46e-7ffcf497a093",
   "metadata": {},
   "outputs": [],
   "source": [
    "#Takes too long\n",
    "# Check the scatter plot of average account balance \n",
    "# plt.figure(figsize=(15, 5))\n",
    "# plt.scatter(df['Avg_Account_Balance'], df['ID'], alpha=0.1)"
   ]
  },
  {
   "cell_type": "code",
   "execution_count": 24,
   "id": "5ec33a91-c9d1-40a1-ab0d-15ccbf3eb221",
   "metadata": {},
   "outputs": [
    {
     "data": {
      "text/plain": [
       "<Figure size 1224x576 with 0 Axes>"
      ]
     },
     "execution_count": 24,
     "metadata": {},
     "output_type": "execute_result"
    },
    {
     "data": {
      "text/plain": [
       "<AxesSubplot:>"
      ]
     },
     "execution_count": 24,
     "metadata": {},
     "output_type": "execute_result"
    },
    {
     "data": {
      "image/png": "[encoded data removed]",
      "text/plain": [
       "<Figure size 1224x576 with 2 Axes>"
      ]
     },
     "metadata": {
      "needs_background": "light"
     },
     "output_type": "display_data"
    }
   ],
   "source": [
    "from sklearn.preprocessing import OrdinalEncoder\n",
    "\n",
    "# Create an ordinal encoder and apply it to the dataframe\n",
    "df_corr = dfmod.copy()\n",
    "encoder = OrdinalEncoder()\n",
    "for col in df_corr.columns:\n",
    "    if dfmod[col].dtype == 'object':\n",
    "        x = df_corr[col].values.reshape(-1, 1)\n",
    "        df_corr[col] = encoder.fit_transform(x)\n",
    "        \n",
    "# Create a correlation heatmap to check correlation between all features\n",
    "plt.figure(figsize=(17, 8))\n",
    "sns.heatmap(df_corr.corr(), vmin=-1, cmap='coolwarm', annot=True)"
   ]
  },
  {
   "cell_type": "markdown",
   "id": "18432d6c-2092-4f84-b546-33027d006b0c",
   "metadata": {},
   "source": [
    "Based on the heatmap, it seems that there is not a large correlation between any single feature and the target variable. \n",
    "The highest correlation is to credit product, but that by itself is not good enough.\n",
    "Perhaps ML can extract a pattern by considering all factors together."
   ]
  },
  {
   "cell_type": "code",
   "execution_count": 32,
   "id": "7ae40f28-8da8-403c-bf95-d76041495622",
   "metadata": {},
   "outputs": [
    {
     "data": {
      "image/png": "[encoded data removed]",
      "text/plain": [
       "<Figure size 576x360 with 1 Axes>"
      ]
     },
     "metadata": {},
     "output_type": "display_data"
    }
   ],
   "source": [
    "Active = dfmod.loc[dfmod['Is_Active'] == 1].count()[0]\n",
    "Inactive= dfmod.loc[dfmod['Is_Active'] == 0].count()[0]\n",
    "\n",
    "plt.figure(figsize=(8,5))\n",
    "\n",
    "labels = ['Active', 'Inactive']\n",
    "colors = ['#21D44B', '#9F6500']\n",
    "\n",
    "plt.pie([Active, Inactive], labels = labels, colors=colors, autopct='%.2f %%')\n",
    "\n",
    "plt.title('Active/Inactive Clients')\n",
    "\n",
    "plt.show();"
   ]
  },
  {
   "cell_type": "code",
   "execution_count": 31,
   "id": "37c8236a-8052-444f-b500-8630f1600adf",
   "metadata": {},
   "outputs": [
    {
     "data": {
      "image/png": "[encoded data removed]",
      "text/plain": [
       "<Figure size 576x360 with 1 Axes>"
      ]
     },
     "metadata": {},
     "output_type": "display_data"
    }
   ],
   "source": [
    "Active = dfmod.loc[dfmod['Is_Lead'] == 1].count()[0]\n",
    "Inactive= dfmod.loc[dfmod['Is_Lead'] == 0].count()[0]\n",
    "\n",
    "plt.figure(figsize=(8,5))\n",
    "\n",
    "labels = ['Lead', 'Not a Lead']\n",
    "colors = ['#21D44B', '#9F6500']\n",
    "\n",
    "plt.pie([Active, Inactive], labels = labels, colors=colors, autopct='%.2f %%')\n",
    "\n",
    "plt.title('How many leads do we have?')\n",
    "\n",
    "plt.show();"
   ]
  },
  {
   "cell_type": "code",
   "execution_count": 34,
   "id": "6abfb83a-da0a-454d-9f39-0159daf3d9e8",
   "metadata": {},
   "outputs": [
    {
     "data": {
      "text/html": [
       "<div>\n",
       "<style scoped>\n",
       "    .dataframe tbody tr th:only-of-type {\n",
       "        vertical-align: middle;\n",
       "    }\n",
       "\n",
       "    .dataframe tbody tr th {\n",
       "        vertical-align: top;\n",
       "    }\n",
       "\n",
       "    .dataframe thead th {\n",
       "        text-align: right;\n",
       "    }\n",
       "</style>\n",
       "<table border=\"1\" class=\"dataframe\">\n",
       "  <thead>\n",
       "    <tr style=\"text-align: right;\">\n",
       "      <th></th>\n",
       "      <th>count</th>\n",
       "      <th>mean</th>\n",
       "      <th>std</th>\n",
       "      <th>min</th>\n",
       "      <th>25%</th>\n",
       "      <th>50%</th>\n",
       "      <th>75%</th>\n",
       "      <th>max</th>\n",
       "    </tr>\n",
       "  </thead>\n",
       "  <tbody>\n",
       "    <tr>\n",
       "      <th>Gender</th>\n",
       "      <td>245725.0</td>\n",
       "      <td>4.538732e-01</td>\n",
       "      <td>0.497869</td>\n",
       "      <td>0.0</td>\n",
       "      <td>0.0</td>\n",
       "      <td>0.0</td>\n",
       "      <td>1.0</td>\n",
       "      <td>1.0</td>\n",
       "    </tr>\n",
       "    <tr>\n",
       "      <th>Age</th>\n",
       "      <td>245725.0</td>\n",
       "      <td>4.385631e+01</td>\n",
       "      <td>14.828672</td>\n",
       "      <td>23.0</td>\n",
       "      <td>30.0</td>\n",
       "      <td>43.0</td>\n",
       "      <td>54.0</td>\n",
       "      <td>85.0</td>\n",
       "    </tr>\n",
       "    <tr>\n",
       "      <th>Vintage</th>\n",
       "      <td>245725.0</td>\n",
       "      <td>4.695914e+01</td>\n",
       "      <td>32.353136</td>\n",
       "      <td>7.0</td>\n",
       "      <td>20.0</td>\n",
       "      <td>32.0</td>\n",
       "      <td>73.0</td>\n",
       "      <td>135.0</td>\n",
       "    </tr>\n",
       "    <tr>\n",
       "      <th>Credit_Product</th>\n",
       "      <td>245725.0</td>\n",
       "      <td>5.318669e-01</td>\n",
       "      <td>0.698332</td>\n",
       "      <td>0.0</td>\n",
       "      <td>0.0</td>\n",
       "      <td>0.0</td>\n",
       "      <td>1.0</td>\n",
       "      <td>2.0</td>\n",
       "    </tr>\n",
       "    <tr>\n",
       "      <th>Avg_Account_Balance</th>\n",
       "      <td>245725.0</td>\n",
       "      <td>1.128403e+06</td>\n",
       "      <td>852936.356069</td>\n",
       "      <td>20790.0</td>\n",
       "      <td>604310.0</td>\n",
       "      <td>894601.0</td>\n",
       "      <td>1366666.0</td>\n",
       "      <td>10352009.0</td>\n",
       "    </tr>\n",
       "    <tr>\n",
       "      <th>Is_Active</th>\n",
       "      <td>245725.0</td>\n",
       "      <td>3.883813e-01</td>\n",
       "      <td>0.487383</td>\n",
       "      <td>0.0</td>\n",
       "      <td>0.0</td>\n",
       "      <td>0.0</td>\n",
       "      <td>1.0</td>\n",
       "      <td>1.0</td>\n",
       "    </tr>\n",
       "    <tr>\n",
       "      <th>Is_Lead</th>\n",
       "      <td>245725.0</td>\n",
       "      <td>2.372083e-01</td>\n",
       "      <td>0.425372</td>\n",
       "      <td>0.0</td>\n",
       "      <td>0.0</td>\n",
       "      <td>0.0</td>\n",
       "      <td>0.0</td>\n",
       "      <td>1.0</td>\n",
       "    </tr>\n",
       "  </tbody>\n",
       "</table>\n",
       "</div>"
      ],
      "text/plain": [
       "                        count          mean            std      min       25%  \\\n",
       "Gender               245725.0  4.538732e-01       0.497869      0.0       0.0   \n",
       "Age                  245725.0  4.385631e+01      14.828672     23.0      30.0   \n",
       "Vintage              245725.0  4.695914e+01      32.353136      7.0      20.0   \n",
       "Credit_Product       245725.0  5.318669e-01       0.698332      0.0       0.0   \n",
       "Avg_Account_Balance  245725.0  1.128403e+06  852936.356069  20790.0  604310.0   \n",
       "Is_Active            245725.0  3.883813e-01       0.487383      0.0       0.0   \n",
       "Is_Lead              245725.0  2.372083e-01       0.425372      0.0       0.0   \n",
       "\n",
       "                          50%        75%         max  \n",
       "Gender                    0.0        1.0         1.0  \n",
       "Age                      43.0       54.0        85.0  \n",
       "Vintage                  32.0       73.0       135.0  \n",
       "Credit_Product            0.0        1.0         2.0  \n",
       "Avg_Account_Balance  894601.0  1366666.0  10352009.0  \n",
       "Is_Active                 0.0        1.0         1.0  \n",
       "Is_Lead                   0.0        0.0         1.0  "
      ]
     },
     "execution_count": 34,
     "metadata": {},
     "output_type": "execute_result"
    }
   ],
   "source": [
    "dfmod.describe().T"
   ]
  },
  {
   "cell_type": "code",
   "execution_count": 75,
   "id": "d887be33-532d-497a-9b61-a8a442494158",
   "metadata": {},
   "outputs": [
    {
     "data": {
      "image/png": "[encoded data removed]",
      "text/plain": [
       "<Figure size 1296x360 with 1 Axes>"
      ]
     },
     "metadata": {
      "needs_background": "light"
     },
     "output_type": "display_data"
    }
   ],
   "source": [
    "#Checking average account balances\n",
    "#Unsure how to use this\n",
    "\n",
    "# bins = [1000000,2000000,3000000,5000000]\n",
    "\n",
    "plt.figure(figsize=(18,5))\n",
    "# display(fifa.Overall.value_counts().sort_values())\n",
    "\n",
    "plt.hist(df1.Avg_Account_Balance, bins=50, color='#abcdef')\n",
    "\n",
    "\n",
    "# plt.xticks(bins)\n",
    "# plt.yticks([600,1000])\n",
    "\n",
    "\n",
    "# plt.ylabel('Number of Clients')\n",
    "# plt.xlabel('Account Balance')\n",
    "# plt.title('Average Client Monthly Account Balance')\n",
    "\n",
    "# # plt.savefig('histogram.png', dpi=300)\n",
    "\n",
    "plt.show();"
   ]
  },
  {
   "cell_type": "code",
   "execution_count": 43,
   "id": "386e0f56-72c9-4a8e-9b15-85dcbd73152b",
   "metadata": {},
   "outputs": [
    {
     "data": {
      "text/html": [
       "<div>\n",
       "<style scoped>\n",
       "    .dataframe tbody tr th:only-of-type {\n",
       "        vertical-align: middle;\n",
       "    }\n",
       "\n",
       "    .dataframe tbody tr th {\n",
       "        vertical-align: top;\n",
       "    }\n",
       "\n",
       "    .dataframe thead th {\n",
       "        text-align: right;\n",
       "    }\n",
       "</style>\n",
       "<table border=\"1\" class=\"dataframe\">\n",
       "  <thead>\n",
       "    <tr style=\"text-align: right;\">\n",
       "      <th></th>\n",
       "      <th>Gender</th>\n",
       "      <th>Age</th>\n",
       "      <th>Vintage</th>\n",
       "      <th>Credit_Product</th>\n",
       "      <th>Avg_Account_Balance</th>\n",
       "      <th>Is_Lead</th>\n",
       "    </tr>\n",
       "    <tr>\n",
       "      <th>Is_Active</th>\n",
       "      <th></th>\n",
       "      <th></th>\n",
       "      <th></th>\n",
       "      <th></th>\n",
       "      <th></th>\n",
       "      <th></th>\n",
       "    </tr>\n",
       "  </thead>\n",
       "  <tbody>\n",
       "    <tr>\n",
       "      <th>0</th>\n",
       "      <td>0.479347</td>\n",
       "      <td>41.271209</td>\n",
       "      <td>41.561674</td>\n",
       "      <td>0.538599</td>\n",
       "      <td>1.076315e+06</td>\n",
       "      <td>0.208151</td>\n",
       "    </tr>\n",
       "    <tr>\n",
       "      <th>1</th>\n",
       "      <td>0.413758</td>\n",
       "      <td>47.927291</td>\n",
       "      <td>55.459014</td>\n",
       "      <td>0.521266</td>\n",
       "      <td>1.210431e+06</td>\n",
       "      <td>0.282967</td>\n",
       "    </tr>\n",
       "  </tbody>\n",
       "</table>\n",
       "</div>"
      ],
      "text/plain": [
       "             Gender        Age    Vintage  Credit_Product  \\\n",
       "Is_Active                                                   \n",
       "0          0.479347  41.271209  41.561674        0.538599   \n",
       "1          0.413758  47.927291  55.459014        0.521266   \n",
       "\n",
       "           Avg_Account_Balance   Is_Lead  \n",
       "Is_Active                                 \n",
       "0                 1.076315e+06  0.208151  \n",
       "1                 1.210431e+06  0.282967  "
      ]
     },
     "execution_count": 43,
     "metadata": {},
     "output_type": "execute_result"
    }
   ],
   "source": [
    "dfmod.groupby(\"Is_Active\").mean()"
   ]
  },
  {
   "cell_type": "code",
   "execution_count": 76,
   "id": "8313e8fa-ebb4-4ff7-8e5c-2be8969b4de9",
   "metadata": {},
   "outputs": [
    {
     "data": {
      "text/html": [
       "<div>\n",
       "<style scoped>\n",
       "    .dataframe tbody tr th:only-of-type {\n",
       "        vertical-align: middle;\n",
       "    }\n",
       "\n",
       "    .dataframe tbody tr th {\n",
       "        vertical-align: top;\n",
       "    }\n",
       "\n",
       "    .dataframe thead th {\n",
       "        text-align: right;\n",
       "    }\n",
       "</style>\n",
       "<table border=\"1\" class=\"dataframe\">\n",
       "  <thead>\n",
       "    <tr style=\"text-align: right;\">\n",
       "      <th></th>\n",
       "      <th>Age</th>\n",
       "      <th>Vintage</th>\n",
       "      <th>Avg_Account_Balance</th>\n",
       "    </tr>\n",
       "    <tr>\n",
       "      <th>Is_Lead</th>\n",
       "      <th></th>\n",
       "      <th></th>\n",
       "      <th></th>\n",
       "    </tr>\n",
       "  </thead>\n",
       "  <tbody>\n",
       "    <tr>\n",
       "      <th>0</th>\n",
       "      <td>41.920131</td>\n",
       "      <td>41.853071</td>\n",
       "      <td>1.064763e+06</td>\n",
       "    </tr>\n",
       "    <tr>\n",
       "      <th>1</th>\n",
       "      <td>49.977704</td>\n",
       "      <td>63.111996</td>\n",
       "      <td>1.172077e+06</td>\n",
       "    </tr>\n",
       "  </tbody>\n",
       "</table>\n",
       "</div>"
      ],
      "text/plain": [
       "               Age    Vintage  Avg_Account_Balance\n",
       "Is_Lead                                           \n",
       "0        41.920131  41.853071         1.064763e+06\n",
       "1        49.977704  63.111996         1.172077e+06"
      ]
     },
     "execution_count": 76,
     "metadata": {},
     "output_type": "execute_result"
    }
   ],
   "source": [
    "df1.groupby(\"Is_Lead\").mean()"
   ]
  },
  {
   "cell_type": "code",
   "execution_count": 53,
   "id": "afbe86cc-65d0-4a19-99f7-8ad5c252c504",
   "metadata": {},
   "outputs": [],
   "source": [
    "# # from sklearn.datasets import load_iris\n",
    "# # iris = load_iris()\n",
    "# # # print(iris)\n",
    "# # features = iris.data.T\n",
    "# # # display(type(iris),iris.data, iris.data.T)\n",
    "\n",
    "# plt.scatter(features[0], features[1], alpha=0.2,\n",
    "#             s=100*features[3], c=dfmod.Avg_Account_Balance, cmap='viridis')\n",
    "# plt.xlabel(dfmod.Avg_Account_Balance[0])\n",
    "# plt.ylabel(dfmod.Is_Active[1]);"
   ]
  },
  {
   "cell_type": "code",
   "execution_count": 62,
   "id": "3cc378d4-bae4-4562-8cec-9626a03bf72e",
   "metadata": {},
   "outputs": [],
   "source": [
    "# plt.rcParams['figure.figsize'] = [12, 5]\n",
    "\n",
    "# # df1 = np.loadtxt(\"../../data/outlier_1d.txt\")\n",
    "# # df2 = np.loadtxt(\"../../data/outlier_2d.txt\")\n",
    "# # df3 = np.loadtxt(\"../../data/outlier_curve.txt\")\n",
    "# # print(df1.shape, df2.shape)\n",
    "\n",
    "# plt.scatter(dfmod, np.random.normal(7, 0.2, size=dfmod.Avg_Account_Balance), s=1, alpha=0.5)\n",
    "# # plt.scatter(df2[:, 0], df2[:, 1], s=5)\n",
    "# plt.show();\n",
    "# # plt.plot(df3[:, 0], df3[:, 1]);\n",
    "# ;"
   ]
  },
  {
   "cell_type": "code",
   "execution_count": null,
   "id": "516effab-aa2e-4f3a-9d0f-fdd9157a9f7e",
   "metadata": {},
   "outputs": [],
   "source": []
  },
  {
   "cell_type": "code",
   "execution_count": 64,
   "id": "0359b495-f107-4c07-b092-39d3fc09ee7c",
   "metadata": {},
   "outputs": [
    {
     "ename": "NameError",
     "evalue": "name 'X' is not defined",
     "output_type": "error",
     "traceback": [
      "\u001b[1;31m---------------------------------------------------------------------------\u001b[0m",
      "\u001b[1;31mNameError\u001b[0m                                 Traceback (most recent call last)",
      "\u001b[1;32m~\\AppData\\Local\\Temp/ipykernel_1516/983700636.py\u001b[0m in \u001b[0;36m<module>\u001b[1;34m\u001b[0m\n\u001b[0;32m      2\u001b[0m \u001b[1;32mfrom\u001b[0m \u001b[0msklearn\u001b[0m\u001b[1;33m.\u001b[0m\u001b[0mpreprocessing\u001b[0m \u001b[1;32mimport\u001b[0m \u001b[0mOneHotEncoder\u001b[0m\u001b[1;33m\u001b[0m\u001b[1;33m\u001b[0m\u001b[0m\n\u001b[0;32m      3\u001b[0m \u001b[0mct\u001b[0m \u001b[1;33m=\u001b[0m \u001b[0mColumnTransformer\u001b[0m\u001b[1;33m(\u001b[0m\u001b[0mtransformers\u001b[0m\u001b[1;33m=\u001b[0m\u001b[1;33m[\u001b[0m\u001b[1;33m(\u001b[0m\u001b[1;34m'encoder'\u001b[0m\u001b[1;33m,\u001b[0m \u001b[0mOneHotEncoder\u001b[0m\u001b[1;33m(\u001b[0m\u001b[1;33m)\u001b[0m\u001b[1;33m,\u001b[0m \u001b[1;33m[\u001b[0m\u001b[1;36m3\u001b[0m\u001b[1;33m]\u001b[0m\u001b[1;33m)\u001b[0m\u001b[1;33m]\u001b[0m\u001b[1;33m,\u001b[0m \u001b[0mremainder\u001b[0m\u001b[1;33m=\u001b[0m\u001b[1;34m'passthrough'\u001b[0m\u001b[1;33m)\u001b[0m\u001b[1;33m\u001b[0m\u001b[1;33m\u001b[0m\u001b[0m\n\u001b[1;32m----> 4\u001b[1;33m \u001b[0mX\u001b[0m \u001b[1;33m=\u001b[0m \u001b[0mnp\u001b[0m\u001b[1;33m.\u001b[0m\u001b[0marray\u001b[0m\u001b[1;33m(\u001b[0m\u001b[0mct\u001b[0m\u001b[1;33m.\u001b[0m\u001b[0mfit_transform\u001b[0m\u001b[1;33m(\u001b[0m\u001b[0mX\u001b[0m\u001b[1;33m)\u001b[0m\u001b[1;33m)\u001b[0m \u001b[1;31m# __init__, fit, transform\u001b[0m\u001b[1;33m\u001b[0m\u001b[1;33m\u001b[0m\u001b[0m\n\u001b[0m",
      "\u001b[1;31mNameError\u001b[0m: name 'X' is not defined"
     ]
    }
   ],
   "source": [
    "# from sklearn.compose import ColumnTransformer\n",
    "# from sklearn.preprocessing import OneHotEncoder\n",
    "# ct = ColumnTransformer(transformers=[('encoder', OneHotEncoder(), [3])], remainder='passthrough')\n",
    "# X = np.array(ct.fit_transform(X)) # __init__, fit, transform"
   ]
  },
  {
   "cell_type": "code",
   "execution_count": 66,
   "id": "01bb7752-a8da-4e98-8ba6-e2a78ed9189e",
   "metadata": {},
   "outputs": [],
   "source": [
    "df1 = df[df[\"Avg_Account_Balance\"] <5000000]"
   ]
  },
  {
   "cell_type": "code",
   "execution_count": null,
   "id": "1e452cf8-2d8b-4c2b-a0de-47bb100f449b",
   "metadata": {},
   "outputs": [],
   "source": []
  }
 ],
 "metadata": {
  "kernelspec": {
   "display_name": "Python 3 (ipykernel)",
   "language": "python",
   "name": "python3"
  },
  "language_info": {
   "codemirror_mode": {
    "name": "ipython",
    "version": 3
   },
   "file_extension": ".py",
   "mimetype": "text/x-python",
   "name": "python",
   "nbconvert_exporter": "python",
   "pygments_lexer": "ipython3",
   "version": "3.9.6"
  }
 },
 "nbformat": 4,
 "nbformat_minor": 5
}
